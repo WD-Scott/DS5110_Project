{
 "cells": [
  {
   "cell_type": "markdown",
   "id": "ee813ffe-0481-4a0b-babf-9f1ea051d700",
   "metadata": {},
   "source": [
    "## The value the model seeks to predict is the `mvp_share` column, which represents the result of the MVP voting for each season.\n",
    "\n",
    "### mvp_share $= \\frac{PtsWon}{PtsMax}$"
   ]
  },
  {
   "cell_type": "code",
   "execution_count": 2,
   "id": "d8963ff3-3d5c-4179-9e8f-c2cd880bbd80",
   "metadata": {
    "tags": []
   },
   "outputs": [],
   "source": [
    "import os\n",
    "os.chdir('/Users/wyattscott/Documents/DS5110/Project_Final_Files')\n",
    "from helper_functions import print_importances, print_dict_imps, avg_imps, percent_formatter, plot_comparison_for_season\n",
    "\n",
    "import numpy as np\n",
    "import pandas as pd\n",
    "import seaborn as sns\n",
    "\n",
    "import plotly.graph_objs as go\n",
    "from ipywidgets import interact, widgets\n",
    "import plotly.express as px\n",
    "import dash\n",
    "from dash import dcc, html\n",
    "from dash.dependencies import Input, Output\n",
    "import matplotlib.pyplot as plt\n",
    "from matplotlib.ticker import FuncFormatter\n",
    "from sklearn.metrics import mean_absolute_error, r2_score, mean_squared_error\n",
    "from sklearn.model_selection import train_test_split\n",
    "\n",
    "import joblib\n",
    "# Load the best model from Models.ipynb\n",
    "best_model = joblib.load('best_model.pkl')"
   ]
  },
  {
   "cell_type": "code",
   "execution_count": 3,
   "id": "d99a677b-643d-4a82-a0b4-7397f0b1b4c5",
   "metadata": {
    "tags": []
   },
   "outputs": [],
   "source": [
    "# Load the data\n",
    "df_selected = pd.read_csv('df_selected.csv')\n",
    "features = list(df_selected.columns)\n",
    "features.append('mvp_share')\n",
    "features.append('Rank')\n",
    "df_train = pd.read_csv('df_clean.csv', usecols=features)\n",
    "labels = df_train.pop(\"mvp_share\")\n",
    "stratify = df_train.pop(\"Rank\")\n",
    "del features[10]\n",
    "del features[10]\n",
    "features.append('Season')\n",
    "features.append('name')\n",
    "df_test = pd.read_csv('df_last.csv', usecols=features)\n",
    "df_test.rename(columns={'name': 'Name'}, inplace=True)\n",
    "del features[10]\n",
    "del features[10]"
   ]
  },
  {
   "cell_type": "code",
   "execution_count": 4,
   "id": "019c88f2-4431-461a-b94d-efa8429dac99",
   "metadata": {
    "tags": []
   },
   "outputs": [],
   "source": [
    "(X_train, X_test, y_train, y_test) = train_test_split(df_train, \n",
    "                                                      labels, \n",
    "                                                      test_size=0.2, \n",
    "                                                      shuffle=True, \n",
    "                                                      random_state=28, \n",
    "                                                      stratify=stratify)\n",
    "\n",
    "# Convert each dataset to array\n",
    "y_train = y_train.values\n",
    "y_test = y_test.values\n",
    "X_train = X_train.values\n",
    "X_test = X_test.values"
   ]
  },
  {
   "cell_type": "markdown",
   "id": "296a7495-e33b-466a-bae4-a6d162e669b9",
   "metadata": {},
   "source": [
    "#### Use the best model from `Models.ipynb`"
   ]
  },
  {
   "cell_type": "code",
   "execution_count": 5,
   "id": "337b12cb-6ea7-4740-8da1-7b3483be3875",
   "metadata": {
    "tags": []
   },
   "outputs": [
    {
     "data": {
      "text/html": [
       "<style>#sk-container-id-1 {color: black;}#sk-container-id-1 pre{padding: 0;}#sk-container-id-1 div.sk-toggleable {background-color: white;}#sk-container-id-1 label.sk-toggleable__label {cursor: pointer;display: block;width: 100%;margin-bottom: 0;padding: 0.3em;box-sizing: border-box;text-align: center;}#sk-container-id-1 label.sk-toggleable__label-arrow:before {content: \"▸\";float: left;margin-right: 0.25em;color: #696969;}#sk-container-id-1 label.sk-toggleable__label-arrow:hover:before {color: black;}#sk-container-id-1 div.sk-estimator:hover label.sk-toggleable__label-arrow:before {color: black;}#sk-container-id-1 div.sk-toggleable__content {max-height: 0;max-width: 0;overflow: hidden;text-align: left;background-color: #f0f8ff;}#sk-container-id-1 div.sk-toggleable__content pre {margin: 0.2em;color: black;border-radius: 0.25em;background-color: #f0f8ff;}#sk-container-id-1 input.sk-toggleable__control:checked~div.sk-toggleable__content {max-height: 200px;max-width: 100%;overflow: auto;}#sk-container-id-1 input.sk-toggleable__control:checked~label.sk-toggleable__label-arrow:before {content: \"▾\";}#sk-container-id-1 div.sk-estimator input.sk-toggleable__control:checked~label.sk-toggleable__label {background-color: #d4ebff;}#sk-container-id-1 div.sk-label input.sk-toggleable__control:checked~label.sk-toggleable__label {background-color: #d4ebff;}#sk-container-id-1 input.sk-hidden--visually {border: 0;clip: rect(1px 1px 1px 1px);clip: rect(1px, 1px, 1px, 1px);height: 1px;margin: -1px;overflow: hidden;padding: 0;position: absolute;width: 1px;}#sk-container-id-1 div.sk-estimator {font-family: monospace;background-color: #f0f8ff;border: 1px dotted black;border-radius: 0.25em;box-sizing: border-box;margin-bottom: 0.5em;}#sk-container-id-1 div.sk-estimator:hover {background-color: #d4ebff;}#sk-container-id-1 div.sk-parallel-item::after {content: \"\";width: 100%;border-bottom: 1px solid gray;flex-grow: 1;}#sk-container-id-1 div.sk-label:hover label.sk-toggleable__label {background-color: #d4ebff;}#sk-container-id-1 div.sk-serial::before {content: \"\";position: absolute;border-left: 1px solid gray;box-sizing: border-box;top: 0;bottom: 0;left: 50%;z-index: 0;}#sk-container-id-1 div.sk-serial {display: flex;flex-direction: column;align-items: center;background-color: white;padding-right: 0.2em;padding-left: 0.2em;position: relative;}#sk-container-id-1 div.sk-item {position: relative;z-index: 1;}#sk-container-id-1 div.sk-parallel {display: flex;align-items: stretch;justify-content: center;background-color: white;position: relative;}#sk-container-id-1 div.sk-item::before, #sk-container-id-1 div.sk-parallel-item::before {content: \"\";position: absolute;border-left: 1px solid gray;box-sizing: border-box;top: 0;bottom: 0;left: 50%;z-index: -1;}#sk-container-id-1 div.sk-parallel-item {display: flex;flex-direction: column;z-index: 1;position: relative;background-color: white;}#sk-container-id-1 div.sk-parallel-item:first-child::after {align-self: flex-end;width: 50%;}#sk-container-id-1 div.sk-parallel-item:last-child::after {align-self: flex-start;width: 50%;}#sk-container-id-1 div.sk-parallel-item:only-child::after {width: 0;}#sk-container-id-1 div.sk-dashed-wrapped {border: 1px dashed gray;margin: 0 0.4em 0.5em 0.4em;box-sizing: border-box;padding-bottom: 0.4em;background-color: white;}#sk-container-id-1 div.sk-label label {font-family: monospace;font-weight: bold;display: inline-block;line-height: 1.2em;}#sk-container-id-1 div.sk-label-container {text-align: center;}#sk-container-id-1 div.sk-container {/* jupyter's `normalize.less` sets `[hidden] { display: none; }` but bootstrap.min.css set `[hidden] { display: none !important; }` so we also need the `!important` here to be able to override the default hidden behavior on the sphinx rendered scikit-learn.org. See: https://github.com/scikit-learn/scikit-learn/issues/21755 */display: inline-block !important;position: relative;}#sk-container-id-1 div.sk-text-repr-fallback {display: none;}</style><div id=\"sk-container-id-1\" class=\"sk-top-container\"><div class=\"sk-text-repr-fallback\"><pre>XGBRegressor(base_score=None, booster=None, callbacks=None,\n",
       "             colsample_bylevel=None, colsample_bynode=None,\n",
       "             colsample_bytree=0.8950154950027478, device=None,\n",
       "             early_stopping_rounds=None, enable_categorical=False,\n",
       "             eval_metric=None, feature_types=None, gamma=0.0, grow_policy=None,\n",
       "             importance_type=None, interaction_constraints=None,\n",
       "             learning_rate=0.22865380301066274, max_bin=None,\n",
       "             max_cat_threshold=None, max_cat_to_onehot=None,\n",
       "             max_delta_step=None, max_depth=3, max_leaves=None,\n",
       "             min_child_weight=1, missing=nan, monotone_constraints=None,\n",
       "             multi_strategy=None, n_estimators=500, n_jobs=None,\n",
       "             num_parallel_tree=None, random_state=28, ...)</pre><b>In a Jupyter environment, please rerun this cell to show the HTML representation or trust the notebook. <br />On GitHub, the HTML representation is unable to render, please try loading this page with nbviewer.org.</b></div><div class=\"sk-container\" hidden><div class=\"sk-item\"><div class=\"sk-estimator sk-toggleable\"><input class=\"sk-toggleable__control sk-hidden--visually\" id=\"sk-estimator-id-1\" type=\"checkbox\" checked><label for=\"sk-estimator-id-1\" class=\"sk-toggleable__label sk-toggleable__label-arrow\">XGBRegressor</label><div class=\"sk-toggleable__content\"><pre>XGBRegressor(base_score=None, booster=None, callbacks=None,\n",
       "             colsample_bylevel=None, colsample_bynode=None,\n",
       "             colsample_bytree=0.8950154950027478, device=None,\n",
       "             early_stopping_rounds=None, enable_categorical=False,\n",
       "             eval_metric=None, feature_types=None, gamma=0.0, grow_policy=None,\n",
       "             importance_type=None, interaction_constraints=None,\n",
       "             learning_rate=0.22865380301066274, max_bin=None,\n",
       "             max_cat_threshold=None, max_cat_to_onehot=None,\n",
       "             max_delta_step=None, max_depth=3, max_leaves=None,\n",
       "             min_child_weight=1, missing=nan, monotone_constraints=None,\n",
       "             multi_strategy=None, n_estimators=500, n_jobs=None,\n",
       "             num_parallel_tree=None, random_state=28, ...)</pre></div></div></div></div></div>"
      ],
      "text/plain": [
       "XGBRegressor(base_score=None, booster=None, callbacks=None,\n",
       "             colsample_bylevel=None, colsample_bynode=None,\n",
       "             colsample_bytree=0.8950154950027478, device=None,\n",
       "             early_stopping_rounds=None, enable_categorical=False,\n",
       "             eval_metric=None, feature_types=None, gamma=0.0, grow_policy=None,\n",
       "             importance_type=None, interaction_constraints=None,\n",
       "             learning_rate=0.22865380301066274, max_bin=None,\n",
       "             max_cat_threshold=None, max_cat_to_onehot=None,\n",
       "             max_delta_step=None, max_depth=3, max_leaves=None,\n",
       "             min_child_weight=1, missing=nan, monotone_constraints=None,\n",
       "             multi_strategy=None, n_estimators=500, n_jobs=None,\n",
       "             num_parallel_tree=None, random_state=28, ...)"
      ]
     },
     "execution_count": 5,
     "metadata": {},
     "output_type": "execute_result"
    }
   ],
   "source": [
    "best_model.fit(X_train, y_train)"
   ]
  },
  {
   "cell_type": "code",
   "execution_count": 6,
   "id": "2cdb61df-5a4b-4f51-87a2-40fb5bbde37b",
   "metadata": {
    "tags": []
   },
   "outputs": [
    {
     "name": "stdout",
     "output_type": "stream",
     "text": [
      "Test MSE: 0.0014443088499275286\n",
      "Test R-squared: 0.7169794565142685\n"
     ]
    }
   ],
   "source": [
    "# Make predictions on the test data using the best model\n",
    "y_pred = best_model.predict(X_test)\n",
    "\n",
    "# Evaluate the best model using mean squared error and R-squared\n",
    "mse = mean_squared_error(y_test, y_pred)\n",
    "r2 = r2_score(y_test, y_pred)\n",
    "\n",
    "print(\"Test MSE:\", mse)\n",
    "print(\"Test R-squared:\", r2)"
   ]
  },
  {
   "cell_type": "markdown",
   "id": "8a8bf410-4891-4d76-b3d8-3a177b5b6116",
   "metadata": {},
   "source": [
    "---"
   ]
  },
  {
   "cell_type": "markdown",
   "id": "e5589389-29d7-4ca8-80a7-3c4dcba3b0db",
   "metadata": {},
   "source": [
    "## Testing"
   ]
  },
  {
   "cell_type": "code",
   "execution_count": 7,
   "id": "a2b48f39-4efb-4a3b-ad3b-da2ae42a8a89",
   "metadata": {
    "tags": []
   },
   "outputs": [],
   "source": [
    "dfs_n_last = []\n",
    "for season_n in df_test['Season'].unique():\n",
    "        df_n = df_test[df_test['Season'] == season_n].copy()\n",
    "        names_n = df_n[\"Name\"].values\n",
    "        df_n.drop(['Season', 'Name'], axis=\"columns\", inplace=True)\n",
    "        feature_n = df_n.to_numpy()\n",
    "\n",
    "        prediction = best_model.predict(feature_n)\n",
    "        df_curr = pd.DataFrame(data=feature_n, index=None, columns=features)\n",
    "        df_curr['Season'] = season_n\n",
    "        df_curr['name'] = names_n\n",
    "        df_curr['predicted'] = prediction * 100\n",
    "        dfs_n_last.append(df_curr)\n",
    "        df_curr = df_curr.sort_values(by=['predicted'], ascending=False, ignore_index=True)\n",
    "        \n",
    "df_pred = pd.concat(dfs_n_last, ignore_index=True)"
   ]
  },
  {
   "cell_type": "markdown",
   "id": "86360236-bccc-477d-9e2d-f63ae679e9ab",
   "metadata": {},
   "source": [
    "### Compare Against True Share"
   ]
  },
  {
   "cell_type": "code",
   "execution_count": 8,
   "id": "2fce60c3-662d-468d-89d2-0f5208cecb2b",
   "metadata": {
    "tags": []
   },
   "outputs": [],
   "source": [
    "#df_pred = pd.read_csv('predictions.csv')\n",
    "keep = list(df_pred.columns)\n",
    "del keep[12]\n",
    "keep.append('mvp_share')\n",
    "df_full = pd.read_csv('mvp_data_edit.csv', usecols=keep)\n",
    "# Merge df_pred with df_full on \"name\" and \"Season\" columns\n",
    "merged_df = pd.merge(df_pred, df_full[['name', 'Season', 'mvp_share']], \n",
    "                     on=['name', 'Season'], how='left')\n",
    "# Rename the 'mvp_share' column to 'actual' in the merged dataframe\n",
    "merged_df.rename(columns={'mvp_share': 'actual'}, inplace=True)\n",
    "merged_df['actual'] *= 100"
   ]
  },
  {
   "cell_type": "code",
   "execution_count": 9,
   "id": "b58454f2-f280-4eaf-9bfd-942701a338f5",
   "metadata": {
    "tags": []
   },
   "outputs": [],
   "source": [
    "interactive_df = merged_df.copy()\n",
    "# Filter to seasons predicted (2018-22)\n",
    "interactive_df = interactive_df[interactive_df['Season'] >= 2018]\n",
    "# Filter top 7 players for each Season\n",
    "interactive_df = interactive_df.groupby('Season').apply(lambda x: x.nlargest(7, 'actual')).reset_index(drop=True)\n",
    "# Pull out the feature importances\n",
    "feature_importances = best_model.feature_importances_\n",
    "# Normalize feature importances\n",
    "normalized_importances = feature_importances / np.sum(feature_importances)\n",
    "# Construct index\n",
    "index_values = np.dot(interactive_df[features].values, normalized_importances)\n",
    "# Add index values as a new column to the DataFrame\n",
    "interactive_df['index'] = index_values"
   ]
  },
  {
   "cell_type": "code",
   "execution_count": null,
   "id": "ef5600c6-5696-4418-8a42-aa0085e8e7e8",
   "metadata": {
    "tags": []
   },
   "outputs": [],
   "source": [
    "# Define custom colors for 'predicted' and 'actual'\n",
    "custom_palette = {'predicted': '#E57200', 'actual': '#232D4B'}"
   ]
  },
  {
   "cell_type": "code",
   "execution_count": null,
   "id": "841c7040-2dfc-467a-a2ec-5baec1fa3031",
   "metadata": {
    "tags": []
   },
   "outputs": [],
   "source": [
    "# Iterate over unique values in the 'Season' column and create separate plots for each\n",
    "unique_seasons = merged_df['Season'].unique()"
   ]
  },
  {
   "cell_type": "code",
   "execution_count": null,
   "id": "d5c9133d-2551-4643-8952-31bc723b87b5",
   "metadata": {
    "tags": []
   },
   "outputs": [],
   "source": [
    "plot_comparison_for_season(merged_df, 2022)"
   ]
  },
  {
   "cell_type": "code",
   "execution_count": null,
   "id": "e8f0b5d5-612f-4ed2-9912-ceba0c38bd81",
   "metadata": {
    "tags": []
   },
   "outputs": [],
   "source": [
    "plot_comparison_for_season(merged_df, 2021)"
   ]
  },
  {
   "cell_type": "code",
   "execution_count": null,
   "id": "a44bdb89-b7d9-45d8-a15f-e6f906f8c144",
   "metadata": {
    "tags": []
   },
   "outputs": [],
   "source": [
    "plot_comparison_for_season(merged_df, 2020)"
   ]
  },
  {
   "cell_type": "code",
   "execution_count": null,
   "id": "fcf4dd76-2491-48ad-8b5e-a3391418abd2",
   "metadata": {
    "tags": []
   },
   "outputs": [],
   "source": [
    "plot_comparison_for_season(merged_df, 2019)"
   ]
  },
  {
   "cell_type": "code",
   "execution_count": null,
   "id": "1f282420-ea87-4bf2-aacb-494b75e58da6",
   "metadata": {
    "tags": []
   },
   "outputs": [],
   "source": [
    "plot_comparison_for_season(merged_df, 2018)"
   ]
  },
  {
   "cell_type": "code",
   "execution_count": null,
   "id": "4b9660c5-ef13-4ee6-baf0-e373e5d85f01",
   "metadata": {
    "tags": []
   },
   "outputs": [],
   "source": [
    "df_results = pd.read_csv('mvp_data_edit.csv')\n",
    "# Drop Wins and Conference because we combined in cleaning notebook\n",
    "df_results.drop(columns=['conference', 'W'], inplace=True)\n",
    "# Filter to seasons after 1980 as we do in training\n",
    "df_results = df_results[df_results['Season'] >= 1980]\n",
    "# Pull out the feature importances\n",
    "feature_importances = best_model.feature_importances_\n",
    "# Normalize feature importances\n",
    "normalized_importances = feature_importances / np.sum(feature_importances)\n",
    "# Construct index\n",
    "index_values = np.dot(df_results[features].values, normalized_importances)\n",
    "# Add index values as a new column to the DataFrame\n",
    "df_results['index'] = index_values\n",
    "# Rank the 'Index' column within each season group and store the result in a new column 'Ranked_Index'\n",
    "df_results['Ranked_Index'] = df_results.groupby('Season')['index'].rank(ascending=False)"
   ]
  },
  {
   "cell_type": "code",
   "execution_count": null,
   "id": "38dec72e-0e95-4d79-9c27-e5cb2f447a12",
   "metadata": {
    "tags": []
   },
   "outputs": [],
   "source": [
    "df_results.to_csv('results.csv', index=False)"
   ]
  },
  {
   "cell_type": "markdown",
   "id": "d91b23d2-f46b-4299-974a-85489cca697c",
   "metadata": {},
   "source": [
    "---"
   ]
  },
  {
   "cell_type": "code",
   "execution_count": 11,
   "id": "6c9f7a24-47ec-43fe-bb8e-dd753e94a761",
   "metadata": {
    "tags": []
   },
   "outputs": [],
   "source": [
    "df = interactive_df.copy()"
   ]
  },
  {
   "cell_type": "code",
   "execution_count": 15,
   "id": "9d0b8884-84ff-49c0-9543-d892d3d26bbf",
   "metadata": {
    "tags": []
   },
   "outputs": [
    {
     "data": {
      "application/vnd.jupyter.widget-view+json": {
       "model_id": "ad7bf97d6c71436eb699fa149ec9e639",
       "version_major": 2,
       "version_minor": 0
      },
      "text/plain": [
       "interactive(children=(Dropdown(description='Player:', options=('James Harden', 'LeBron James', 'Anthony Davis'…"
      ]
     },
     "metadata": {},
     "output_type": "display_data"
    }
   ],
   "source": [
    "# Function to generate and display the bar chart\n",
    "def display_bar_chart(player_name, year):\n",
    "    filtered_data = df[(df['name'] == player_name) & (df['Season'] == year)]\n",
    "    if filtered_data.empty:\n",
    "        print(\"No data found for the selected player and year.\")\n",
    "        return\n",
    "\n",
    "    fig = go.Figure()\n",
    "    fig.add_trace(go.Bar(x=filtered_data[\"name\"],\n",
    "                         y=filtered_data[\"predicted\"],\n",
    "                         name=\"Predicted\",\n",
    "                         marker_color='rgb(229, 114, 0)'\n",
    "                         ))\n",
    "    fig.add_trace(go.Bar(x=filtered_data[\"name\"],\n",
    "                         y=filtered_data[\"actual\"],\n",
    "                         name=\"Actual\",\n",
    "                         marker_color='rgb(35, 45, 75)'\n",
    "                         ))\n",
    "\n",
    "    fig.update_layout(barmode='group', xaxis_tickangle=0,\n",
    "                      title=f\"Player: {player_name}, Year: {year}\",\n",
    "                      xaxis=dict(title='Player'),\n",
    "                      yaxis=dict(title='Value'),\n",
    "                      legend=dict(x=0, y=1.0, bgcolor='rgba(255, 255, 255, 0)', bordercolor='rgba(255, 255, 255, 0)')\n",
    "                      )\n",
    "    \n",
    "    return fig\n",
    "\n",
    "# Create interactive widgets for player name and year\n",
    "player_name_widget = widgets.Dropdown(options=df['name'].unique(), description='Player:')\n",
    "year_widget = widgets.Dropdown(options=df['Season'].unique(), description='Year:')\n",
    "\n",
    "# Generate the interactive chart\n",
    "interactive_chart = interact(display_bar_chart, player_name=player_name_widget, year=year_widget)\n",
    "\n",
    "# Export the interactive chart as HTML\n",
    "interactive_chart_fig = interactive_chart.widget.result\n",
    "interactive_chart_html = interactive_chart_fig.to_html(full_html=False, include_plotlyjs='cdn')\n",
    "\n",
    "# Save the HTML file\n",
    "file_path = \"interactive_chart.html\"\n",
    "with open(file_path, \"w\") as file:\n",
    "    file.write(interactive_chart_html)"
   ]
  },
  {
   "cell_type": "code",
   "execution_count": null,
   "id": "69b94d87-af4b-4ad5-8c00-f4a672d3021d",
   "metadata": {},
   "outputs": [],
   "source": []
  }
 ],
 "metadata": {
  "kernelspec": {
   "display_name": "Python 3 (ipykernel)",
   "language": "python",
   "name": "python3"
  },
  "language_info": {
   "codemirror_mode": {
    "name": "ipython",
    "version": 3
   },
   "file_extension": ".py",
   "mimetype": "text/x-python",
   "name": "python",
   "nbconvert_exporter": "python",
   "pygments_lexer": "ipython3",
   "version": "3.11.0"
  }
 },
 "nbformat": 4,
 "nbformat_minor": 5
}
