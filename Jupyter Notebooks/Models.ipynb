{
 "cells": [
  {
   "cell_type": "markdown",
   "id": "7b4958d9-bdde-4907-8321-09e9310796cb",
   "metadata": {},
   "source": [
    "# Modeling Notebook:\n",
    "\n",
    "### This notebook includes the code for training, testing, and comparing our models. We use six different modeling approachs to find the best, compairing MSE and $R^2$.\n",
    "\n",
    "### The models we experiment with include:\n",
    "- Decision Tree\n",
    "- Extra Trees\n",
    "- AdaBoost\n",
    "- Random Forest\n",
    "- Gradient Boosting\n",
    "- Extrene Gradient Boosting\n",
    "\n",
    "### We extract feature importance scores from each model to inform our index construction."
   ]
  },
  {
   "cell_type": "code",
   "execution_count": 59,
   "id": "f047465d-9e7f-430d-905d-2e8f1fc91123",
   "metadata": {
    "tags": []
   },
   "outputs": [],
   "source": [
    "import pandas as pd\n",
    "import numpy as np\n",
    "import time\n",
    "import joblib\n",
    "import seaborn as sns\n",
    "import matplotlib.pyplot as plt\n",
    "import shap\n",
    "import pickle\n",
    "import platform\n",
    "\n",
    "from skopt import BayesSearchCV\n",
    "from skopt.space import Categorical, Real, Integer\n",
    "from sklearn.svm import SVR\n",
    "from sklearn.metrics import mean_absolute_error, r2_score, mean_squared_error\n",
    "from sklearn.feature_selection import SelectKBest, f_regression\n",
    "from sklearn.model_selection import train_test_split, GridSearchCV, RandomizedSearchCV\n",
    "from sklearn import metrics, linear_model\n",
    "from sklearn.compose import ColumnTransformer\n",
    "from sklearn.ensemble import RandomForestRegressor, GradientBoostingRegressor, ExtraTreesRegressor, AdaBoostRegressor\n",
    "from sklearn.impute import SimpleImputer\n",
    "from sklearn.tree import DecisionTreeRegressor\n",
    "from sklearn.pipeline import Pipeline\n",
    "from sklearn.preprocessing import OneHotEncoder, StandardScaler\n",
    "\n",
    "from xgboost import XGBRegressor\n",
    "from scipy.stats import randint, uniform\n",
    "import multiprocessing\n",
    "\n",
    "import os\n",
    "os.chdir('/sfs/qumulo/qhome/bdr6qz/Documents/MSDS/DS6050')\n",
    "from print_imps import print_importances, create_imp_df\n",
    "from get_info import get_hardware_details\n",
    "\n",
    "# Call the function to get hardware details\n",
    "hardware_details = get_hardware_details()\n",
    "\n",
    "# Print the hardware details\n",
    "for key, value in hardware_details.items():\n",
    "    print(f\"{key}: {value}\")"
   ]
  },
  {
   "cell_type": "code",
   "execution_count": 54,
   "id": "28ba89cb-09bc-4afa-acc3-fa4d344d28e2",
   "metadata": {
    "tags": []
   },
   "outputs": [],
   "source": [
    "# Load the data\n",
    "df = pd.read_csv('df_clean.csv')\n",
    "df_last = pd.read_csv('df_last.csv')\n",
    "label_col_name = \"mvp_share\"\n",
    "labels = df.pop(label_col_name)\n",
    "stratify = df.pop(\"Rank\")\n",
    "df_selected = pd.read_csv('df_selected.csv')\n",
    "feature_names = list(df_selected.columns)"
   ]
  },
  {
   "cell_type": "code",
   "execution_count": 55,
   "id": "af105956-7fc1-4be1-8f93-cefe42f4d992",
   "metadata": {
    "tags": []
   },
   "outputs": [
    {
     "data": {
      "text/plain": [
       "['OWS', 'MP', 'PTS', 'WS', 'VORP', 'PER', 'TOV', 'AST', 'TS%', 'Rk_Year']"
      ]
     },
     "execution_count": 55,
     "metadata": {},
     "output_type": "execute_result"
    }
   ],
   "source": [
    "feature_names"
   ]
  },
  {
   "cell_type": "code",
   "execution_count": 4,
   "id": "c37c13d2-3134-4121-b692-42868bfe80db",
   "metadata": {
    "tags": []
   },
   "outputs": [],
   "source": [
    "# Split the data into training and testing sets\n",
    "X_train_selected, X_test_selected, y_train, y_test = train_test_split(df_selected, \n",
    "                                                                      labels, \n",
    "                                                                      test_size=0.2, \n",
    "                                                                      stratify=stratify, \n",
    "                                                                      random_state=28)\n",
    "\n",
    "# Convert to arrays\n",
    "y_train = y_train.values\n",
    "y_test = y_test.values\n",
    "X_train = X_train_selected.values\n",
    "X_test = X_test_selected.values"
   ]
  },
  {
   "cell_type": "markdown",
   "id": "453a0275-4f21-492e-8295-9065af43d549",
   "metadata": {},
   "source": [
    "---\n",
    "\n",
    "# DecisionTree"
   ]
  },
  {
   "cell_type": "code",
   "execution_count": 5,
   "id": "dea82268-5878-42be-8b66-aa954baf88f2",
   "metadata": {
    "tags": []
   },
   "outputs": [
    {
     "name": "stderr",
     "output_type": "stream",
     "text": [
      "The objective has been evaluated at point [10, 'log2', 4, 20] before, using random point [3, 'sqrt', 7, 3]\n",
      "The objective has been evaluated at point [10, 'log2', 9, 3] before, using random point [3, 'sqrt', 2, 4]\n",
      "The objective has been evaluated at point [10, 'log2', 9, 2] before, using random point [10, 'log2', 9, 10]\n",
      "The objective has been evaluated at point [10, 'log2', 1, 2] before, using random point [3, 'log2', 7, 10]\n",
      "The objective has been evaluated at point [10, 'log2', 5, 20] before, using random point [3, 'log2', 3, 13]\n",
      "The objective has been evaluated at point [3, 'log2', 4, 7] before, using random point [10, 'sqrt', 8, 14]\n",
      "The objective has been evaluated at point [10, 'log2', 9, 4] before, using random point [3, 'log2', 7, 6]\n",
      "The objective has been evaluated at point [10, 'sqrt', 9, 3] before, using random point [10, 'log2', 6, 13]\n",
      "The objective has been evaluated at point [10, 'log2', 9, 2] before, using random point [3, 'sqrt', 7, 15]\n",
      "The objective has been evaluated at point [10, 'log2', 9, 2] before, using random point [10, 'sqrt', 3, 3]\n",
      "The objective has been evaluated at point [10, 'log2', 9, 2] before, using random point [3, 'log2', 8, 9]\n",
      "The objective has been evaluated at point [10, 'sqrt', 9, 2] before, using random point [10, 'log2', 1, 9]\n",
      "The objective has been evaluated at point [10, 'sqrt', 10, 2] before, using random point [10, 'sqrt', 5, 17]\n",
      "The objective has been evaluated at point [10, 'sqrt', 10, 2] before, using random point [10, 'log2', 1, 16]\n",
      "The objective has been evaluated at point [10, 'sqrt', 10, 2] before, using random point [3, 'log2', 3, 9]\n",
      "The objective has been evaluated at point [10, 'sqrt', 10, 2] before, using random point [3, 'sqrt', 10, 8]\n",
      "The objective has been evaluated at point [10, 'sqrt', 9, 2] before, using random point [10, 'log2', 6, 2]\n",
      "The objective has been evaluated at point [10, 'sqrt', 9, 2] before, using random point [10, 'sqrt', 4, 18]\n",
      "The objective has been evaluated at point [10, 'sqrt', 9, 2] before, using random point [3, 'log2', 2, 5]\n",
      "The objective has been evaluated at point [10, 'sqrt', 9, 2] before, using random point [3, 'sqrt', 4, 18]\n",
      "The objective has been evaluated at point [10, 'sqrt', 8, 2] before, using random point [10, 'sqrt', 3, 5]\n",
      "The objective has been evaluated at point [10, 'sqrt', 9, 2] before, using random point [3, 'sqrt', 5, 9]\n",
      "The objective has been evaluated at point [10, 'log2', 9, 2] before, using random point [10, 'log2', 7, 16]\n",
      "The objective has been evaluated at point [10, 'log2', 9, 2] before, using random point [3, 'sqrt', 4, 8]\n",
      "The objective has been evaluated at point [10, 'log2', 9, 2] before, using random point [3, 'log2', 10, 12]\n",
      "The objective has been evaluated at point [10, 'log2', 9, 2] before, using random point [10, 'sqrt', 1, 8]\n",
      "The objective has been evaluated at point [10, 'sqrt', 8, 2] before, using random point [10, 'sqrt', 6, 12]\n",
      "The objective has been evaluated at point [10, 'sqrt', 8, 2] before, using random point [3, 'log2', 5, 8]\n",
      "The objective has been evaluated at point [10, 'sqrt', 8, 2] before, using random point [10, 'sqrt', 9, 3]\n",
      "The objective has been evaluated at point [10, 'sqrt', 8, 2] before, using random point [10, 'sqrt', 3, 5]\n",
      "The objective has been evaluated at point [10, 'sqrt', 8, 2] before, using random point [10, 'sqrt', 3, 20]\n",
      "The objective has been evaluated at point [10, 'sqrt', 8, 2] before, using random point [10, 'sqrt', 7, 12]\n",
      "The objective has been evaluated at point [10, 'sqrt', 8, 2] before, using random point [10, 'log2', 8, 18]\n",
      "The objective has been evaluated at point [10, 'sqrt', 8, 2] before, using random point [3, 'log2', 5, 20]\n",
      "The objective has been evaluated at point [10, 'sqrt', 8, 2] before, using random point [3, 'sqrt', 3, 11]\n",
      "The objective has been evaluated at point [10, 'sqrt', 8, 2] before, using random point [3, 'sqrt', 2, 11]\n"
     ]
    },
    {
     "name": "stdout",
     "output_type": "stream",
     "text": [
      "Best Hyperparameters: OrderedDict([('max_depth', 10), ('max_features', 'log2'), ('min_samples_leaf', 7), ('min_samples_split', 16)])\n",
      "Test MSE (Best DecisionTreeRegressor): 0.0022932984972179296\n",
      "Test R-squared (Best DecisionTreeRegressor): 0.5506151007174143\n",
      "Model execution time: 1.36 minutes\n"
     ]
    }
   ],
   "source": [
    "start_time = time.time()\n",
    "\n",
    "# Define the hyperparameter search space for DecisionTreeRegressor\n",
    "param_grid_Dtree = {\n",
    "    'max_depth': Categorical([3, 10]),              # Max depth of the tree\n",
    "    'min_samples_split': Integer(2, 20),            # Min no. of samples required to split an internal node\n",
    "    'min_samples_leaf': Integer(1, 10),             # Min no. of samples required to be at a leaf node\n",
    "    'max_features': Categorical(['log2', 'sqrt']),  # No. of features to consider at every split\n",
    "}\n",
    "\n",
    "# Initialize DecisionTreeRegressor\n",
    "Dtree = DecisionTreeRegressor(random_state=28)\n",
    "\n",
    "# Initialize BayesSearchCV\n",
    "bayes_search_Dtree = BayesSearchCV(estimator=Dtree,\n",
    "                                  search_spaces=param_grid_Dtree,\n",
    "                                  n_iter=100,\n",
    "                                  scoring='r2',\n",
    "                                  cv=5,\n",
    "                                  n_points=10,\n",
    "                                  random_state=28,\n",
    "                                  n_jobs=-1)\n",
    "\n",
    "# Perform Bayesian Optimization\n",
    "bayes_search_Dtree.fit(X_train, y_train)\n",
    "\n",
    "# Get the best hyperparameters\n",
    "best_params_Dtree = bayes_search_Dtree.best_params_\n",
    "print(\"Best Hyperparameters:\", best_params_Dtree)\n",
    "\n",
    "# Get the best model\n",
    "best_Dtree = bayes_search_Dtree.best_estimator_\n",
    "\n",
    "# Make predictions on the test data using the best model\n",
    "y_pred_Dtree = best_Dtree.predict(X_test)\n",
    "\n",
    "# Evaluate the best model using mean squared error and R-squared\n",
    "test_mse_Dtree = mean_squared_error(y_test, y_pred_Dtree)\n",
    "test_r2_Dtree = r2_score(y_test, y_pred_Dtree)\n",
    "\n",
    "print(\"Test MSE (Best DecisionTreeRegressor):\", test_mse_Dtree)\n",
    "print(\"Test R-squared (Best DecisionTreeRegressor):\", test_r2_Dtree)\n",
    "\n",
    "end_time = time.time()\n",
    "execution_time = end_time - start_time\n",
    "\n",
    "print(f\"Model execution time: {round(execution_time/60, 2)} minutes\")"
   ]
  },
  {
   "cell_type": "code",
   "execution_count": 6,
   "id": "0f0717c3-3f2d-4e90-9fa3-3e6536c2cb31",
   "metadata": {
    "tags": []
   },
   "outputs": [
    {
     "name": "stdout",
     "output_type": "stream",
     "text": [
      "Feature Importances:\n",
      "1: VORP : 0.421\n",
      "2: WS : 0.216\n",
      "3: MP : 0.122\n",
      "4: PER : 0.087\n",
      "5: Rk_Year : 0.083\n",
      "6: PTS : 0.039\n",
      "7: OWS : 0.021\n",
      "8: AST : 0.007\n",
      "9: TOV : 0.003\n",
      "10: TS% : 0.000\n"
     ]
    }
   ],
   "source": [
    "print_importances(feature_names, best_Dtree)"
   ]
  },
  {
   "cell_type": "markdown",
   "id": "05bd2d46-c8e2-46d0-a74e-b5e525b8567b",
   "metadata": {},
   "source": [
    "---\n",
    "\n",
    "# ExtraTreesRegressor"
   ]
  },
  {
   "cell_type": "code",
   "execution_count": 7,
   "id": "b241e819-7658-443d-849e-2d21d10b0511",
   "metadata": {
    "tags": []
   },
   "outputs": [
    {
     "name": "stderr",
     "output_type": "stream",
     "text": [
      "The objective has been evaluated at point [True, 3, 1.0, 10, 20, 500] before, using random point [False, 3, 1.0, 3, 18, 119]\n",
      "The objective has been evaluated at point [True, 3, 1.0, 10, 20, 100] before, using random point [False, 10, 1.0, 10, 7, 353]\n"
     ]
    },
    {
     "name": "stdout",
     "output_type": "stream",
     "text": [
      "Best Hyperparameters: OrderedDict([('bootstrap', True), ('max_depth', 10), ('max_features', 1.0), ('min_samples_leaf', 1), ('min_samples_split', 2), ('n_estimators', 100)])\n",
      "Test MSE (Best ExtraTreesRegressor): 0.0011793748477776924\n",
      "Test R-squared (Best ExtraTreesRegressor): 0.768894782851886\n",
      "Model execution time: 1.8 minutes\n"
     ]
    }
   ],
   "source": [
    "start_time = time.time()\n",
    "\n",
    "# Define the hyperparameter grid\n",
    "param_grid_Xtrees = {\n",
    "    'n_estimators': Integer(100, 500),          # No. of trees in the forest\n",
    "    'max_depth': Categorical([3, 10]),          # Max depth of each tree\n",
    "    'min_samples_split': Integer(2, 20),        # Min no. of samples required to split an internal node\n",
    "    'min_samples_leaf': Integer(1, 10),         # Min no. of samples required to be at a leaf node\n",
    "    'max_features': Categorical([0.1, 1.0]),    # No. of features to consider when looking for the best split\n",
    "    'bootstrap': Categorical([True, False])     # Whether to use bootstrap samples when building trees\n",
    "}\n",
    "\n",
    "# Initialize ExtraTreesRegressor\n",
    "extra_trees_model = ExtraTreesRegressor(random_state=28)\n",
    "\n",
    "# Initialize BayesSearchCV\n",
    "bayes_search_Xtrees = BayesSearchCV(estimator=extra_trees_model,\n",
    "                             search_spaces=param_grid_Xtrees,\n",
    "                             n_iter=100,\n",
    "                             scoring='r2',\n",
    "                             cv=5,\n",
    "                             n_points=10,\n",
    "                             random_state=28,\n",
    "                             n_jobs=-1)\n",
    "\n",
    "# Perform Bayesian Optimization\n",
    "bayes_search_Xtrees.fit(X_train, y_train)\n",
    "\n",
    "# Get the best hyperparameters\n",
    "best_params = bayes_search_Xtrees.best_params_\n",
    "print(\"Best Hyperparameters:\", best_params)\n",
    "\n",
    "# Get the best model\n",
    "best_Xtrees = bayes_search_Xtrees.best_estimator_\n",
    "\n",
    "# Make predictions on the test data using the best model\n",
    "y_pred_Xtrees = best_Xtrees.predict(X_test)\n",
    "\n",
    "# Evaluate the best model using mean squared error and R-squared\n",
    "test_mse_Xtrees = mean_squared_error(y_test, y_pred_Xtrees)\n",
    "test_r2_Xtrees = r2_score(y_test, y_pred_Xtrees)\n",
    "\n",
    "print(\"Test MSE (Best ExtraTreesRegressor):\", test_mse_Xtrees)\n",
    "print(\"Test R-squared (Best ExtraTreesRegressor):\", test_r2_Xtrees)\n",
    "\n",
    "end_time = time.time()\n",
    "execution_time = end_time - start_time\n",
    "\n",
    "print(f\"Model execution time: {round(execution_time/60, 2)} minutes\")"
   ]
  },
  {
   "cell_type": "code",
   "execution_count": 8,
   "id": "851df705-8af8-4ecb-b052-6c0ec73d9569",
   "metadata": {
    "tags": []
   },
   "outputs": [
    {
     "name": "stdout",
     "output_type": "stream",
     "text": [
      "Feature Importances:\n",
      "1: VORP : 0.226\n",
      "2: WS : 0.224\n",
      "3: PER : 0.171\n",
      "4: Rk_Year : 0.126\n",
      "5: OWS : 0.072\n",
      "6: PTS : 0.057\n",
      "7: TOV : 0.037\n",
      "8: AST : 0.032\n",
      "9: MP : 0.029\n",
      "10: TS% : 0.025\n"
     ]
    }
   ],
   "source": [
    "print_importances(feature_names, best_Xtrees)"
   ]
  },
  {
   "cell_type": "markdown",
   "id": "30c37486-ee3d-4215-97d8-c0b4d20b92b2",
   "metadata": {},
   "source": [
    "---\n",
    "\n",
    "# AdaBoostRegressor"
   ]
  },
  {
   "cell_type": "code",
   "execution_count": 9,
   "id": "0dc4ada0-1cee-480f-a432-9a66e5cfbe0f",
   "metadata": {
    "tags": []
   },
   "outputs": [
    {
     "name": "stdout",
     "output_type": "stream",
     "text": [
      "Best Hyperparameters: OrderedDict([('learning_rate', 0.01), ('loss', 'square'), ('n_estimators', 298)])\n",
      "Test MSE (Best AdaBoostRegressor): 0.0014249804240107666\n",
      "Test R-squared (Best AdaBoostRegressor): 0.7207669716347085\n",
      "Model execution time: 2.51 minutes\n"
     ]
    }
   ],
   "source": [
    "start_time = time.time()\n",
    "\n",
    "# Define the hyperparameter grid\n",
    "param_grid_Ada = {\n",
    "    'n_estimators': Integer(50, 500),                         # No. of base estimators\n",
    "    'learning_rate': Real(0.01, 1.0),                         # Learning rate to shrink each base estimator's contribution\n",
    "    'loss': Categorical(['linear', 'square', 'exponential'])  # Loss function to update weights\n",
    "}\n",
    "\n",
    "# Initialize AdaBoostRegressor\n",
    "adaboost_model = AdaBoostRegressor(random_state=28)\n",
    "\n",
    "# Initialize BayesSearchCV\n",
    "bayes_search_Ada = BayesSearchCV(estimator=adaboost_model,\n",
    "                                 search_spaces=param_grid_Ada,\n",
    "                                 n_iter=100,\n",
    "                                 scoring='r2',\n",
    "                                 cv=5,\n",
    "                                 n_points=10,\n",
    "                                 random_state=28,\n",
    "                                 n_jobs=-1)\n",
    "\n",
    "# Perform Bayesian Optimization\n",
    "bayes_search_Ada.fit(X_train, y_train)\n",
    "\n",
    "# Get the best hyperparameters\n",
    "best_params = bayes_search_Ada.best_params_\n",
    "print(\"Best Hyperparameters:\", best_params)\n",
    "\n",
    "# Get the best model\n",
    "best_Ada = bayes_search_Ada.best_estimator_\n",
    "\n",
    "# Make predictions on the test data using the best model\n",
    "y_pred_Ada = best_Ada.predict(X_test)\n",
    "\n",
    "# Evaluate the best model using mean squared error and R-squared\n",
    "test_mse_Ada = mean_squared_error(y_test, y_pred_Ada)\n",
    "test_r2_Ada = r2_score(y_test, y_pred_Ada)\n",
    "\n",
    "print(\"Test MSE (Best AdaBoostRegressor):\", test_mse_Ada)\n",
    "print(\"Test R-squared (Best AdaBoostRegressor):\", test_r2_Ada)\n",
    "\n",
    "end_time = time.time()\n",
    "execution_time = end_time - start_time\n",
    "\n",
    "print(f\"Model execution time: {round(execution_time/60, 2)} minutes\")"
   ]
  },
  {
   "cell_type": "code",
   "execution_count": 10,
   "id": "199b469e-80ae-45e2-a4bb-795787d72c96",
   "metadata": {
    "tags": []
   },
   "outputs": [
    {
     "name": "stdout",
     "output_type": "stream",
     "text": [
      "Feature Importances:\n",
      "1: PER : 0.417\n",
      "2: WS : 0.250\n",
      "3: Rk_Year : 0.112\n",
      "4: VORP : 0.097\n",
      "5: TOV : 0.048\n",
      "6: PTS : 0.026\n",
      "7: AST : 0.023\n",
      "8: MP : 0.013\n",
      "9: TS% : 0.010\n",
      "10: OWS : 0.004\n"
     ]
    }
   ],
   "source": [
    "print_importances(feature_names, best_Ada)"
   ]
  },
  {
   "cell_type": "markdown",
   "id": "aba8e2b9-98d3-48a7-915c-2a8c067990b0",
   "metadata": {},
   "source": [
    "---\n",
    "\n",
    "# Random Forest"
   ]
  },
  {
   "cell_type": "code",
   "execution_count": 11,
   "id": "653666ba-b6f5-4085-94fe-5c62b3f69e8f",
   "metadata": {
    "tags": []
   },
   "outputs": [
    {
     "name": "stdout",
     "output_type": "stream",
     "text": [
      "Best Hyperparameters (Random Forest): OrderedDict([('bootstrap', True), ('max_depth', None), ('max_features', 'log2'), ('min_samples_leaf', 1), ('min_samples_split', 4), ('n_estimators', 299)])\n",
      "Test MSE (Best Random Forest): 0.0013415406673882547\n",
      "Test R-squared (Best Random Forest): 0.7371174670767362\n",
      "Model execution time: 2.88 minutes\n"
     ]
    }
   ],
   "source": [
    "start_time = time.time()\n",
    "\n",
    "# Define the hyperparameter grid\n",
    "param_grid_rf = {\n",
    "    'n_estimators': Integer(200, 300),              # No. of trees in the forest\n",
    "    'max_features': Categorical(['log2', 'sqrt']),  # No. of features to consider at every split\n",
    "    'max_depth': Categorical([None, 10, 20]),       # Max depth of the trees\n",
    "    'min_samples_split': Integer(2, 5),             # Min no. of samples required to split an internal node\n",
    "    'min_samples_leaf': Integer(1, 5),              # Min no. of samples required to be at a leaf node\n",
    "    'bootstrap': Categorical([True, False])         # Method to select samples for training each tree\n",
    "}\n",
    "\n",
    "# Initialize RandomForestRegressor\n",
    "rf = RandomForestRegressor(random_state=28)\n",
    "\n",
    "# Initialize BayesSearchCV\n",
    "bayes_rf = BayesSearchCV(estimator=rf, \n",
    "                         search_spaces=param_grid_rf,\n",
    "                         n_iter=100, \n",
    "                         scoring='r2', \n",
    "                         cv=5, \n",
    "                         random_state=28,\n",
    "                         n_points=10,\n",
    "                         n_jobs=-1)\n",
    "\n",
    "# Perform Bayesian Optimization\n",
    "bayes_rf.fit(X_train, y_train)\n",
    "\n",
    "# Get the best hyperparameters\n",
    "best_params_rf = bayes_rf.best_params_\n",
    "print(\"Best Hyperparameters (Random Forest):\", best_params_rf)\n",
    "\n",
    "# Get the best model\n",
    "best_rf = bayes_rf.best_estimator_\n",
    "\n",
    "# Make predictions on the test data using the best model\n",
    "y_pred_rf = best_rf.predict(X_test)\n",
    "\n",
    "# Evaluate the best model using mean squared error and R-squared\n",
    "test_mse_rf = mean_squared_error(y_test, y_pred_rf)\n",
    "test_r2_rf = r2_score(y_test, y_pred_rf)\n",
    "\n",
    "print(\"Test MSE (Best Random Forest):\", test_mse_rf)\n",
    "print(\"Test R-squared (Best Random Forest):\", test_r2_rf)\n",
    "\n",
    "end_time = time.time()\n",
    "execution_time = end_time - start_time\n",
    "print(f\"Model execution time: {round(execution_time/60, 2)} minutes\")"
   ]
  },
  {
   "cell_type": "code",
   "execution_count": 12,
   "id": "69b907b8-86f0-44d4-b86d-1ef997065365",
   "metadata": {
    "tags": []
   },
   "outputs": [
    {
     "name": "stdout",
     "output_type": "stream",
     "text": [
      "Feature Importances:\n",
      "1: WS : 0.212\n",
      "2: VORP : 0.204\n",
      "3: PER : 0.183\n",
      "4: OWS : 0.105\n",
      "5: Rk_Year : 0.102\n",
      "6: PTS : 0.061\n",
      "7: TOV : 0.036\n",
      "8: AST : 0.035\n",
      "9: MP : 0.031\n",
      "10: TS% : 0.031\n"
     ]
    }
   ],
   "source": [
    "print_importances(feature_names, best_rf)"
   ]
  },
  {
   "cell_type": "markdown",
   "id": "1b30bb30-f9da-4273-ac1a-557350d3b433",
   "metadata": {},
   "source": [
    "---\n",
    "\n",
    "# Gradient Boosting Regressor"
   ]
  },
  {
   "cell_type": "code",
   "execution_count": 13,
   "id": "7bdef30d-52fa-4192-9299-8bc2ef6f83de",
   "metadata": {
    "tags": []
   },
   "outputs": [
    {
     "name": "stdout",
     "output_type": "stream",
     "text": [
      "Best Hyperparameters (Gradient Boosting): OrderedDict([('learning_rate', 0.0800267590398567), ('max_depth', 3), ('max_features', 'sqrt'), ('min_samples_leaf', 1), ('min_samples_split', 5), ('n_estimators', 173), ('subsample', 0.7241028673740152)])\n",
      "Test MSE: 0.001385658590666347\n",
      "Test R-squared: 0.7284723087892592\n",
      "Model execution time: 1.7 minutes\n"
     ]
    }
   ],
   "source": [
    "start_time = time.time()\n",
    "\n",
    "# Define the parameter grid for GradientBoostingRegressor\n",
    "param_grid_gb = {\n",
    "    'n_estimators': Integer(100, 300),                  # No. of boosting stages\n",
    "    'learning_rate': Real(0.05, 0.1, prior='uniform'),  # Learning rate\n",
    "    'max_depth': Categorical([3, 5]),                   # Max depth of the individual trees\n",
    "    'min_samples_split': Integer(2, 5),                 # Min no. of samples required to split an internal node\n",
    "    'min_samples_leaf': Integer(1, 2),                  # Min no. of samples required to be at a leaf node\n",
    "    'subsample': Real(0.6, 0.8, prior='uniform'),       # Fraction of samples used to fit individual base learners\n",
    "    'max_features': Categorical(['log2', 'sqrt'])       # No. of features to consider when looking for the best split\n",
    "}\n",
    "\n",
    "# Initialize GradientBoostingRegressor\n",
    "gb_model = GradientBoostingRegressor(random_state=28)\n",
    "\n",
    "# Initialize BayesSearchCV\n",
    "bayes_search_gb = BayesSearchCV(estimator=gb_model, \n",
    "                                search_spaces=param_grid_gb,\n",
    "                                n_iter=100, \n",
    "                                scoring='r2', \n",
    "                                cv=5,\n",
    "                                n_points=10,\n",
    "                                n_jobs=-1,\n",
    "                                random_state=28)\n",
    "\n",
    "# Perform random search\n",
    "bayes_search_gb.fit(X_train, y_train)\n",
    "\n",
    "# Get the best hyperparameters\n",
    "best_params_gb = bayes_search_gb.best_params_\n",
    "print(\"Best Hyperparameters (Gradient Boosting):\", best_params_gb)\n",
    "\n",
    "# Get the best model\n",
    "best_gb = bayes_search_gb.best_estimator_\n",
    "\n",
    "# Make predictions on the test data using the best model\n",
    "y_pred_gb = best_gb.predict(X_test)\n",
    "\n",
    "# Evaluate the best model using mean squared error and R-squared\n",
    "test_mse_gb = mean_squared_error(y_test, y_pred_gb)\n",
    "test_r2_gb = r2_score(y_test, y_pred_gb)\n",
    "\n",
    "print(\"Test MSE:\", test_mse_gb)\n",
    "print(\"Test R-squared:\", test_r2_gb)\n",
    "\n",
    "end_time = time.time()\n",
    "execution_time = end_time - start_time\n",
    "print(f\"Model execution time: {round(execution_time/60, 2)} minutes\")"
   ]
  },
  {
   "cell_type": "code",
   "execution_count": 14,
   "id": "5e38eabc-fcdb-43ea-ba71-31861cb2f8da",
   "metadata": {
    "tags": []
   },
   "outputs": [
    {
     "name": "stdout",
     "output_type": "stream",
     "text": [
      "Feature Importances:\n",
      "1: WS : 0.309\n",
      "2: VORP : 0.173\n",
      "3: PER : 0.161\n",
      "4: Rk_Year : 0.117\n",
      "5: OWS : 0.065\n",
      "6: PTS : 0.055\n",
      "7: TOV : 0.036\n",
      "8: AST : 0.035\n",
      "9: MP : 0.025\n",
      "10: TS% : 0.024\n"
     ]
    }
   ],
   "source": [
    "print_importances(feature_names, best_gb)"
   ]
  },
  {
   "cell_type": "markdown",
   "id": "a5f0b389-39dd-47c3-a488-46f539f8033f",
   "metadata": {},
   "source": [
    "---\n",
    "\n",
    "## XGBoost Regressor"
   ]
  },
  {
   "cell_type": "code",
   "execution_count": 15,
   "id": "b7e4aad2-1048-400c-8858-861d4e718366",
   "metadata": {
    "tags": []
   },
   "outputs": [
    {
     "name": "stdout",
     "output_type": "stream",
     "text": [
      "Best Hyperparameters: OrderedDict([('colsample_bytree', 1.0), ('gamma', 0.0), ('learning_rate', 0.08893260908946067), ('max_depth', 3), ('min_child_weight', 1), ('n_estimators', 250), ('reg_alpha', 1.0), ('reg_lambda', 0.6514614000902716), ('subsample', 0.8504117265514595)])\n",
      "Test MSE (Best XGBoost): 0.0012107916959964772\n",
      "Test R-squared (Best XGBoost): 0.7627384725461399\n",
      "Model execution time: 2.41 minutes\n"
     ]
    }
   ],
   "source": [
    "start_time = time.time()\n",
    "\n",
    "# Define the hyperparameter search space\n",
    "param_grid_XGB = {\n",
    "    'n_estimators': Integer(100, 500),                    # No. of trees in the forest\n",
    "    'learning_rate': Real(0.01, 0.3, prior='uniform'),    # Learning rate\n",
    "    'max_depth': Categorical([3, 10]),                    # Max depth of each tree\n",
    "    'min_child_weight': Integer(1, 10),                   # Min sum of instance weight needed in a child\n",
    "    'subsample': Real(0.6, 1.0, prior='uniform'),         # Subsample ratio of the training instance\n",
    "    'colsample_bytree': Real(0.6, 1.0, prior='uniform'),  # Subsample ratio of columns when constructing each tree\n",
    "    'gamma': Real(0, 0.5, prior='uniform'),               # Min loss reduction to further partition on a leaf node\n",
    "    'reg_alpha': Real(0, 1.0, prior='uniform'),           # L1 reg term on weights\n",
    "    'reg_lambda': Real(0, 1.0, prior='uniform')           # L2 reg term on weights\n",
    "}\n",
    "\n",
    "# Initialize XGBRegressor\n",
    "xgb_model = XGBRegressor(random_state=28)\n",
    "\n",
    "# Initialize BayesSearchCV\n",
    "bayes_search = BayesSearchCV(estimator=xgb_model, \n",
    "                             search_spaces=param_grid_XGB,\n",
    "                             n_iter=100, \n",
    "                             scoring='r2', \n",
    "                             cv=5,\n",
    "                             n_points=10,\n",
    "                             random_state=28, \n",
    "                             n_jobs=-1)\n",
    "\n",
    "# Perform Bayesian Optimization\n",
    "bayes_search.fit(X_train, y_train)\n",
    "\n",
    "# Get the best hyperparameters\n",
    "best_params = bayes_search.best_params_\n",
    "print(\"Best Hyperparameters:\", best_params)\n",
    "\n",
    "# Get the best model\n",
    "best_xgb = bayes_search.best_estimator_\n",
    "\n",
    "# Make predictions on the test data using the best model\n",
    "y_pred_xgb = best_xgb.predict(X_test)\n",
    "\n",
    "# Evaluate the best model using mean squared error and R-squared\n",
    "test_mse_xgb = mean_squared_error(y_test, y_pred_xgb)\n",
    "test_r2_xgb = r2_score(y_test, y_pred_xgb)\n",
    "\n",
    "print(\"Test MSE (Best XGBoost):\", test_mse_xgb)\n",
    "print(\"Test R-squared (Best XGBoost):\", test_r2_xgb)\n",
    "\n",
    "end_time = time.time()\n",
    "execution_time = end_time - start_time\n",
    "\n",
    "print(f\"Model execution time: {round(execution_time/60, 2)} minutes\")"
   ]
  },
  {
   "cell_type": "code",
   "execution_count": 16,
   "id": "4d31dfc5-ef36-42ec-8916-d00d73b4ae8b",
   "metadata": {
    "tags": []
   },
   "outputs": [
    {
     "name": "stdout",
     "output_type": "stream",
     "text": [
      "Feature Importances:\n",
      "1: WS : 0.383\n",
      "2: VORP : 0.204\n",
      "3: PER : 0.135\n",
      "4: Rk_Year : 0.108\n",
      "5: PTS : 0.058\n",
      "6: TOV : 0.042\n",
      "7: AST : 0.020\n",
      "8: TS% : 0.019\n",
      "9: MP : 0.015\n",
      "10: OWS : 0.014\n"
     ]
    }
   ],
   "source": [
    "print_importances(feature_names, best_xgb)"
   ]
  },
  {
   "cell_type": "markdown",
   "id": "2c53eced-6be5-429f-bb06-f1d7cdff4b03",
   "metadata": {
    "tags": []
   },
   "source": [
    "---\n",
    "\n",
    "# Model Comparisons"
   ]
  },
  {
   "cell_type": "code",
   "execution_count": 62,
   "id": "7aeeb777-16b5-4ff7-8b34-07b225b3f97f",
   "metadata": {
    "tags": []
   },
   "outputs": [
    {
     "data": {
      "image/png": "[encoded data removed]",
      "text/plain": [
       "<Figure size 1500x500 with 2 Axes>"
      ]
     },
     "metadata": {},
     "output_type": "display_data"
    }
   ],
   "source": [
    "# Data for R-squared values\n",
    "r_sqs = [test_r2_Dtree, test_r2_Xtrees, test_r2_Ada, test_r2_rf, test_r2_gb, test_r2_xgb]\n",
    "\n",
    "# Data for MSE values\n",
    "MSE_s = [test_mse_Dtree, test_mse_Xtrees, test_mse_Ada, test_mse_rf, test_mse_gb, test_mse_xgb]\n",
    "\n",
    "# List of model names\n",
    "model_names = ['DTrees', 'XtraTrees', 'AdaBoost', 'RF', 'GB', 'XGBoost']\n",
    "\n",
    "# Determine colors for R-squared bars\n",
    "r_sq_colors = ['#E57200' if r == max(r_sqs) else '#232D4B' for r in r_sqs]\n",
    "\n",
    "# Determine colors for MSE bars\n",
    "mse_colors = ['#E57200' if mse == min(MSE_s) else '#232D4B' for mse in MSE_s]\n",
    "\n",
    "plt.style.use('fivethirtyeight')\n",
    "\n",
    "# Create a figure with two subplots\n",
    "fig, axs = plt.subplots(1, 2, figsize=(15, 5))\n",
    "\n",
    "# Plot the R-squared values\n",
    "axs[0].bar(model_names, r_sqs, color=r_sq_colors)\n",
    "axs[0].set_xlabel('Model', fontdict={'fontsize': 10, 'fontweight': 'bold'})\n",
    "axs[0].set_ylabel('R-squared', fontdict={'fontsize': 10, 'fontweight': 'bold'})\n",
    "axs[0].set_title('Model R-squared Values', fontdict={'fontsize': 12, 'fontweight': 'bold'})\n",
    "axs[0].tick_params(axis='x', rotation=0)\n",
    "axs[0].set_ylim(0.4, 0.8)\n",
    "\n",
    "# Plot the MSE values\n",
    "axs[1].bar(model_names, MSE_s, color=mse_colors)\n",
    "axs[1].set_xlabel('Model', fontdict={'fontsize': 10, 'fontweight': 'bold'})\n",
    "axs[1].set_ylabel('MSE', fontdict={'fontsize': 10, 'fontweight': 'bold'})\n",
    "axs[1].set_title('Model MSE Values', fontdict={'fontsize': 12, 'fontweight': 'bold'})\n",
    "axs[1].tick_params(axis='x', rotation=0)\n",
    "axs[1].set_ylim(0.0005, 0.0025)\n",
    "\n",
    "# Adjust layout to prevent overlap\n",
    "plt.tight_layout()\n",
    "\n",
    "# Show the plot\n",
    "plt.show()"
   ]
  },
  {
   "cell_type": "code",
   "execution_count": 69,
   "id": "bbb7eab7-3b5b-4819-9012-63c66557b52d",
   "metadata": {
    "tags": []
   },
   "outputs": [
    {
     "data": {
      "text/plain": [
       "['best_Xtrees.pkl']"
      ]
     },
     "execution_count": 69,
     "metadata": {},
     "output_type": "execute_result"
    }
   ],
   "source": [
    "# Save the best model\n",
    "joblib.dump(best_Xtrees, 'best_Xtrees.pkl')"
   ]
  },
  {
   "cell_type": "code",
   "execution_count": 70,
   "id": "e7821cc1-beb4-4fd2-8ab0-de81fa8d599f",
   "metadata": {
    "tags": []
   },
   "outputs": [],
   "source": [
    "models = [best_Dtree, best_Xtrees, best_Ada, best_rf, best_gb, best_xgb]\n",
    "# Call the function to create importances df\n",
    "df_imps = create_imp_df(model_names, models, feature_names)\n",
    "# Save the df of importances\n",
    "df_imps.to_csv('df_imps.csv', index=True)"
   ]
  },
  {
   "cell_type": "code",
   "execution_count": 68,
   "id": "7c61290c-54bf-485d-a75e-26e937e2e4c5",
   "metadata": {
    "tags": []
   },
   "outputs": [],
   "source": [
    "# Create a DataFrame of performance metrics\n",
    "df_compare = pd.DataFrame({'Model': model_names, 'R-squared': r_sqs, 'MSE': MSE_s})\n",
    "# Save the df of performance metrics\n",
    "df_compare.to_csv('Model_Comp.csv', index=False)"
   ]
  }
 ],
 "metadata": {
  "kernelspec": {
   "display_name": "Python 3 (ipykernel)",
   "language": "python",
   "name": "python3"
  },
  "language_info": {
   "codemirror_mode": {
    "name": "ipython",
    "version": 3
   },
   "file_extension": ".py",
   "mimetype": "text/x-python",
   "name": "python",
   "nbconvert_exporter": "python",
   "pygments_lexer": "ipython3",
   "version": "3.11.4"
  }
 },
 "nbformat": 4,
 "nbformat_minor": 5
}
