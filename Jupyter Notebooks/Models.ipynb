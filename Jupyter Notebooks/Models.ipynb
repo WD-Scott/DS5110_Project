{
 "cells": [
  {
   "cell_type": "markdown",
   "id": "7b4958d9-bdde-4907-8321-09e9310796cb",
   "metadata": {},
   "source": [
    "# Modeling Notebook:\n",
    "\n",
    "### This notebook includes the code for training, testing, and comparing our models. We use five different modeling approachs to find the best, compairing MSE and $R^2$.\n",
    "\n",
    "### The models we experiment with include:\n",
    "- ExtraTrees\n",
    "- AdaBoost\n",
    "- RandomForest\n",
    "- GradientBoosting\n",
    "- XGBoost\n",
    "\n",
    "### We extract feature importance scores from each model to inform our index construction."
   ]
  },
  {
   "cell_type": "code",
   "execution_count": 1,
   "id": "f047465d-9e7f-430d-905d-2e8f1fc91123",
   "metadata": {
    "tags": []
   },
   "outputs": [],
   "source": [
    "import pandas as pd\n",
    "import numpy as np\n",
    "import time\n",
    "from print_imps import print_importances\n",
    "import joblib\n",
    "import seaborn as sns\n",
    "import matplotlib.pyplot as plt\n",
    "import shap\n",
    "import pickle\n",
    "\n",
    "from skopt import BayesSearchCV\n",
    "from skopt.space import Categorical, Real, Integer\n",
    "from sklearn.svm import SVR\n",
    "from sklearn.metrics import mean_absolute_error, r2_score, mean_squared_error\n",
    "from sklearn.feature_selection import SelectKBest, f_regression\n",
    "from sklearn.model_selection import train_test_split, GridSearchCV, RandomizedSearchCV\n",
    "from sklearn import metrics, linear_model\n",
    "from sklearn.linear_model import LinearRegression\n",
    "from sklearn.compose import ColumnTransformer\n",
    "from sklearn.ensemble import RandomForestRegressor, GradientBoostingRegressor, ExtraTreesRegressor, AdaBoostRegressor\n",
    "from sklearn.impute import SimpleImputer\n",
    "from sklearn.pipeline import Pipeline\n",
    "from sklearn.preprocessing import OneHotEncoder, StandardScaler\n",
    "\n",
    "from xgboost import XGBRegressor\n",
    "from scipy.stats import randint, uniform\n",
    "\n",
    "import os\n",
    "os.chdir('/sfs/qumulo/qhome/bdr6qz/Documents/MSDS/DS6050')\n",
    "\n",
    "import multiprocessing\n",
    "# Get the number of CPU cores\n",
    "n_jobs = multiprocessing.cpu_count()"
   ]
  },
  {
   "cell_type": "code",
   "execution_count": 2,
   "id": "28ba89cb-09bc-4afa-acc3-fa4d344d28e2",
   "metadata": {
    "tags": []
   },
   "outputs": [],
   "source": [
    "# Load the data\n",
    "df = pd.read_csv('df_clean.csv')\n",
    "df_last = pd.read_csv('df_last.csv')\n",
    "label_col_name = \"mvp_share\"\n",
    "labels = df.pop(label_col_name)\n",
    "stratify = df.pop(\"Rank\")\n",
    "df_selected = pd.read_csv('df_selected.csv')\n",
    "feature_names = list(df_selected.columns)"
   ]
  },
  {
   "cell_type": "code",
   "execution_count": 3,
   "id": "af105956-7fc1-4be1-8f93-cefe42f4d992",
   "metadata": {
    "tags": []
   },
   "outputs": [
    {
     "data": {
      "text/plain": [
       "['VORP',\n",
       " 'PER',\n",
       " 'WS',\n",
       " 'WS/48',\n",
       " 'OBPM',\n",
       " 'BPM',\n",
       " 'OWS',\n",
       " 'Rk_Conf',\n",
       " 'FG',\n",
       " 'Overall']"
      ]
     },
     "execution_count": 3,
     "metadata": {},
     "output_type": "execute_result"
    }
   ],
   "source": [
    "feature_names"
   ]
  },
  {
   "cell_type": "code",
   "execution_count": 4,
   "id": "c37c13d2-3134-4121-b692-42868bfe80db",
   "metadata": {
    "tags": []
   },
   "outputs": [],
   "source": [
    "# Split the data into training and testing sets\n",
    "X_train_selected, X_test_selected, y_train, y_test = train_test_split(df_selected, \n",
    "                                                                      labels, \n",
    "                                                                      test_size=0.2, \n",
    "                                                                      stratify=stratify, \n",
    "                                                                      random_state=28)\n",
    "\n",
    "# Convert to arrays\n",
    "y_train = y_train.values\n",
    "y_test = y_test.values\n",
    "X_train = X_train_selected.values\n",
    "X_test = X_test_selected.values"
   ]
  },
  {
   "cell_type": "markdown",
   "id": "05bd2d46-c8e2-46d0-a74e-b5e525b8567b",
   "metadata": {},
   "source": [
    "---\n",
    "\n",
    "# ExtraTreesRegressor"
   ]
  },
  {
   "cell_type": "code",
   "execution_count": 6,
   "id": "b241e819-7658-443d-849e-2d21d10b0511",
   "metadata": {
    "tags": []
   },
   "outputs": [
    {
     "name": "stdout",
     "output_type": "stream",
     "text": [
      "Best Hyperparameters: OrderedDict([('bootstrap', True), ('max_depth', 10), ('max_features', 0.49011764505469213), ('min_samples_leaf', 1), ('min_samples_split', 3), ('n_estimators', 378)])\n",
      "Test MSE (Best ExtraTreesRegressor): 0.0014068668403230075\n",
      "Test R-squared (Best ExtraTreesRegressor): 0.7243164315026869\n",
      "Model execution time: 1.76 minutes\n"
     ]
    }
   ],
   "source": [
    "start_time = time.time()\n",
    "\n",
    "# Define the hyperparameter search space for ExtraTreesRegressor\n",
    "param_space = {\n",
    "    'n_estimators': (100, 500),      # No. of trees in the forest\n",
    "    'max_depth': (3, 10),            # Max depth of each tree\n",
    "    'min_samples_split': (2, 20),    # Min no. of samples required to split an internal node\n",
    "    'min_samples_leaf': (1, 10),     # Min no. of samples required to be at a leaf node\n",
    "    'max_features': (0.1, 1.0),      # No. of features to consider when looking for the best split\n",
    "    'bootstrap': [True, False]       # Whether to use bootstrap samples when building trees\n",
    "}\n",
    "\n",
    "# Initialize ExtraTreesRegressor\n",
    "extra_trees_model = ExtraTreesRegressor(random_state=28)\n",
    "\n",
    "# Initialize BayesSearchCV\n",
    "bayes_search_Xtrees = BayesSearchCV(estimator=extra_trees_model,\n",
    "                             search_spaces=param_space,\n",
    "                             n_iter=100,\n",
    "                             scoring='r2',\n",
    "                             cv=5,\n",
    "                             n_points=9,\n",
    "                             random_state=28,\n",
    "                             n_jobs=n_jobs)\n",
    "\n",
    "# Perform Bayesian Optimization\n",
    "bayes_search_Xtrees.fit(X_train, y_train)\n",
    "\n",
    "# Get the best hyperparameters\n",
    "best_params = bayes_search_Xtrees.best_params_\n",
    "print(\"Best Hyperparameters:\", best_params)\n",
    "\n",
    "# Get the best model\n",
    "best_Xtrees = bayes_search_Xtrees.best_estimator_\n",
    "\n",
    "# Make predictions on the test data using the best model\n",
    "y_pred_Xtrees = best_Xtrees.predict(X_test)\n",
    "\n",
    "# Evaluate the best model using mean squared error and R-squared\n",
    "test_mse_Xtrees = mean_squared_error(y_test, y_pred_Xtrees)\n",
    "test_r2_Xtrees = r2_score(y_test, y_pred_Xtrees)\n",
    "\n",
    "print(\"Test MSE (Best ExtraTreesRegressor):\", test_mse_Xtrees)\n",
    "print(\"Test R-squared (Best ExtraTreesRegressor):\", test_r2_Xtrees)\n",
    "\n",
    "end_time = time.time()\n",
    "execution_time = end_time - start_time\n",
    "\n",
    "print(f\"Model execution time: {round(execution_time/60, 2)} minutes\")"
   ]
  },
  {
   "cell_type": "code",
   "execution_count": 7,
   "id": "851df705-8af8-4ecb-b052-6c0ec73d9569",
   "metadata": {
    "tags": []
   },
   "outputs": [
    {
     "name": "stdout",
     "output_type": "stream",
     "text": [
      "Feature Importances:\n",
      "WS : 0.1605097067213737\n",
      "VORP : 0.13638681454805024\n",
      "PER : 0.1250918936399096\n",
      "BPM : 0.10342658585159158\n",
      "WS/48 : 0.09816707328411535\n",
      "OWS : 0.09026600414782786\n",
      "OBPM : 0.08701390504275684\n",
      "Rk_Conf : 0.07369945396389843\n",
      "FG : 0.06509545997615236\n",
      "Overall : 0.06034310282432408\n"
     ]
    }
   ],
   "source": [
    "print_importances(feature_names, best_Xtrees)"
   ]
  },
  {
   "cell_type": "markdown",
   "id": "30c37486-ee3d-4215-97d8-c0b4d20b92b2",
   "metadata": {},
   "source": [
    "---\n",
    "\n",
    "# AdaBoostRegressor"
   ]
  },
  {
   "cell_type": "code",
   "execution_count": 8,
   "id": "0dc4ada0-1cee-480f-a432-9a66e5cfbe0f",
   "metadata": {
    "tags": []
   },
   "outputs": [
    {
     "name": "stdout",
     "output_type": "stream",
     "text": [
      "Best Hyperparameters: OrderedDict([('learning_rate', 0.01), ('loss', 'exponential'), ('n_estimators', 128)])\n",
      "Test MSE (Best AdaBoostRegressor): 0.0016862954461485029\n",
      "Test R-squared (Best AdaBoostRegressor): 0.6695608050380563\n",
      "Model execution time: 1.88 minutes\n"
     ]
    }
   ],
   "source": [
    "start_time = time.time()\n",
    "\n",
    "# Define the hyperparameter search space for AdaBoostRegressor\n",
    "param_space = {\n",
    "    'n_estimators': (50, 500),                   # No. of base estimators\n",
    "    'learning_rate': (0.01, 1.0),                # Learning rate to shrink each base estimator's contribution\n",
    "    'loss': ['linear', 'square', 'exponential']  # Loss function to update weights\n",
    "}\n",
    "\n",
    "# Initialize AdaBoostRegressor\n",
    "adaboost_model = AdaBoostRegressor(random_state=28)\n",
    "\n",
    "# Initialize BayesSearchCV\n",
    "bayes_search_Ada = BayesSearchCV(estimator=adaboost_model,\n",
    "                                 search_spaces=param_space,\n",
    "                                 n_iter=100,\n",
    "                                 scoring='r2',\n",
    "                                 cv=5,\n",
    "                                 n_points=10,\n",
    "                                 random_state=28,\n",
    "                                 n_jobs=n_jobs)\n",
    "\n",
    "# Perform Bayesian Optimization\n",
    "bayes_search_Ada.fit(X_train, y_train)\n",
    "\n",
    "# Get the best hyperparameters\n",
    "best_params = bayes_search_Ada.best_params_\n",
    "print(\"Best Hyperparameters:\", best_params)\n",
    "\n",
    "# Get the best model\n",
    "best_Ada = bayes_search_Ada.best_estimator_\n",
    "\n",
    "# Make predictions on the test data using the best model\n",
    "y_pred_Ada = best_Ada.predict(X_test)\n",
    "\n",
    "# Evaluate the best model using mean squared error and R-squared\n",
    "test_mse_Ada = mean_squared_error(y_test, y_pred_Ada)\n",
    "test_r2_Ada = r2_score(y_test, y_pred_Ada)\n",
    "\n",
    "print(\"Test MSE (Best AdaBoostRegressor):\", test_mse_Ada)\n",
    "print(\"Test R-squared (Best AdaBoostRegressor):\", test_r2_Ada)\n",
    "\n",
    "end_time = time.time()\n",
    "execution_time = end_time - start_time\n",
    "\n",
    "print(f\"Model execution time: {round(execution_time/60, 2)} minutes\")"
   ]
  },
  {
   "cell_type": "code",
   "execution_count": 9,
   "id": "199b469e-80ae-45e2-a4bb-795787d72c96",
   "metadata": {
    "tags": []
   },
   "outputs": [
    {
     "name": "stdout",
     "output_type": "stream",
     "text": [
      "Feature Importances:\n",
      "PER : 0.3125286042140531\n",
      "WS : 0.2953071083629948\n",
      "VORP : 0.14853904996799486\n",
      "Rk_Conf : 0.12671832426291327\n",
      "Overall : 0.034767466249641374\n",
      "BPM : 0.030376843826081374\n",
      "WS/48 : 0.022521913291571983\n",
      "FG : 0.016345886952556385\n",
      "OBPM : 0.007327316289456562\n",
      "OWS : 0.005567486582736483\n"
     ]
    }
   ],
   "source": [
    "print_importances(feature_names, best_Ada)"
   ]
  },
  {
   "cell_type": "markdown",
   "id": "aba8e2b9-98d3-48a7-915c-2a8c067990b0",
   "metadata": {},
   "source": [
    "---\n",
    "\n",
    "# Random Forest"
   ]
  },
  {
   "cell_type": "code",
   "execution_count": 10,
   "id": "653666ba-b6f5-4085-94fe-5c62b3f69e8f",
   "metadata": {
    "tags": []
   },
   "outputs": [
    {
     "name": "stdout",
     "output_type": "stream",
     "text": [
      "Best Hyperparameters (Random Forest): OrderedDict([('bootstrap', True), ('max_depth', 10), ('max_features', 'log2'), ('min_samples_leaf', 4), ('min_samples_split', 10), ('n_estimators', 100)])\n",
      "Test MSE (Best Random Forest): 0.0014350561169395625\n",
      "Test R-squared (Best Random Forest): 0.7187925822311911\n",
      "Model execution time: 2.61 minutes\n"
     ]
    }
   ],
   "source": [
    "start_time = time.time()\n",
    "\n",
    "# Define the hyperparameter grid\n",
    "param_grid_rf = {\n",
    "    'n_estimators': [100, 200, 300],    # No. of trees in the forest\n",
    "    'max_features': ['log2', 'sqrt'],   # No. of features to consider at every split\n",
    "    'max_depth': [None, 10, 20],        # Max depth of the trees\n",
    "    'min_samples_split': [2, 5, 10],    # Min no. of samples required to split an internal node\n",
    "    'min_samples_leaf': [1, 2, 4],      # Min no. of samples required to be at a leaf node\n",
    "    'bootstrap': [True, False]          # Method to select samples for training each tree\n",
    "}\n",
    "\n",
    "# Initialize XGBRegressor\n",
    "rf = RandomForestRegressor(random_state=28)\n",
    "\n",
    "# Initialize BayesSearchCV\n",
    "bayes_rf = BayesSearchCV(estimator=rf, \n",
    "                         search_spaces=param_grid_rf,\n",
    "                         n_iter=100, \n",
    "                         scoring='r2', \n",
    "                         cv=5, \n",
    "                         random_state=28,\n",
    "                         n_points=10,\n",
    "                         n_jobs=n_jobs)\n",
    "\n",
    "# Perform Bayesian Optimization\n",
    "bayes_rf.fit(X_train, y_train)\n",
    "\n",
    "# Get the best hyperparameters\n",
    "best_params_rf = bayes_rf.best_params_\n",
    "print(\"Best Hyperparameters (Random Forest):\", best_params_rf)\n",
    "\n",
    "# Get the best model\n",
    "best_rf = bayes_rf.best_estimator_\n",
    "\n",
    "# Make predictions on the test data using the best model\n",
    "y_pred_rf = best_rf.predict(X_test)\n",
    "\n",
    "# Evaluate the best model using mean squared error and R-squared\n",
    "test_mse_rf = mean_squared_error(y_test, y_pred_rf)\n",
    "test_r2_rf = r2_score(y_test, y_pred_rf)\n",
    "\n",
    "print(\"Test MSE (Best Random Forest):\", test_mse_rf)\n",
    "print(\"Test R-squared (Best Random Forest):\", test_r2_rf)\n",
    "\n",
    "end_time = time.time()\n",
    "execution_time = end_time - start_time\n",
    "print(f\"Model execution time: {round(execution_time/60, 2)} minutes\")"
   ]
  },
  {
   "cell_type": "code",
   "execution_count": 11,
   "id": "69b907b8-86f0-44d4-b86d-1ef997065365",
   "metadata": {
    "tags": []
   },
   "outputs": [
    {
     "name": "stdout",
     "output_type": "stream",
     "text": [
      "Feature Importances:\n",
      "WS : 0.21769703621524628\n",
      "PER : 0.16217303821585763\n",
      "VORP : 0.15443678119284507\n",
      "OBPM : 0.09420735011639847\n",
      "BPM : 0.07893828037632153\n",
      "WS/48 : 0.07008979636853561\n",
      "Rk_Conf : 0.0660677222570879\n",
      "Overall : 0.06322853599134723\n",
      "OWS : 0.0551983964830314\n",
      "FG : 0.037963062783328845\n"
     ]
    }
   ],
   "source": [
    "print_importances(feature_names, best_rf)"
   ]
  },
  {
   "cell_type": "markdown",
   "id": "1b30bb30-f9da-4273-ac1a-557350d3b433",
   "metadata": {},
   "source": [
    "---\n",
    "\n",
    "# Gradient Boosting Regressor"
   ]
  },
  {
   "cell_type": "code",
   "execution_count": 12,
   "id": "7bdef30d-52fa-4192-9299-8bc2ef6f83de",
   "metadata": {
    "tags": []
   },
   "outputs": [
    {
     "name": "stderr",
     "output_type": "stream",
     "text": [
      "Dimension [100, 300] was inferred to Integer(low=100, high=300, prior='uniform', transform='identity'). In upcoming versions of scikit-optimize, it will be inferred to Categorical(categories=(100, 300), prior=None). See the documentation of the check_dimension function for the upcoming API.\n",
      "Dimension [0.05, 0.1] was inferred to Real(low=0.05, high=0.1, prior='uniform', transform='identity'). In upcoming versions of scikit-optimize, it will be inferred to Categorical(categories=(0.05, 0.1), prior=None). See the documentation of the check_dimension function for the upcoming API.\n",
      "Dimension [3, 5] was inferred to Integer(low=3, high=5, prior='uniform', transform='identity'). In upcoming versions of scikit-optimize, it will be inferred to Categorical(categories=(3, 5), prior=None). See the documentation of the check_dimension function for the upcoming API.\n",
      "Dimension [2, 5] was inferred to Integer(low=2, high=5, prior='uniform', transform='identity'). In upcoming versions of scikit-optimize, it will be inferred to Categorical(categories=(2, 5), prior=None). See the documentation of the check_dimension function for the upcoming API.\n",
      "Dimension [1, 2] was inferred to Integer(low=1, high=2, prior='uniform', transform='identity'). In upcoming versions of scikit-optimize, it will be inferred to Categorical(categories=(1, 2), prior=None). See the documentation of the check_dimension function for the upcoming API.\n",
      "Dimension [0.6, 0.8] was inferred to Real(low=0.6, high=0.8, prior='uniform', transform='identity'). In upcoming versions of scikit-optimize, it will be inferred to Categorical(categories=(0.6, 0.8), prior=None). See the documentation of the check_dimension function for the upcoming API.\n",
      "Dimension [0.05, 0.1] was inferred to Real(low=0.05, high=0.1, prior='uniform', transform='identity'). In upcoming versions of scikit-optimize, it will be inferred to Categorical(categories=(0.05, 0.1), prior=None). See the documentation of the check_dimension function for the upcoming API.\n",
      "Dimension [3, 5] was inferred to Integer(low=3, high=5, prior='uniform', transform='identity'). In upcoming versions of scikit-optimize, it will be inferred to Categorical(categories=(3, 5), prior=None). See the documentation of the check_dimension function for the upcoming API.\n",
      "Dimension [1, 2] was inferred to Integer(low=1, high=2, prior='uniform', transform='identity'). In upcoming versions of scikit-optimize, it will be inferred to Categorical(categories=(1, 2), prior=None). See the documentation of the check_dimension function for the upcoming API.\n",
      "Dimension [2, 5] was inferred to Integer(low=2, high=5, prior='uniform', transform='identity'). In upcoming versions of scikit-optimize, it will be inferred to Categorical(categories=(2, 5), prior=None). See the documentation of the check_dimension function for the upcoming API.\n",
      "Dimension [100, 300] was inferred to Integer(low=100, high=300, prior='uniform', transform='identity'). In upcoming versions of scikit-optimize, it will be inferred to Categorical(categories=(100, 300), prior=None). See the documentation of the check_dimension function for the upcoming API.\n",
      "Dimension [0.6, 0.8] was inferred to Real(low=0.6, high=0.8, prior='uniform', transform='identity'). In upcoming versions of scikit-optimize, it will be inferred to Categorical(categories=(0.6, 0.8), prior=None). See the documentation of the check_dimension function for the upcoming API.\n",
      "Dimension [0.05, 0.1] was inferred to Real(low=0.05, high=0.1, prior='uniform', transform='identity'). In upcoming versions of scikit-optimize, it will be inferred to Categorical(categories=(0.05, 0.1), prior=None). See the documentation of the check_dimension function for the upcoming API.\n",
      "Dimension [3, 5] was inferred to Integer(low=3, high=5, prior='uniform', transform='identity'). In upcoming versions of scikit-optimize, it will be inferred to Categorical(categories=(3, 5), prior=None). See the documentation of the check_dimension function for the upcoming API.\n",
      "Dimension [1, 2] was inferred to Integer(low=1, high=2, prior='uniform', transform='identity'). In upcoming versions of scikit-optimize, it will be inferred to Categorical(categories=(1, 2), prior=None). See the documentation of the check_dimension function for the upcoming API.\n",
      "Dimension [2, 5] was inferred to Integer(low=2, high=5, prior='uniform', transform='identity'). In upcoming versions of scikit-optimize, it will be inferred to Categorical(categories=(2, 5), prior=None). See the documentation of the check_dimension function for the upcoming API.\n",
      "Dimension [100, 300] was inferred to Integer(low=100, high=300, prior='uniform', transform='identity'). In upcoming versions of scikit-optimize, it will be inferred to Categorical(categories=(100, 300), prior=None). See the documentation of the check_dimension function for the upcoming API.\n",
      "Dimension [0.6, 0.8] was inferred to Real(low=0.6, high=0.8, prior='uniform', transform='identity'). In upcoming versions of scikit-optimize, it will be inferred to Categorical(categories=(0.6, 0.8), prior=None). See the documentation of the check_dimension function for the upcoming API.\n"
     ]
    },
    {
     "name": "stdout",
     "output_type": "stream",
     "text": [
      "Best Hyperparameters (Gradient Boosting): OrderedDict([('learning_rate', 0.05), ('max_depth', 3), ('max_features', 'sqrt'), ('min_samples_leaf', 1), ('min_samples_split', 3), ('n_estimators', 100), ('subsample', 0.8)])\n",
      "Test MSE: 0.001521305878915146\n",
      "Test R-squared: 0.7018914502391871\n",
      "Model execution time: 1.36 minutes\n"
     ]
    }
   ],
   "source": [
    "start_time = time.time()\n",
    "\n",
    "# Define the hyperparameter grid\n",
    "param_grid_gb = {\n",
    "    'n_estimators': [100, 300],       # No. of boosting stages\n",
    "    'learning_rate': [0.05, 0.1],     # Learning rate\n",
    "    'max_depth': [3, 5],              # Max depth of the individual trees\n",
    "    'min_samples_split': [2, 5],      # Min no. of samples required to split an internal node\n",
    "    'min_samples_leaf': [1, 2],       # Min no. of samples required to be at a leaf node\n",
    "    'subsample': [0.6, 0.8],          # Fraction of samples used to fit individual base learners\n",
    "    'max_features': ['log2', 'sqrt']  # No. of features to consider when looking for best split\n",
    "}\n",
    "\n",
    "# Initialize GradientBoostingRegressor\n",
    "gb_model = GradientBoostingRegressor(random_state=28)\n",
    "\n",
    "# Initialize BayesSearchCV\n",
    "bayes_search_gb = BayesSearchCV(estimator=gb_model, \n",
    "                                search_spaces=param_grid_gb,\n",
    "                                n_iter=100, \n",
    "                                scoring='r2', \n",
    "                                cv=5,\n",
    "                                n_points=10,\n",
    "                                n_jobs=n_jobs,\n",
    "                                random_state=28)\n",
    "\n",
    "# Perform random search\n",
    "bayes_search_gb.fit(X_train, y_train)\n",
    "\n",
    "# Get the best hyperparameters\n",
    "best_params_gb = bayes_search_gb.best_params_\n",
    "print(\"Best Hyperparameters (Gradient Boosting):\", best_params_gb)\n",
    "\n",
    "# Get the best model\n",
    "best_gb = bayes_search_gb.best_estimator_\n",
    "\n",
    "# Make predictions on the test data using the best model\n",
    "y_pred_gb = best_gb.predict(X_test)\n",
    "\n",
    "# Evaluate the best model using mean squared error and R-squared\n",
    "test_mse_gb = mean_squared_error(y_test, y_pred_gb)\n",
    "test_r2_gb = r2_score(y_test, y_pred_gb)\n",
    "\n",
    "print(\"Test MSE:\", test_mse_gb)\n",
    "print(\"Test R-squared:\", test_r2_gb)\n",
    "\n",
    "end_time = time.time()\n",
    "execution_time = end_time - start_time\n",
    "print(f\"Model execution time: {round(execution_time/60, 2)} minutes\")"
   ]
  },
  {
   "cell_type": "code",
   "execution_count": 13,
   "id": "5e38eabc-fcdb-43ea-ba71-31861cb2f8da",
   "metadata": {
    "tags": []
   },
   "outputs": [
    {
     "name": "stdout",
     "output_type": "stream",
     "text": [
      "Feature Importances:\n",
      "VORP : 0.19226413634143547\n",
      "PER : 0.14582527302686218\n",
      "WS : 0.1318965783685779\n",
      "OBPM : 0.09632885336606556\n",
      "WS/48 : 0.09268153370138149\n",
      "BPM : 0.08642338300589879\n",
      "Overall : 0.07577696744197862\n",
      "Rk_Conf : 0.07529472876279654\n",
      "FG : 0.05268099508272611\n",
      "OWS : 0.05082755090227722\n"
     ]
    }
   ],
   "source": [
    "print_importances(feature_names, best_gb)"
   ]
  },
  {
   "cell_type": "markdown",
   "id": "a5f0b389-39dd-47c3-a488-46f539f8033f",
   "metadata": {},
   "source": [
    "---\n",
    "\n",
    "## XGBoost Regressor"
   ]
  },
  {
   "cell_type": "code",
   "execution_count": 14,
   "id": "b7e4aad2-1048-400c-8858-861d4e718366",
   "metadata": {
    "tags": []
   },
   "outputs": [
    {
     "name": "stdout",
     "output_type": "stream",
     "text": [
      "Best Hyperparameters: OrderedDict([('colsample_bytree', 0.6), ('gamma', 0.07954844829039878), ('learning_rate', 0.1560738525819043), ('max_depth', 6), ('min_child_weight', 2), ('n_estimators', 201), ('reg_alpha', 0.9528738698119049), ('reg_lambda', 0.373373106885102), ('subsample', 0.7253652752482744)])\n",
      "Test MSE (Best XGBoost): 0.0012889376716949097\n",
      "Test R-squared (Best XGBoost): 0.7474253236206154\n",
      "Model execution time: 1.42 minutes\n"
     ]
    }
   ],
   "source": [
    "start_time = time.time()\n",
    "\n",
    "# Define the hyperparameter search space\n",
    "param_space = {\n",
    "    'n_estimators': (100, 500),      # No. of trees in the forest\n",
    "    'learning_rate': (0.01, 0.3),    # Learning rate\n",
    "    'max_depth': (3, 10),            # Max depth of each tree\n",
    "    'min_child_weight': (1, 10),     # Min sum of instance weight needed in a child\n",
    "    'subsample': (0.6, 1.0),         # Subsample ratio of the training instance\n",
    "    'colsample_bytree': (0.6, 1.0),  # Subsample ratio of columns when constructing each tree\n",
    "    'gamma': (0, 0.5),               # Min loss reduction to further partition on a leaf node\n",
    "    'reg_alpha': (0, 1.0),           # L1 reg term on weights\n",
    "    'reg_lambda': (0, 1.0)           # L2 reg term on weights\n",
    "}\n",
    "\n",
    "# Initialize XGBRegressor\n",
    "xgb_model = XGBRegressor(random_state=28)\n",
    "\n",
    "# Initialize BayesSearchCV\n",
    "bayes_search = BayesSearchCV(estimator=xgb_model, \n",
    "                             search_spaces=param_space,\n",
    "                             n_iter=100, \n",
    "                             scoring='r2', \n",
    "                             cv=5,\n",
    "                             n_points=10,\n",
    "                             random_state=28, \n",
    "                             n_jobs=n_jobs)\n",
    "\n",
    "# Perform Bayesian Optimization\n",
    "bayes_search.fit(X_train, y_train)\n",
    "\n",
    "# Get the best hyperparameters\n",
    "best_params = bayes_search.best_params_\n",
    "print(\"Best Hyperparameters:\", best_params)\n",
    "\n",
    "# Get the best model\n",
    "best_xgb = bayes_search.best_estimator_\n",
    "\n",
    "# Make predictions on the test data using the best model\n",
    "y_pred_xgb = best_xgb.predict(X_test)\n",
    "\n",
    "# Evaluate the best model using mean squared error and R-squared\n",
    "test_mse_xgb = mean_squared_error(y_test, y_pred_xgb)\n",
    "test_r2_xgb = r2_score(y_test, y_pred_xgb)\n",
    "\n",
    "print(\"Test MSE (Best XGBoost):\", test_mse_xgb)\n",
    "print(\"Test R-squared (Best XGBoost):\", test_r2_xgb)\n",
    "\n",
    "end_time = time.time()\n",
    "execution_time = end_time - start_time\n",
    "\n",
    "print(f\"Model execution time: {round(execution_time/60, 2)} minutes\")"
   ]
  },
  {
   "cell_type": "code",
   "execution_count": 15,
   "id": "4d31dfc5-ef36-42ec-8916-d00d73b4ae8b",
   "metadata": {
    "tags": []
   },
   "outputs": [
    {
     "name": "stdout",
     "output_type": "stream",
     "text": [
      "Feature Importances:\n",
      "WS : 0.34365535\n",
      "VORP : 0.2169757\n",
      "OBPM : 0.107329674\n",
      "PER : 0.08953816\n",
      "OWS : 0.069519885\n",
      "Overall : 0.056036875\n",
      "Rk_Conf : 0.04041323\n",
      "WS/48 : 0.028687324\n",
      "FG : 0.025385926\n",
      "BPM : 0.022457873\n"
     ]
    }
   ],
   "source": [
    "print_importances(feature_names, best_xgb)"
   ]
  },
  {
   "cell_type": "markdown",
   "id": "2c53eced-6be5-429f-bb06-f1d7cdff4b03",
   "metadata": {
    "tags": []
   },
   "source": [
    "---\n",
    "\n",
    "# Model Comparisons"
   ]
  },
  {
   "cell_type": "code",
   "execution_count": 25,
   "id": "7aeeb777-16b5-4ff7-8b34-07b225b3f97f",
   "metadata": {
    "tags": []
   },
   "outputs": [
    {
     "data": {
      "image/png": "[encoded data removed]",
      "text/plain": [
       "<Figure size 1500x500 with 2 Axes>"
      ]
     },
     "metadata": {},
     "output_type": "display_data"
    }
   ],
   "source": [
    "# Data for R-squared values\n",
    "r_sqs = [test_r2_Xtrees, test_r2_Ada, test_r2_rf, test_r2_gb, test_r2_xgb]\n",
    "\n",
    "# Data for MSE values\n",
    "MSE_s = [test_mse_Xtrees, test_mse_Ada, test_mse_rf, test_mse_gb, test_mse_xgb]\n",
    "\n",
    "# List of model names\n",
    "model_names = ['XtraTrees', 'AdaBoost', 'RF', 'GB', 'XGBoost']\n",
    "\n",
    "# Determine colors for R-squared bars\n",
    "r_sq_colors = ['#E57200' if r == max(r_sqs) else '#232D4B' for r in r_sqs]\n",
    "\n",
    "# Determine colors for MSE bars\n",
    "mse_colors = ['#E57200' if mse == min(MSE_s) else '#232D4B' for mse in MSE_s]\n",
    "\n",
    "plt.style.use('fivethirtyeight')\n",
    "\n",
    "# Create a figure with two subplots\n",
    "fig, axs = plt.subplots(1, 2, figsize=(15, 5))\n",
    "\n",
    "# Plot the R-squared values\n",
    "axs[0].bar(model_names, r_sqs, color=r_sq_colors)\n",
    "axs[0].set_xlabel('Model', fontdict={'fontsize': 10, 'fontweight': 'bold'})\n",
    "axs[0].set_ylabel('R-squared', fontdict={'fontsize': 10, 'fontweight': 'bold'})\n",
    "axs[0].set_title('Model R-squared Values', fontdict={'fontsize': 12, 'fontweight': 'bold'})\n",
    "axs[0].tick_params(axis='x', rotation=0)\n",
    "axs[0].set_ylim(0.6, 0.8)\n",
    "\n",
    "# Plot the MSE values\n",
    "axs[1].bar(model_names, MSE_s, color=mse_colors)\n",
    "axs[1].set_xlabel('Model', fontdict={'fontsize': 10, 'fontweight': 'bold'})\n",
    "axs[1].set_ylabel('MSE', fontdict={'fontsize': 10, 'fontweight': 'bold'})\n",
    "axs[1].set_title('Model MSE Values', fontdict={'fontsize': 12, 'fontweight': 'bold'})\n",
    "axs[1].tick_params(axis='x', rotation=0)\n",
    "axs[1].set_ylim(0, 0.002)\n",
    "\n",
    "# Adjust layout to prevent overlap\n",
    "plt.tight_layout()\n",
    "\n",
    "# Show the plot\n",
    "plt.show()"
   ]
  },
  {
   "cell_type": "code",
   "execution_count": 23,
   "id": "bbb7eab7-3b5b-4819-9012-63c66557b52d",
   "metadata": {
    "tags": []
   },
   "outputs": [
    {
     "data": {
      "text/plain": [
       "['best_xgb_model.pkl']"
      ]
     },
     "execution_count": 23,
     "metadata": {},
     "output_type": "execute_result"
    }
   ],
   "source": [
    "# Save the best model\n",
    "joblib.dump(best_xgb, 'best_xgb_model.pkl')"
   ]
  }
 ],
 "metadata": {
  "kernelspec": {
   "display_name": "Python 3 (ipykernel)",
   "language": "python",
   "name": "python3"
  },
  "language_info": {
   "codemirror_mode": {
    "name": "ipython",
    "version": 3
   },
   "file_extension": ".py",
   "mimetype": "text/x-python",
   "name": "python",
   "nbconvert_exporter": "python",
   "pygments_lexer": "ipython3",
   "version": "3.11.4"
  }
 },
 "nbformat": 4,
 "nbformat_minor": 5
}
