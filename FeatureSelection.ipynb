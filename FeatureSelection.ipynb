{
 "cells": [
  {
   "cell_type": "markdown",
   "id": "bf2445ab-c3c0-49ee-967e-c6ff46c90c07",
   "metadata": {},
   "source": [
    "# Feature Selection Notebook:\n",
    "\n",
    "This notebook contains the code for preprocessing and feature selection.\n",
    "\n",
    "We run the `preprocess_and_train` function from `preptrain.py`; the steps of that function are described below.\n",
    "\n",
    "We same the selected features to a separate .csv file, `df_selected.csv`, which we use in our models in the `Models.ipynb`."
   ]
  },
  {
   "cell_type": "markdown",
   "id": "d785b1e0-072d-4a38-9c5a-2190d9b998da",
   "metadata": {},
   "source": [
    "## Explanation of the `preprocess_and_train` function:\n",
    "\n",
    "### Defining Numeric Columns (Excluding \"Pos\"):\n",
    "\n",
    "This step identifies the numeric columns in the input DataFrame `df`, excluding the column labeled \"Pos\" for player position.\n",
    "\n",
    "### Splitting Data into Training and Testing Sets:\n",
    "\n",
    "Splits the input data into training and testing sets using the `train_test_split` function from `scikit-learn`.\n",
    "\n",
    "### Defining Preprocessing Steps:\n",
    "\n",
    "Defines the preprocessing steps using pipelines. For numeric features, we impute missing values with the median value and then scale the features using standardization (subtracting the mean and dividing by the standard deviation). For categorical features (specifically \"Pos\"), we apply one-hot encoding while ignoring unknown categories.\n",
    "\n",
    "### Preprocessing Training and Testing Data:\n",
    "\n",
    "Applies the preprocessing separately to the training and testing datasets using the `fit_transform` and `transform` methods of the `ColumnTransformer`.\n",
    "\n",
    "### Extracting Feature Names:\n",
    "\n",
    "Extracts the feature names from the `ColumnTransformer` object. This step removes any prefixes such as \"num__\" or \"cat__\".\n",
    "\n",
    "### Filter Method - SelectKBest:\n",
    "\n",
    "Uses SelectKBest with ANOVA F-value to select the top 10 features based on their scores. These scores represent the strength of the relationship between each feature and the target variable.\n",
    "\n",
    "### Wrapper Method 1 - Random Forest Feature Importance:\n",
    "\n",
    "Trains a Random Forest Regressor on the preprocessed training data to determine feature importance and selects the top 10 features with the highest feature importance scores.\n",
    "\n",
    "### Embedded Method - L1-based feature selection using Lasso:\n",
    "\n",
    "LassoCV (Lasso Cross-validation) is employed to perform L1-based feature selection. It iteratively fits Lasso models with different regularization strengths (alphas) and selects features based on non-zero coefficients.\n",
    "\n",
    "### Performs Principal Component Analysis (PCA):\n",
    "\n",
    "Performs PCA to reduce the dimensionality of the data and select the top 10 principal components as features.\n",
    "\n",
    "### Stability Selection with Lasso:\n",
    "Uses Stability Selection with Lasso to select features. We apply LassoCV within SelectFromModel to select features based on stability across multiple Lasso models.\n",
    "\n",
    "### Recursive Feature Elimination with Cross-Validation (RFECV):\n",
    "\n",
    "Applies RFECV, a wrapper method that recursively selects features by recursively training the model and selecting the best-performing subset of features through cross-validation.\n",
    "\n",
    "### Wrapper Method 2 - Gradient Boosting Machine Feature Importance\n",
    "\n",
    "Trains a Gradient Boosting Machine model on the preprocessed training data to determine feature importance and selects the top 10 features with the highest feature importance scores.\n",
    "\n",
    "### Embedded Method 2 - Support Vector Regressor\n",
    "\n",
    "Uses Support Vector Regressor (SVR) within SelectFromModel to perform embedded feature selection. Features are selected based on the coefficients obtained from the SVR model.\n",
    "\n",
    "### Choosing Selected Features:\n",
    "\n",
    "Selects features based on the method that demonstrates the highest performance. In this case, we use the selected features from the Wrapper Method.\n",
    "\n",
    "### Preparing Final Data for Training:\n",
    "\n",
    "Extracts the selected features from the preprocessed training and testing data and prepares the final datasets (X_train, X_test, y_train, y_test) for model training and evaluation.\n",
    "\n",
    "### Returning Results:\n",
    "\n",
    "The function returns various components: the selected features from each method (features_filter, features_wrapper, features_embedded), the names of the selected features (feature_names), and the preprocessed training and testing data along with their corresponding labels."
   ]
  },
  {
   "cell_type": "code",
   "execution_count": 1,
   "id": "ba6ff143-d86a-4957-aee5-1143b8522fff",
   "metadata": {},
   "outputs": [],
   "source": [
    "from sklearn.decomposition import PCA\n",
    "from sklearn.linear_model import LassoCV\n",
    "from sklearn.pipeline import Pipeline\n",
    "from sklearn.impute import SimpleImputer\n",
    "from sklearn.preprocessing import StandardScaler, OneHotEncoder\n",
    "from sklearn.compose import ColumnTransformer\n",
    "from sklearn.model_selection import train_test_split\n",
    "from sklearn.feature_selection import SelectKBest, f_regression, SelectFromModel, RFE, RFECV, mutual_info_regression\n",
    "from sklearn.cluster import FeatureAgglomeration\n",
    "from sklearn.metrics import mean_absolute_error, r2_score, mean_squared_error\n",
    "from sklearn.feature_selection import SelectKBest, f_regression\n",
    "from sklearn.model_selection import train_test_split, GridSearchCV, RandomizedSearchCV\n",
    "from sklearn import metrics, linear_model\n",
    "from sklearn.linear_model import LinearRegression\n",
    "from sklearn.compose import ColumnTransformer\n",
    "from sklearn.ensemble import RandomForestRegressor, GradientBoostingRegressor\n",
    "from sklearn.impute import SimpleImputer\n",
    "from sklearn.pipeline import Pipeline\n",
    "from sklearn.preprocessing import OneHotEncoder, StandardScaler\n",
    "from xgboost import XGBRegressor\n",
    "from sklearn.neural_network import MLPRegressor\n",
    "from scipy.stats import randint\n",
    "from sklearn.svm import SVR\n",
    "from sklearn.inspection import permutation_importance\n",
    "import pandas as pd\n",
    "import numpy as np\n",
    "\n",
    "import os\n",
    "os.chdir('/Users/wyattscott/Documents/DS5110/Project')\n",
    "\n",
    "from pltcorrheatmap import plot_corr_heatmap\n",
    "from preptrain import preprocess_and_train"
   ]
  },
  {
   "cell_type": "code",
   "execution_count": 6,
   "id": "4e5e0c71-28ca-41a3-be09-98f28bc35d47",
   "metadata": {},
   "outputs": [],
   "source": [
    "# Load the data\n",
    "df = pd.read_csv('df_clean.csv')\n",
    "df_last = pd.read_csv('df_last.csv')\n",
    "label_col_name = \"mvp_share\"\n",
    "labels = df.pop(label_col_name)\n",
    "stratify = df.pop(\"Rank\")"
   ]
  },
  {
   "cell_type": "code",
   "execution_count": 3,
   "id": "969f2054-c159-4c4d-8336-ddc466a1aa47",
   "metadata": {},
   "outputs": [],
   "source": [
    "# Call the function to preprocess the data and perform feature selection\n",
    "(features_filter, features_wrapper, \n",
    "            features_embedded, features_pca,\n",
    "            features_stability_selection, feature_names,\n",
    "            features_rfecv, features_wrapper_gbm,\n",
    "            features_embedded_svr,\n",
    "            X_train, X_test, y_train, y_test) = preprocess_and_train(df, df_last, labels)"
   ]
  },
  {
   "cell_type": "code",
   "execution_count": 4,
   "id": "97b1d024-c9a6-4363-8a84-bb6a3d9672a8",
   "metadata": {},
   "outputs": [
    {
     "name": "stdout",
     "output_type": "stream",
     "text": [
      "Features - Filter Method (ANOVA F-value): ['FT', 'FTA', 'PTS', 'PER', 'OWS', 'WS', 'WS/48', 'OBPM', 'BPM', 'VORP']\n",
      "Features - Random Forest: ['WS', 'PER', 'VORP', 'Rk_Season', 'Rk_Conference', 'Overall', 'DWS', 'BPM', 'USG%', 'FGA']\n",
      "Features - Embedded Method (Lasso): ['VORP', 'Trp Dbl']\n",
      "PCA 1: ['OBPM', 'OWS', 'FT', '2P', 'FTA', 'VORP', 'FG', 'PTS', 'PER', 'WS']\n",
      "Features - Stability Selection: ['VORP', 'Trp Dbl']\n",
      "Features - RFECV: ['BPM', 'WS', 'BLK%', 'AST%', 'TOV%', 'DWS', 'OWS', 'PF', 'Pos_PG', 'DBPM']\n",
      "Features - GBM: ['WS', 'PER', 'Rk_Season', 'VORP', 'Rk_Conference', 'Overall', 'USG%', 'DWS', 'AST', 'TOV']\n",
      "Features - SVR: ['WS', 'OWS', 'DWS', 'VORP', 'WS/48', 'PER', 'Rk_Conference', 'FTA', 'Trp Dbl', 'FT']\n"
     ]
    }
   ],
   "source": [
    "# Print selected features\n",
    "print(\"Features - Filter Method (ANOVA F-value):\", features_filter)\n",
    "print(\"Features - Random Forest:\", features_wrapper)\n",
    "print(\"Features - Embedded Method (Lasso):\", features_embedded)\n",
    "print(f\"PCA 1: {features_pca[0]}\")\n",
    "print(\"Features - Stability Selection:\", features_stability_selection)\n",
    "print(\"Features - RFECV:\", features_rfecv)\n",
    "print(\"Features - GBM:\", features_wrapper_gbm)\n",
    "print(\"Features - SVR:\", features_embedded_svr)"
   ]
  },
  {
   "cell_type": "code",
   "execution_count": 5,
   "id": "dbf12cf1-cc08-41da-a890-761bc924a2f8",
   "metadata": {},
   "outputs": [
    {
     "name": "stdout",
     "output_type": "stream",
     "text": [
      "Top 10 features:\n",
      "1. VORP: 7\n",
      "2. WS: 6\n",
      "3. PER: 5\n",
      "4. OWS: 4\n",
      "5. DWS: 4\n",
      "6. FT: 3\n",
      "7. FTA: 3\n",
      "8. BPM: 3\n",
      "9. Rk_Conference: 3\n",
      "10. Trp Dbl: 3\n"
     ]
    }
   ],
   "source": [
    "PCA1 = ['OBPM', 'OWS', 'FT', '2P', 'FTA', 'VORP', 'FG', 'PTS', 'PER', 'WS']\n",
    "\n",
    "# Combine selected features from different methods into a single list\n",
    "combined_features = (features_filter + features_wrapper + features_embedded + PCA1 +\n",
    "                     features_stability_selection + features_rfecv + features_wrapper_gbm + features_embedded_svr)\n",
    "\n",
    "# Calculate feature importance scores\n",
    "feature_scores = {}\n",
    "for feature in combined_features:\n",
    "    feature_scores[feature] = feature_scores.get(feature, 0) + 1\n",
    "\n",
    "# Rank features based on importance scores\n",
    "ranked_features = sorted(feature_scores.items(), key=lambda x: x[1], reverse=True)\n",
    "\n",
    "# Select top 10 features\n",
    "top_10_features = [feature for feature, _ in ranked_features[:10]]\n",
    "\n",
    "# Print the top 10 features\n",
    "print(\"Top 10 features:\")\n",
    "for i, (feature, score) in enumerate(ranked_features[:10], start=1):\n",
    "    print(f\"{i}. {feature}: {score}\")"
   ]
  },
  {
   "cell_type": "markdown",
   "id": "12738a94-45d8-4b82-86b6-08ddc58d3d94",
   "metadata": {},
   "source": [
    "## Selected Features:\n",
    "\n",
    "- VORP = Value Over Replacement Player -- $[BPM - (-2.0)]*$(% of possessions played)$ * \\frac{team games}{82}$\n",
    "\n",
    "- WS = Win Shares\n",
    "\n",
    "- PER = Player Efficiency Rating (see <a href=\"https://www.basketball-reference.com/about/per.html\">Calculating PER</a> for the formula)\n",
    "\n",
    "- FT = Free Throws\n",
    "\n",
    "- BPM = Box Plus/Minus (see <a href=\"https://www.basketball-reference.com/about/bpm2.html\">About Box Plus/Minus (BPM)</a> for the formula)\n",
    "\n",
    "- Rk_Conference =\n",
    "\n",
    "- Trp Dbl = Triple Double (player gets 3 stats in the double-digits in a single game)  \n",
    "  \n",
    "- USG% = Usage Percentage -- ($100 * \\frac{((FGA + 0.44 * FTA + TOV) * (Tm MP / 5))}{(MP * (Tm FGA + 0.44 * Tm FTA + Tm TOV))}$)\n",
    "  \n",
    "- AST = Assists\n",
    "  \n",
    "- 2P% = 2-Point Field Goal Percentage -- $\\frac{2P}{2PA}$"
   ]
  },
  {
   "cell_type": "code",
   "execution_count": 9,
   "id": "dd8f4c0a-3478-43af-a0fc-35b9c0ab71e7",
   "metadata": {},
   "outputs": [
    {
     "name": "stderr",
     "output_type": "stream",
     "text": [
      "/opt/homebrew/anaconda3/lib/python3.11/site-packages/seaborn/matrix.py:260: FutureWarning: Format strings passed to MaskedConstant are ignored, but in future may error or produce different behavior\n",
      "  annotation = (\"{:\" + self.fmt + \"}\").format(val)\n"
     ]
    },
    {
     "data": {
      "image/png": "[encoded data removed]",
      "text/plain": [
       "<Figure size 600x400 with 2 Axes>"
      ]
     },
     "metadata": {},
     "output_type": "display_data"
    }
   ],
   "source": [
    "# Select only the columns corresponding to the top 10 features\n",
    "selected_features = ['VORP', 'PER', 'WS', 'FT', 'BPM', 'Rk_Conference', 'USG%', 'Trp Dbl', 'AST', '2P%']\n",
    "df_check_selected = df[selected_features]\n",
    "corr_matrix = df_check_selected.corr()\n",
    "\n",
    "plot_corr_heatmap(corr_matrix, selected_features, threshold=0.65)"
   ]
  },
  {
   "cell_type": "code",
   "execution_count": 10,
   "id": "f726aa2b-c7e5-4f19-93e5-026332318dda",
   "metadata": {},
   "outputs": [],
   "source": [
    "df_selected = df[selected_features]\n",
    "df_selected.to_csv('df_selected.csv', index=False)"
   ]
  },
  {
   "cell_type": "code",
   "execution_count": null,
   "id": "295a9e65-8774-4ddd-9851-3f60c6475e01",
   "metadata": {},
   "outputs": [],
   "source": []
  }
 ],
 "metadata": {
  "kernelspec": {
   "display_name": "Python 3 (ipykernel)",
   "language": "python",
   "name": "python3"
  },
  "language_info": {
   "codemirror_mode": {
    "name": "ipython",
    "version": 3
   },
   "file_extension": ".py",
   "mimetype": "text/x-python",
   "name": "python",
   "nbconvert_exporter": "python",
   "pygments_lexer": "ipython3",
   "version": "3.11.0"
  }
 },
 "nbformat": 4,
 "nbformat_minor": 5
}
