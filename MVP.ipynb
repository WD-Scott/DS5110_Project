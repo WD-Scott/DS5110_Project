{
 "cells": [
  {
   "cell_type": "code",
   "execution_count": 1,
   "id": "91ba1a77-213a-4c85-9211-39c6e48eb675",
   "metadata": {},
   "outputs": [],
   "source": [
    "import pandas as pd\n",
    "import numpy as np\n",
    "import os\n",
    "os.chdir('/Users/wyattscott/Documents/DS5110/Project')\n",
    "\n",
    "import seaborn as sns\n",
    "import matplotlib.pyplot as plt\n",
    "import shap\n",
    "import pickle\n",
    "\n",
    "import warnings\n",
    "warnings.filterwarnings('ignore')\n",
    "\n",
    "from sklearn.svm import SVR, SVC\n",
    "from sklearn.metrics import mean_absolute_error, r2_score, mean_squared_error\n",
    "from sklearn.feature_selection import SelectKBest, f_regression\n",
    "from sklearn.model_selection import train_test_split, GridSearchCV, RandomizedSearchCV\n",
    "from sklearn import metrics, linear_model\n",
    "from sklearn.linear_model import LinearRegression\n",
    "from sklearn.compose import ColumnTransformer\n",
    "from sklearn.ensemble import RandomForestRegressor, GradientBoostingRegressor\n",
    "from sklearn.impute import SimpleImputer\n",
    "from sklearn.pipeline import Pipeline\n",
    "from sklearn.preprocessing import OneHotEncoder, StandardScaler\n",
    "from xgboost import XGBRegressor\n",
    "from sklearn.neural_network import MLPRegressor\n",
    "from scipy.stats import randint\n",
    "\n",
    "from pandas_profiling import ProfileReport\n",
    "\n",
    "import tensorflow as tf\n",
    "from tensorflow import keras\n",
    "from tensorflow.keras import layers"
   ]
  },
  {
   "cell_type": "markdown",
   "id": "2f55d54c-51ba-4698-85e9-a9f2eccb4d0a",
   "metadata": {},
   "source": [
    "# <a href=\"https://thejk.medium.com/i-will-predict-the-2023-nba-mvp-using-machine-learning-8e7ed688b0d3\">Data Source</a>:\n",
    "\n",
    "### <a href=\"https://www.kaggle.com/datasets/danchyy/nba-mvp-votings-through-history?resource=download\">Alternative Data Source (cleaner but not as up to date)</a>:\n",
    "\n",
    "## <a href=\"https://www.basketball-reference.com/about/glossary.html\">Variable Definitions</a>:"
   ]
  },
  {
   "cell_type": "code",
   "execution_count": 50,
   "id": "3310d265-9e62-4488-9ccc-e3ac8beefc03",
   "metadata": {},
   "outputs": [],
   "source": [
    "df = pd.read_csv('mvp_data.csv')\n",
    "#df.head(2)"
   ]
  },
  {
   "cell_type": "code",
   "execution_count": 51,
   "id": "33cb79ee-882b-4e68-b027-cd8ed5a5059d",
   "metadata": {},
   "outputs": [],
   "source": [
    "#print(df.columns)"
   ]
  },
  {
   "cell_type": "markdown",
   "id": "bed0a7e5-356e-4538-887b-82bc61515b15",
   "metadata": {},
   "source": [
    "# Cleaning:"
   ]
  },
  {
   "cell_type": "markdown",
   "id": "ce37537a-935c-44b2-bd50-794567239a59",
   "metadata": {},
   "source": [
    "One possible issue here is that the rules change over time, for example, the minimum number of games a player must be on the court for recently changed to 65. In the code below, it's set at 40..."
   ]
  },
  {
   "cell_type": "code",
   "execution_count": 52,
   "id": "7a5dc8be-ec1e-4624-9830-cb238f1cd0c2",
   "metadata": {},
   "outputs": [],
   "source": [
    "# Fill missing values\n",
    "df['Rank'].fillna(0, inplace=True)\n",
    "df['mvp_share'].fillna(0.0, inplace=True)\n",
    "df['Trp Dbl'].fillna(0, inplace=True)\n",
    "\n",
    "# Normalize Triple Double\n",
    "df['Trp Dbl'] = df['Trp Dbl'] / df['G']\n",
    "\n",
    "# Convert 'G' and 'Season' to integer type\n",
    "df['G'] = df['G'].astype(int)\n",
    "df['Season'] = df['Season'].astype(int)\n",
    "\n",
    "# Filter out data based on conditions\n",
    "###df = df[(df['G'] > 40) & (df['Season'] <= 2022)]\n",
    "# See what happens if we make it 65\n",
    "df = df[(df['G'] > 65) & (df['Season'] <= 2022)]\n",
    "\n",
    "\n",
    "# Ranking Conference\n",
    "df['Rk_Conference'] = df.groupby(['Season', 'conference'])['W'].rank(\"dense\", ascending=False) + df['Rk_Season']\n",
    "df['Rk_Conference'] = df.groupby(['Season', 'conference'])['Rk_Conference'].rank(\"dense\", ascending=True)\n",
    "\n",
    "# Save cleaned data to CSV\n",
    "df.drop(columns=['conference', 'W'], inplace=True)\n",
    "#df.to_csv(\"mvp_data_edit.csv\", index=False, encoding=\"utf-8-sig\")\n",
    "\n",
    "# Sort out seasons for which a prediction is made\n",
    "df.sort_values(by=['Season'], ascending=False, inplace=True)\n",
    "df_last = df[df['Season'] > (2022 - 5)] \n",
    "last_names = df_last['name'].values\n",
    "last_seasons = df_last['Season'].values\n",
    "del df_last['name']\n",
    "del df_last['Season']\n",
    "del df_last['Rank']\n",
    "del df_last['mvp_share']\n",
    "\n",
    "# Filter out seasons older than 5 years\n",
    "df = df[df['Season'] <= (2022 - 5)].copy()\n",
    "df.drop(columns=['name'], inplace=True)"
   ]
  },
  {
   "cell_type": "code",
   "execution_count": null,
   "id": "a839903a-f0fb-494b-ac03-761a3f7028fa",
   "metadata": {},
   "outputs": [],
   "source": []
  },
  {
   "cell_type": "code",
   "execution_count": 53,
   "id": "71997634-d339-4e3a-af6e-3ac23cdaef3a",
   "metadata": {},
   "outputs": [],
   "source": [
    "last_names = pd.DataFrame(last_names, columns=['name'])\n",
    "last_seasons = pd.DataFrame(last_seasons, columns=['Season'])\n",
    "last_names.to_csv('last_names.csv', index=False)\n",
    "last_seasons.to_csv('last_seasons.csv', index=False)"
   ]
  },
  {
   "cell_type": "code",
   "execution_count": 29,
   "id": "64e232ca-5fe8-4c5d-91f3-e8ada27330d5",
   "metadata": {},
   "outputs": [],
   "source": [
    "#df.columns"
   ]
  },
  {
   "cell_type": "code",
   "execution_count": 30,
   "id": "df1dabc6-d26b-497e-9e75-7cbd353ba356",
   "metadata": {},
   "outputs": [],
   "source": [
    "#df.isnull().sum()"
   ]
  },
  {
   "cell_type": "markdown",
   "id": "ffdfd9db-ec1b-4da1-9ac9-0414de22c418",
   "metadata": {},
   "source": [
    "### There are a lot of NaN values, so we'll need to clean further and investigate. 3-point shots weren't introduced until 1979-80 and there are a lot of NaN values before then, so dropping any season < 1980"
   ]
  },
  {
   "cell_type": "code",
   "execution_count": 31,
   "id": "404751c0-5f75-44cf-a5ea-d38e451691c9",
   "metadata": {},
   "outputs": [],
   "source": [
    "df = df[df['Season'] >= 1980]\n",
    "df.drop(['Season'], axis=\"columns\", inplace=True)\n",
    "#df.to_csv('df_clean.csv', index=False)\n",
    "#df_last.to_csv('df_last.csv', index=False)"
   ]
  },
  {
   "cell_type": "code",
   "execution_count": null,
   "id": "74920945-44cb-4d6e-85a1-ec72d090e4ce",
   "metadata": {},
   "outputs": [],
   "source": [
    "label_col_name = \"mvp_share\"\n",
    "labels = df.pop(label_col_name)\n",
    "stratify = df.pop(\"Rank\")"
   ]
  },
  {
   "cell_type": "code",
   "execution_count": 21,
   "id": "a450d13d-8156-4572-bc74-1d0fbb78df21",
   "metadata": {},
   "outputs": [
    {
     "data": {
      "text/plain": [
       "Index(['height', 'weight', 'Age', 'Pos', 'G', 'GS', 'MP', 'FG', 'FGA', 'FG%',\n",
       "       '3P', '3PA', '3P%', '2P', '2PA', '2P%', 'eFG%', 'FT', 'FTA', 'FT%',\n",
       "       'ORB', 'DRB', 'TRB', 'AST', 'STL', 'BLK', 'TOV', 'PF', 'PTS', 'PER',\n",
       "       'TS%', '3PAr', 'FTr', 'ORB%', 'DRB%', 'TRB%', 'AST%', 'STL%', 'BLK%',\n",
       "       'TOV%', 'USG%', 'OWS', 'DWS', 'WS', 'WS/48', 'OBPM', 'DBPM', 'BPM',\n",
       "       'VORP', 'Trp Dbl', 'Rk_Season', 'Overall', 'Rk_Conference'],\n",
       "      dtype='object')"
      ]
     },
     "execution_count": 21,
     "metadata": {},
     "output_type": "execute_result"
    }
   ],
   "source": [
    "#df.columns"
   ]
  },
  {
   "cell_type": "code",
   "execution_count": 9,
   "id": "e552da68-9b29-46cc-908c-5c284e2f7ffb",
   "metadata": {},
   "outputs": [],
   "source": [
    "#df.isnull().sum()"
   ]
  },
  {
   "cell_type": "markdown",
   "id": "599b7c73-6518-4def-8f34-6526a128b775",
   "metadata": {},
   "source": [
    "## There are still some null values: \n",
    "* 1085 3P% (3-point percent)\n",
    "* 430 for GS (games started)\n",
    "* 2 for FT% (free throw percent)"
   ]
  },
  {
   "cell_type": "markdown",
   "id": "0dbf0ee8-3af2-42c3-87b5-c1ae2cb62407",
   "metadata": {},
   "source": [
    "<h2 style='color:Red'>I'll create a separate df and fill these NaNs with 0 for now, but we must revisit</h2>"
   ]
  },
  {
   "cell_type": "code",
   "execution_count": 10,
   "id": "b9dd3f59-3198-4740-bcf8-c0514566e2b0",
   "metadata": {},
   "outputs": [],
   "source": [
    "df_corr = df.copy()\n",
    "df_corr.fillna(0, inplace=True)\n",
    "# Drop position column for corrplot below\n",
    "df_corr.drop(['Pos'], axis=\"columns\", inplace=True)"
   ]
  },
  {
   "cell_type": "markdown",
   "id": "1fb35b54-6169-4b3f-afb4-f4211bea0f8a",
   "metadata": {},
   "source": [
    "# EDA \n",
    "\n",
    "### `Pandas_Profiling`\n",
    "\n",
    "I commented this out but feel free to run it (if you want it to be faster set `minimal=True`)"
   ]
  },
  {
   "cell_type": "code",
   "execution_count": 11,
   "id": "a07adc56-8b0a-49d2-9033-49ce1127e8e5",
   "metadata": {},
   "outputs": [],
   "source": [
    "# profile = ProfileReport(df, \n",
    "#                         title='Pandas Profiling Report',\n",
    "#                         html={'style':{'full_width':True}},\n",
    "#                        minimal=False)\n",
    "# profile.to_notebook_iframe()"
   ]
  },
  {
   "cell_type": "markdown",
   "id": "434612f2-8cdc-4998-9796-5cae924d6f60",
   "metadata": {},
   "source": [
    "### sns `Corrplot`"
   ]
  },
  {
   "cell_type": "code",
   "execution_count": 12,
   "id": "154e363c-54e8-46d6-bb4d-8251020ca7a8",
   "metadata": {},
   "outputs": [],
   "source": [
    "# sns.set_theme(style=\"white\")\n",
    "\n",
    "# # Compute the correlation matrix\n",
    "# corr = df_corr.corr()\n",
    "\n",
    "# # Generate a mask for the upper triangle\n",
    "# mask = np.triu(np.ones_like(corr, dtype=bool))\n",
    "\n",
    "# # Set up the matplotlib figure\n",
    "# f, ax = plt.subplots(figsize=(15, 12))\n",
    "\n",
    "# # Generate a custom diverging colormap\n",
    "# cmap = sns.diverging_palette(230, 20, as_cmap=True)\n",
    "\n",
    "# # Draw the heatmap with the mask and correct aspect ratio\n",
    "# sns.heatmap(corr, mask=mask, cmap=cmap, vmax=.3, center=0,\n",
    "#             square=True, linewidths=.5, cbar_kws={\"shrink\": .5})"
   ]
  },
  {
   "cell_type": "markdown",
   "id": "6da3cd4e-f274-490b-8ceb-ee85166e4cba",
   "metadata": {},
   "source": [
    "# Preprocessing etc."
   ]
  },
  {
   "cell_type": "markdown",
   "id": "8a4c2fc5-e34d-4d57-a96c-90a7c94371ac",
   "metadata": {},
   "source": [
    "### Dropping `FTA`, `FT` and `FG`, `PTS`, dropping `2P` since it's highly correlated with `BPM` to see what we get given these sets are highly correlated."
   ]
  },
  {
   "cell_type": "code",
   "execution_count": 13,
   "id": "fb3fdd33-b555-4ef9-9a81-7eaa910fa030",
   "metadata": {},
   "outputs": [],
   "source": [
    "df = df.drop(columns=['FT', 'FTA', 'FG', 'PTS', '2P', \n",
    "                      'FGA', '2PA', 'WS/48', 'OBPM', \n",
    "                      'USG%', 'TRB', 'MP'])\n",
    "\n",
    "df_last = df_last.drop(columns=['FT', 'FTA', 'FG', 'PTS', '2P', \n",
    "                                'FGA', '2PA', 'WS/48', 'OBPM', \n",
    "                                'USG%', 'TRB', 'MP'])"
   ]
  },
  {
   "cell_type": "code",
   "execution_count": 14,
   "id": "e5ca1ef8-7143-4ce7-afcc-beb8557fb7a9",
   "metadata": {},
   "outputs": [],
   "source": [
    "# Split the data into training and testing sets\n",
    "X_train, X_test, y_train, y_test = train_test_split(df, \n",
    "                                                    labels, \n",
    "                                                    test_size=0.2, \n",
    "                                                    shuffle=True, \n",
    "                                                    random_state=28)"
   ]
  },
  {
   "cell_type": "code",
   "execution_count": 15,
   "id": "8ff79216-f71d-4cda-ae3a-db1f927db5ab",
   "metadata": {},
   "outputs": [
    {
     "name": "stdout",
     "output_type": "stream",
     "text": [
      "X_train Shape: (5863, 41)\n",
      "y_train Shape: (5863,)\n",
      "X_test Shape: (1466, 41)\n",
      "y_test shape: (1466,)\n",
      "Last 5 Season Shape: (730, 41)\n"
     ]
    }
   ],
   "source": [
    "print(f\"X_train Shape: {X_train.shape}\")\n",
    "print(f\"y_train Shape: {y_train.shape}\")\n",
    "print(f\"X_test Shape: {X_test.shape}\")\n",
    "print(f\"y_test shape: {y_test.shape}\")\n",
    "print(f\"Last {5} Season Shape: {df_last.shape}\")"
   ]
  },
  {
   "cell_type": "markdown",
   "id": "79026c1e-1853-4b91-9d7f-f528aaf34891",
   "metadata": {},
   "source": [
    "### A bit of preprocessing\n",
    "Handling missing values, scaling numerical features, and performing one-hot encoding on categorical features."
   ]
  },
  {
   "cell_type": "code",
   "execution_count": 16,
   "id": "82b13129-8ab5-45b7-8e97-c6e4edd89e5e",
   "metadata": {},
   "outputs": [
    {
     "name": "stdout",
     "output_type": "stream",
     "text": [
      "Selected Features: ['DRB', 'AST', 'TOV', 'PER', 'OWS', 'DWS', 'WS', 'BPM', 'VORP', 'Trp Dbl']\n"
     ]
    }
   ],
   "source": [
    "# Convert NumPy arrays back to pandas DataFrames\n",
    "X_train = pd.DataFrame(X_train, columns=df.columns)\n",
    "X_test = pd.DataFrame(X_test, columns=df.columns)\n",
    "df_last = pd.DataFrame(df_last, columns=df_last.columns)\n",
    "\n",
    "# Define numeric columns excluding \"Pos\"\n",
    "numeric_col = [col for col in df.columns if col != \"Pos\"]\n",
    "\n",
    "# Numeric Pipeline\n",
    "numeric_pipe = Pipeline(steps=[\n",
    "    ('imp_median', SimpleImputer(missing_values=np.nan, strategy='median')),\n",
    "    ('scaler', StandardScaler())])\n",
    "\n",
    "# Column Transformer\n",
    "preprocessor = ColumnTransformer(transformers=[\n",
    "    ('cat', OneHotEncoder(sparse=False), ['Pos']),\n",
    "    ('num', numeric_pipe, numeric_col)\n",
    "])\n",
    "\n",
    "# Fit the column transformer on training data and transform both training and testing data\n",
    "X_train = preprocessor.fit_transform(X_train)\n",
    "X_test = preprocessor.transform(X_test)\n",
    "\n",
    "# Transform df_last using the fitted preprocessor\n",
    "df_last_transformed = preprocessor.transform(df_last)\n",
    "\n",
    "header_names = [col.split(\"__\")[1] for col in preprocessor.get_feature_names_out()]\n",
    "\n",
    "# Define the regressor\n",
    "regressor = SVR(kernel=\"linear\")\n",
    "\n",
    "# Combine preprocessing and regressor into one pipeline\n",
    "## SelectKBest with f_regression scoring\n",
    "pipeline = Pipeline(steps=[\n",
    "    ('feature_selection', SelectKBest(score_func=f_regression, k=10)),  \n",
    "    ('regressor', regressor)\n",
    "])\n",
    "\n",
    "# Fit the pipeline on training data\n",
    "pipeline.fit(X_train, y_train)\n",
    "\n",
    "# Evaluate on test data\n",
    "accuracy = pipeline.score(X_test, y_test)\n",
    "\n",
    "# Get selected feature indices\n",
    "selected_indices = pipeline.named_steps['feature_selection'].get_support(indices=True)\n",
    "\n",
    "# Extract feature names\n",
    "selected_feature_names = [header_names[i] for i in selected_indices]\n",
    "\n",
    "print(\"Selected Features:\", selected_feature_names)"
   ]
  },
  {
   "cell_type": "markdown",
   "id": "87be66a4-e287-477d-b5fc-82eee228e9b5",
   "metadata": {},
   "source": [
    "## Check correlation of selected features:"
   ]
  },
  {
   "cell_type": "code",
   "execution_count": 17,
   "id": "bff19523-171f-42c3-b341-f84040268f80",
   "metadata": {},
   "outputs": [
    {
     "data": {
      "image/png": "[encoded data removed]",
      "text/plain": [
       "<Figure size 800x600 with 2 Axes>"
      ]
     },
     "metadata": {},
     "output_type": "display_data"
    }
   ],
   "source": [
    "df_check_selected = df[['DRB', 'AST', 'TOV', 'PER', 'OWS', 'DWS', 'WS', 'BPM', 'VORP', 'Trp Dbl']]\n",
    "corr_matrix = df_check_selected.corr()\n",
    "\n",
    "# Plot heatmap\n",
    "plt.figure(figsize=(8, 6))\n",
    "sns.heatmap(corr_matrix, annot=True, cmap='coolwarm', fmt=\".2f\", linewidths=0.5)\n",
    "plt.title('Correlation Heatmap')\n",
    "plt.show()"
   ]
  },
  {
   "cell_type": "code",
   "execution_count": 18,
   "id": "30def422-056a-4dc2-b74d-b621897cac1a",
   "metadata": {},
   "outputs": [],
   "source": [
    "# Filter the training and testing data to include only selected features\n",
    "X_train_selected = X_train[:, selected_indices]\n",
    "X_test_selected = X_test[:, selected_indices]\n",
    "\n",
    "df_last_transformed = pd.DataFrame(df_last_transformed, columns=header_names)\n",
    "# Use only selected features for df_last\n",
    "df_last = df_last_transformed[selected_feature_names]"
   ]
  },
  {
   "cell_type": "markdown",
   "id": "a6402bd9-25b2-431f-bcdb-e707a917c75b",
   "metadata": {},
   "source": [
    "---"
   ]
  },
  {
   "cell_type": "markdown",
   "id": "96338c54-a9eb-432c-a7a3-4955799e2681",
   "metadata": {},
   "source": [
    "# Modeling"
   ]
  },
  {
   "cell_type": "markdown",
   "id": "f855c935-a5a9-4d56-93d5-93d85ac2f03f",
   "metadata": {},
   "source": [
    "### Basic linear regression"
   ]
  },
  {
   "cell_type": "code",
   "execution_count": 19,
   "id": "7bd067e2-0610-499d-806d-e9c38d0cf855",
   "metadata": {},
   "outputs": [
    {
     "name": "stdout",
     "output_type": "stream",
     "text": [
      "Test MSE (Linear Regression - Selected Features): 0.00439420703560646\n",
      "Test R-squared (Linear Regression - Selected Features): 0.3655510246422836\n"
     ]
    }
   ],
   "source": [
    "# Initialize a linear regression model\n",
    "linear_model = LinearRegression()\n",
    "\n",
    "# Fit the model on the preprocessed training data\n",
    "linear_model.fit(X_train_selected, y_train)\n",
    "\n",
    "# Make predictions on the test data using the model fitted on selected features\n",
    "test_predictions_selected = linear_model.predict(X_test_selected)\n",
    "\n",
    "# Evaluate the model using mean squared error and R-squared on selected features\n",
    "test_mse_selected = mean_squared_error(y_test, test_predictions_selected)\n",
    "test_r2_selected = r2_score(y_test, test_predictions_selected)\n",
    "\n",
    "print(\"Test MSE (Linear Regression - Selected Features):\", test_mse_selected)\n",
    "print(\"Test R-squared (Linear Regression - Selected Features):\", test_r2_selected)"
   ]
  },
  {
   "cell_type": "markdown",
   "id": "a5d4ab68-c051-4e19-8a7c-3d1470c18331",
   "metadata": {},
   "source": [
    "### RandomForestRegressor"
   ]
  },
  {
   "cell_type": "code",
   "execution_count": 21,
   "id": "9cc2e1f3-e7c0-45ce-afa3-a08004f49dba",
   "metadata": {},
   "outputs": [
    {
     "name": "stdout",
     "output_type": "stream",
     "text": [
      "Best Hyperparameters (Random Forest): {'n_estimators': 300, 'min_samples_split': 10, 'min_samples_leaf': 4, 'max_features': 'sqrt', 'max_depth': None, 'bootstrap': True}\n",
      "Test MSE (Best Random Forest): 0.0020725588790515494\n",
      "Test R-squared (Best Random Forest): 0.7007576460262723\n"
     ]
    }
   ],
   "source": [
    "# Define the hyperparameter grid\n",
    "param_grid_rf = {\n",
    "    'n_estimators': [100, 200, 300],  # Number of trees in the forest\n",
    "    'max_features': ['auto', 'sqrt'],  # Number of features to consider at every split\n",
    "    'max_depth': [None, 10, 20],  # Maximum depth of the trees\n",
    "    'min_samples_split': [2, 5, 10],  # Minimum number of samples required to split an internal node\n",
    "    'min_samples_leaf': [1, 2, 4],  # Minimum number of samples required to be at a leaf node\n",
    "    'bootstrap': [True, False]  # Method of selecting samples for training each tree\n",
    "}\n",
    "\n",
    "# Initialize RandomForestRegressor\n",
    "rf_model = RandomForestRegressor(random_state=28)\n",
    "\n",
    "# Initialize RandomizedSearchCV\n",
    "random_search_rf = RandomizedSearchCV(estimator=rf_model, param_distributions=param_grid_rf,\n",
    "                                      n_iter=50, scoring='r2', cv=10, random_state=28)\n",
    "\n",
    "# Perform random search\n",
    "random_search_rf.fit(X_train_selected, y_train)\n",
    "\n",
    "# Get the best hyperparameters\n",
    "best_params_rf = random_search_rf.best_params_\n",
    "print(\"Best Hyperparameters (Random Forest):\", best_params_rf)\n",
    "\n",
    "# Get the best model\n",
    "best_rf_model = random_search_rf.best_estimator_\n",
    "\n",
    "# Make predictions on the test data using the best model\n",
    "test_predictions_best_rf = best_rf_model.predict(X_test_selected)\n",
    "\n",
    "# Evaluate the best model using mean squared error and R-squared\n",
    "test_mse_best_rf = mean_squared_error(y_test, test_predictions_best_rf)\n",
    "test_r2_best_rf = r2_score(y_test, test_predictions_best_rf)\n",
    "\n",
    "print(\"Test MSE (Best Random Forest):\", test_mse_best_rf)\n",
    "print(\"Test R-squared (Best Random Forest):\", test_r2_best_rf)"
   ]
  },
  {
   "cell_type": "markdown",
   "id": "69b08ad4-4603-4e01-8f0c-26a4853f781b",
   "metadata": {},
   "source": [
    "### GradientBoostingRegressor"
   ]
  },
  {
   "cell_type": "code",
   "execution_count": 247,
   "id": "3b0bf58d-4d6c-473d-b53f-6fa6e874a0ad",
   "metadata": {},
   "outputs": [
    {
     "name": "stdout",
     "output_type": "stream",
     "text": [
      "Best Hyperparameters (Gradient Boosting): {'subsample': 0.6, 'n_estimators': 100, 'min_samples_split': 12, 'min_samples_leaf': 5, 'max_features': 'sqrt', 'max_depth': 5, 'learning_rate': 0.05}\n",
      "Test MSE (Best Gradient Boosting): 0.0020839740758370274\n",
      "Test R-squared (Best Gradient Boosting): 0.6991094851987629\n"
     ]
    }
   ],
   "source": [
    "# Define the hyperparameter grid\n",
    "param_grid_gb = {\n",
    "    'n_estimators': [100, 200, 300],  # Number of boosting stages\n",
    "    'learning_rate': [0.05, 0.1, 0.15],  # Learning rate\n",
    "    'max_depth': [3, 5, 7],  # Maximum depth of the individual trees\n",
    "    'min_samples_split': [2, 5, 10],  # Minimum number of samples required to split an internal node\n",
    "    'min_samples_leaf': [1, 2, 4],  # Minimum number of samples required to be at a leaf node\n",
    "    'subsample': [0.6, 0.8, 1.0],  # Fraction of samples used for fitting the individual base learners\n",
    "    'max_features': ['auto', 'sqrt']  # Number of features to consider when looking for the best split\n",
    "}\n",
    "\n",
    "# Initialize GradientBoostingRegressor\n",
    "gb_model = GradientBoostingRegressor(random_state=28)\n",
    "\n",
    "# Initialize RandomizedSearchCV\n",
    "random_search_gb = RandomizedSearchCV(estimator=gb_model, param_distributions=param_grid_gb,\n",
    "                                      n_iter=50, scoring='r2', cv=10, random_state=28)\n",
    "\n",
    "# Perform random search\n",
    "random_search_gb.fit(X_train_selected, y_train)\n",
    "\n",
    "# Get the best hyperparameters\n",
    "best_params_gb = random_search_gb.best_params_\n",
    "print(\"Best Hyperparameters (Gradient Boosting):\", best_params_gb)\n",
    "\n",
    "# Get the best model\n",
    "best_gb_model = random_search_gb.best_estimator_\n",
    "\n",
    "# Make predictions on the test data using the best model\n",
    "test_predictions_best_gb = best_gb_model.predict(X_test_selected)\n",
    "\n",
    "# Evaluate the best model using mean squared error and R-squared\n",
    "test_mse_best_gb = mean_squared_error(y_test, test_predictions_best_gb)\n",
    "test_r2_best_gb = r2_score(y_test, test_predictions_best_gb)\n",
    "\n",
    "print(\"Test MSE:\", test_mse_best_gb)\n",
    "print(\"Test R-squared:\", test_r2_best_gb)"
   ]
  },
  {
   "cell_type": "markdown",
   "id": "5dab4279-e00d-45b0-9f7c-5654b3849a61",
   "metadata": {},
   "source": [
    "### XGBRegressor"
   ]
  },
  {
   "cell_type": "code",
   "execution_count": 240,
   "id": "ee63e3d5-4034-47e7-899d-edd9823fece0",
   "metadata": {},
   "outputs": [
    {
     "name": "stdout",
     "output_type": "stream",
     "text": [
      "Best Hyperparameters: {'subsample': 1.0, 'reg_lambda': 0.1, 'reg_alpha': 0.5, 'n_estimators': 300, 'min_child_weight': 5, 'max_depth': 7, 'learning_rate': 0.05, 'gamma': 0.1, 'colsample_bytree': 0.8}\n",
      "Test MSE (Best XGBoost): 0.0022419207935488327\n",
      "Test R-squared (Best XGBoost): 0.6763046577517695\n"
     ]
    }
   ],
   "source": [
    "# Define the hyperparameter grid\n",
    "param_grid = {\n",
    "    'n_estimators': [100, 200, 300],  # Number of trees in the forest\n",
    "    'learning_rate': [0.05, 0.1, 0.15],  # Learning rate\n",
    "    'max_depth': [3, 5, 7],  # Maximum depth of each tree\n",
    "    'min_child_weight': [1, 3, 5],  # Minimum sum of instance weight needed in a child\n",
    "    'subsample': [0.6, 0.8, 1.0],  # Subsample ratio of the training instance\n",
    "    'colsample_bytree': [0.6, 0.8, 1.0],  # Subsample ratio of columns when constructing each tree\n",
    "    'gamma': [0, 0.1, 0.2],  # Minimum loss reduction required to make a further partition on a leaf node of the tree\n",
    "    'reg_alpha': [0, 0.1, 0.5],  # L1 regularization term on weights\n",
    "    'reg_lambda': [0, 0.1, 0.5]  # L2 regularization term on weights\n",
    "}\n",
    "\n",
    "# Initialize XGBRegressor\n",
    "xgb_model = XGBRegressor(random_state=28)\n",
    "\n",
    "# Initialize RandomizedSearchCV\n",
    "random_search = RandomizedSearchCV(estimator=xgb_model, param_distributions=param_grid,\n",
    "                                   n_iter=50, scoring='r2', cv=5, random_state=28)\n",
    "\n",
    "# Perform random search\n",
    "random_search.fit(X_train_selected, y_train)\n",
    "\n",
    "# Get the best hyperparameters\n",
    "best_params = random_search.best_params_\n",
    "print(\"Best Hyperparameters:\", best_params)\n",
    "\n",
    "# Get the best model\n",
    "best_xgb_model = random_search.best_estimator_\n",
    "\n",
    "# Make predictions on the test data using the best model\n",
    "test_predictions_best_xgb = best_xgb_model.predict(X_test_selected)\n",
    "\n",
    "# Evaluate the best model using mean squared error and R-squared\n",
    "test_mse_best_xgb = mean_squared_error(y_test, test_predictions_best_xgb)\n",
    "test_r2_best_xgb = r2_score(y_test, test_predictions_best_xgb)\n",
    "\n",
    "print(\"Test MSE (Best XGBoost):\", test_mse_best_xgb)\n",
    "print(\"Test R-squared (Best XGBoost):\", test_r2_best_xgb)"
   ]
  },
  {
   "cell_type": "markdown",
   "id": "b3bd746a-b87c-49c5-b03a-c949d3ab7d4c",
   "metadata": {},
   "source": [
    "### NeuralNet"
   ]
  },
  {
   "cell_type": "code",
   "execution_count": 241,
   "id": "b34742ea-3736-4de7-a679-d262b95b3c4a",
   "metadata": {},
   "outputs": [
    {
     "name": "stdout",
     "output_type": "stream",
     "text": [
      "Best Hyperparameters (MLP): {'max_iter': 400, 'learning_rate_init': 0.01, 'hidden_layer_sizes': (100, 50), 'alpha': 0.01, 'activation': 'relu'}\n",
      "Test MSE (Best MLP): 0.0024597493553108877\n",
      "Test R-squared (Best MLP): 0.6448539075495758\n"
     ]
    }
   ],
   "source": [
    "# Define the hyperparameter grid\n",
    "param_grid_mlp = {\n",
    "    'hidden_layer_sizes': [(50,), (100,), (50, 50), (100, 50)],  # Number of neurons in each hidden layer\n",
    "    'activation': ['relu'],  # Activation function for the hidden layers\n",
    "    'alpha': [0.0001, 0.001, 0.01],  # Regularization parameter\n",
    "    'learning_rate_init': [0.001, 0.01, 0.1],  # Initial learning rate\n",
    "    'max_iter': [300, 400, 500],  # Maximum number of iterations\n",
    "}\n",
    "\n",
    "# Initialize MLPRegressor\n",
    "mlp_model = MLPRegressor(random_state=28)\n",
    "\n",
    "# Initialize RandomizedSearchCV\n",
    "random_search_mlp = RandomizedSearchCV(estimator=mlp_model, param_distributions=param_grid_mlp,\n",
    "                                       n_iter=50, scoring='r2', cv=10, random_state=28)\n",
    "\n",
    "# Perform random search\n",
    "random_search_mlp.fit(X_train_selected, y_train)\n",
    "\n",
    "# Get the best hyperparameters\n",
    "best_params_mlp = random_search_mlp.best_params_\n",
    "print(\"Best Hyperparameters (MLP):\", best_params_mlp)\n",
    "\n",
    "# Get the best model\n",
    "best_mlp_model = random_search_mlp.best_estimator_\n",
    "\n",
    "# Make predictions on the test data using the best model\n",
    "test_predictions_best_mlp = best_mlp_model.predict(X_test_selected)\n",
    "\n",
    "# Evaluate the best model using mean squared error and R-squared\n",
    "test_mse_best_mlp = mean_squared_error(y_test, test_predictions_best_mlp)\n",
    "test_r2_best_mlp = r2_score(y_test, test_predictions_best_mlp)\n",
    "\n",
    "print(\"Test MSE (Best MLP):\", test_mse_best_mlp)\n",
    "print(\"Test R-squared (Best MLP):\", test_r2_best_mlp)"
   ]
  },
  {
   "cell_type": "markdown",
   "id": "421f51b0-ef91-4c49-a460-8374f482bce1",
   "metadata": {},
   "source": [
    "## Neural Net 2"
   ]
  },
  {
   "cell_type": "code",
   "execution_count": 242,
   "id": "130b34b6-6992-4109-98c8-3519d2aa2b9a",
   "metadata": {},
   "outputs": [
    {
     "name": "stdout",
     "output_type": "stream",
     "text": [
      "Train predictors shape: (5863, 10)\n",
      "Train response shape: (5863,)\n",
      "Test predictors shape: (1466, 10)\n",
      "Test response shape: (1466,)\n"
     ]
    }
   ],
   "source": [
    "print(f'Train predictors shape: {X_train_selected.shape}')\n",
    "print(f'Train response shape: {y_train.shape}')\n",
    "print(f'Test predictors shape: {X_test_selected.shape}')\n",
    "print(f'Test response shape: {y_test.shape}')"
   ]
  },
  {
   "cell_type": "markdown",
   "id": "9972826c-149f-4128-a1a6-b0de01583322",
   "metadata": {},
   "source": [
    "### Comparing model results:"
   ]
  },
  {
   "cell_type": "code",
   "execution_count": 244,
   "id": "4e55a383-905d-4a9c-ac5e-63b6c7a63806",
   "metadata": {},
   "outputs": [
    {
     "data": {
      "image/png": "[encoded data removed]",
      "text/plain": [
       "<Figure size 400x300 with 1 Axes>"
      ]
     },
     "metadata": {},
     "output_type": "display_data"
    }
   ],
   "source": [
    "r_sqs = [test_r2_selected, test_r2_best_rf, test_r2_best_gb, test_r2_best_xgb, test_r2_best_mlp]\n",
    "\n",
    "# List of model names\n",
    "model_names = ['OLS', 'RF', 'GB', 'XGBoost', 'NN']\n",
    "\n",
    "# Plot the bar chart\n",
    "plt.figure(figsize=(4, 3))\n",
    "plt.bar(model_names, r_sqs, color='skyblue')\n",
    "plt.xlabel('Model')\n",
    "plt.ylabel('R-squared')\n",
    "plt.title('R-squared values for different models')\n",
    "plt.xticks(rotation=45)\n",
    "plt.ylim(0, 1)  # Set the y-axis limit to be between 0 and 1\n",
    "plt.show()"
   ]
  },
  {
   "cell_type": "markdown",
   "id": "163ae203-99a3-45d1-8f95-846c88aea83b",
   "metadata": {},
   "source": [
    "# Predict past 5 seasons"
   ]
  },
  {
   "cell_type": "code",
   "execution_count": 245,
   "id": "4a9990d0-f4be-4f9d-994f-9b9ac7723caa",
   "metadata": {},
   "outputs": [
    {
     "name": "stdout",
     "output_type": "stream",
     "text": [
      "2022\n",
      "                    Player  MVP_Shares_in_%\n",
      "57            Nikola Jokić        62.269030\n",
      "18   Giannis Antetokounmpo        36.995245\n",
      "78             Joel Embiid        33.058220\n",
      "117             Trae Young        14.224414\n",
      "131        Dejounte Murray         7.857555\n",
      "24             Rudy Gobert         7.762436\n",
      "49      Karl-Anthony Towns         7.323246\n",
      "139           Jayson Tatum         4.161809\n",
      "=============================================================================\n",
      "============================================================================\n",
      "\n",
      "2021\n",
      "              Player  MVP_Shares_in_%\n",
      "13      Nikola Jokić        60.914698\n",
      "76       Luka Dončić        22.721842\n",
      "73    Damian Lillard         9.387057\n",
      "39       Rudy Gobert         6.125924\n",
      "33    Nikola Vučević         4.397551\n",
      "57     Julius Randle         1.213657\n",
      "35      Enes Freedom         0.753451\n",
      "26  Montrezl Harrell         0.417444\n",
      "=============================================================================\n",
      "============================================================================\n",
      "\n",
      "2020\n",
      "               Player  MVP_Shares_in_%\n",
      "22       LeBron James        28.705485\n",
      "44       James Harden        27.905544\n",
      "80     Damian Lillard        20.441917\n",
      "69       Nikola Jokić        15.467473\n",
      "34   Hassan Whiteside         1.976280\n",
      "15        Rudy Gobert         0.932324\n",
      "70  Jonas Valančiūnas         0.830015\n",
      "1         Bam Adebayo         0.355766\n",
      "=============================================================================\n",
      "============================================================================\n",
      "\n",
      "2019\n",
      "                    Player  MVP_Shares_in_%\n",
      "20            James Harden        55.978861\n",
      "150  Giannis Antetokounmpo        49.919249\n",
      "47            Nikola Jokić        31.443127\n",
      "93             Rudy Gobert        19.777959\n",
      "50      Karl-Anthony Towns        14.137907\n",
      "6        Russell Westbrook        13.674184\n",
      "105           Kevin Durant        10.992250\n",
      "122         Nikola Vučević        10.239712\n",
      "=============================================================================\n",
      "============================================================================\n",
      "\n",
      "2018\n",
      "                    Player  MVP_Shares_in_%\n",
      "19            James Harden        47.576109\n",
      "121           LeBron James        38.970955\n",
      "206      Russell Westbrook        28.975690\n",
      "33   Giannis Antetokounmpo        22.397904\n",
      "134          Anthony Davis        21.315853\n",
      "13            Kevin Durant        14.428205\n",
      "195           Nikola Jokić        12.055896\n",
      "91      Karl-Anthony Towns        11.875917\n",
      "=============================================================================\n",
      "============================================================================\n",
      "\n"
     ]
    }
   ],
   "source": [
    "# Concatenate df_last, last_seasons, and last_names\n",
    "concatenated_data = np.concatenate([df_last.to_numpy(), last_seasons.reshape(-1, 1), last_names.reshape(-1, 1)], axis=1)\n",
    "\n",
    "# Create DataFrame with appropriate column names\n",
    "df_n_last = pd.DataFrame(data=concatenated_data, \n",
    "                         columns=selected_feature_names + ['Season', 'Name'])\n",
    "\n",
    "dfs_n_last = []\n",
    "for season_n in df_n_last['Season'].unique():\n",
    "    df_n = df_n_last[df_n_last['Season'] == season_n].copy()\n",
    "    names_n = df_n[\"Name\"].values\n",
    "    df_n.drop(['Season', 'Name'], axis=\"columns\", inplace=True)\n",
    "    feature_n = df_n.to_numpy()\n",
    "\n",
    "    # Get the indices of the selected feature names\n",
    "    selected_indices = [df_last.columns.get_loc(col) for col in selected_feature_names]\n",
    "    \n",
    "    # Select only the selected features for prediction\n",
    "    feature_n_selected = feature_n[:, selected_indices]\n",
    "    \n",
    "    # Predict MVP shares for the current season\n",
    "    prediction = best_rf_model.predict(feature_n_selected)\n",
    "\n",
    "    # Create DataFrame for the current season's predictions using selected features\n",
    "    df_curr_season_victory = pd.DataFrame(data=feature_n_selected, columns=selected_feature_names)\n",
    "    df_curr_season_victory['Season'] = season_n\n",
    "    df_curr_season_victory['Player'] = names_n\n",
    "    df_curr_season_victory['MVP_Shares_in_%'] = prediction * 100\n",
    "    \n",
    "    # Sort DataFrame by MVP shares\n",
    "    df_curr_season_victory = df_curr_season_victory.sort_values(by=['MVP_Shares_in_%'], ascending=False)\n",
    "    \n",
    "    # Print and append DataFrame\n",
    "    print(season_n)\n",
    "    print(df_curr_season_victory[['Player', 'MVP_Shares_in_%']].head(8))\n",
    "    print(\"=============================================================================\")\n",
    "    print(\"============================================================================\\n\")\n",
    "    \n",
    "    dfs_n_last.append(df_curr_season_victory)\n",
    "\n",
    "# Concatenate DataFrames for all seasons\n",
    "dfs_n_last = pd.concat(dfs_n_last, ignore_index=True)"
   ]
  },
  {
   "cell_type": "markdown",
   "id": "25e47eb9-b2e7-4b7f-ac8c-5536b9d64e8b",
   "metadata": {},
   "source": [
    "# Shap"
   ]
  },
  {
   "cell_type": "code",
   "execution_count": 166,
   "id": "6f57581f-cf37-4b38-a38f-acc0cdcd4d6e",
   "metadata": {},
   "outputs": [
    {
     "data": {
      "application/vnd.jupyter.widget-view+json": {
       "model_id": "2265b62adbc54187a037c5dd7b13c052",
       "version_major": 2,
       "version_minor": 0
      },
      "text/plain": [
       "  0%|          | 0/2257 [00:00<?, ?it/s]"
      ]
     },
     "metadata": {},
     "output_type": "display_data"
    },
    {
     "data": {
      "image/png": "[encoded data removed]",
      "text/plain": [
       "<Figure size 800x550 with 1 Axes>"
      ]
     },
     "metadata": {},
     "output_type": "display_data"
    }
   ],
   "source": [
    "background_summary = shap.sample(X_train_selected, 50)\n",
    "\n",
    "# Create a KernelExplainer for your MLP model with the summarized background data\n",
    "explainer = shap.KernelExplainer(best_mlp_model.predict, background_summary)\n",
    "\n",
    "# Compute SHAP values\n",
    "shap_values = explainer.shap_values(X_test_selected)\n",
    "\n",
    "# Plot\n",
    "shap.summary_plot(shap_values, X_test_selected, plot_type=\"bar\", feature_names=selected_feature_names, \n",
    "                  show=False, max_display=15)\n",
    "plt.title(\"SHAP Importance\", fontsize=14, loc=\"center\")   \n",
    "plt.tight_layout()\n",
    "plt.show()"
   ]
  },
  {
   "cell_type": "code",
   "execution_count": null,
   "id": "753176d3-c89c-45ab-966e-4be3d3147a84",
   "metadata": {},
   "outputs": [],
   "source": []
  }
 ],
 "metadata": {
  "kernelspec": {
   "display_name": "Python 3 (ipykernel)",
   "language": "python",
   "name": "python3"
  },
  "language_info": {
   "codemirror_mode": {
    "name": "ipython",
    "version": 3
   },
   "file_extension": ".py",
   "mimetype": "text/x-python",
   "name": "python",
   "nbconvert_exporter": "python",
   "pygments_lexer": "ipython3",
   "version": "3.11.0"
  }
 },
 "nbformat": 4,
 "nbformat_minor": 5
}
