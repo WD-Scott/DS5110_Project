{
 "cells": [
  {
   "cell_type": "code",
   "execution_count": 13,
   "id": "f047465d-9e7f-430d-905d-2e8f1fc91123",
   "metadata": {},
   "outputs": [],
   "source": [
    "import pandas as pd\n",
    "import numpy as np\n",
    "import os\n",
    "os.chdir('/Users/wyattscott/Documents/DS5110/Project')\n",
    "\n",
    "import seaborn as sns\n",
    "import matplotlib.pyplot as plt\n",
    "import shap\n",
    "import pickle\n",
    "\n",
    "import warnings\n",
    "warnings.filterwarnings('ignore')\n",
    "\n",
    "from sklearn.svm import SVR, SVC\n",
    "from sklearn.metrics import mean_absolute_error, r2_score, mean_squared_error\n",
    "from sklearn.feature_selection import SelectKBest, f_regression\n",
    "from sklearn.model_selection import train_test_split, GridSearchCV, RandomizedSearchCV\n",
    "from sklearn import metrics, linear_model\n",
    "from sklearn.linear_model import LinearRegression\n",
    "from sklearn.compose import ColumnTransformer\n",
    "from sklearn.ensemble import RandomForestRegressor, GradientBoostingRegressor\n",
    "from sklearn.impute import SimpleImputer\n",
    "from sklearn.pipeline import Pipeline\n",
    "from sklearn.preprocessing import OneHotEncoder, StandardScaler\n",
    "from xgboost import XGBRegressor\n",
    "from sklearn.neural_network import MLPRegressor\n",
    "from scipy.stats import randint\n",
    "\n",
    "import tensorflow as tf\n",
    "from tensorflow import keras\n",
    "from tensorflow.keras import layers"
   ]
  },
  {
   "cell_type": "code",
   "execution_count": 14,
   "id": "28ba89cb-09bc-4afa-acc3-fa4d344d28e2",
   "metadata": {},
   "outputs": [],
   "source": [
    "# Load the data\n",
    "df = pd.read_csv('df_clean.csv')\n",
    "df_last = pd.read_csv('df_last.csv')\n",
    "label_col_name = \"mvp_share\"\n",
    "labels = df.pop(label_col_name)\n",
    "stratify = df.pop(\"Rank\")\n",
    "df_selected = pd.read_csv('df_selected.csv')"
   ]
  },
  {
   "cell_type": "code",
   "execution_count": 15,
   "id": "c37c13d2-3134-4121-b692-42868bfe80db",
   "metadata": {},
   "outputs": [],
   "source": [
    "# Split the data into training and testing sets\n",
    "X_train_selected, X_test_selected, y_train, y_test = train_test_split(df_selected, \n",
    "                                                                      labels, \n",
    "                                                                      test_size=0.2, \n",
    "                                                                      stratify=stratify, \n",
    "                                                                      random_state=28)\n",
    "\n",
    "# Convert y_train and y_test to arrays\n",
    "y_train = y_train.values\n",
    "y_test = y_test.values\n",
    "\n",
    "# Convert X_train_selected and X_test_selected to arrays\n",
    "X_train = X_train_selected.values\n",
    "X_test = X_test_selected.values"
   ]
  },
  {
   "cell_type": "markdown",
   "id": "bf7d57ec-1d0e-4ad5-8682-089e6e200df8",
   "metadata": {},
   "source": [
    "---\n",
    "\n",
    "# OLS"
   ]
  },
  {
   "cell_type": "code",
   "execution_count": 16,
   "id": "4f185286-7aa2-490b-b87b-3ae903ad9772",
   "metadata": {},
   "outputs": [
    {
     "name": "stdout",
     "output_type": "stream",
     "text": [
      "Test MSE (OLS): 0.0043337575247560335\n",
      "Test R-squared (OLS): 0.40214118058188875\n"
     ]
    }
   ],
   "source": [
    "# Initialize a linear regression model\n",
    "linear_model = LinearRegression()\n",
    "\n",
    "# Fit the model on the preprocessed training data\n",
    "linear_model.fit(X_train, y_train)\n",
    "\n",
    "# Make predictions on the test data using the model fitted on selected features\n",
    "y_pred_ols = linear_model.predict(X_test)\n",
    "\n",
    "# Evaluate the model using mean squared error and R-squared on selected features\n",
    "test_mse_ols = mean_squared_error(y_test, y_pred_ols)\n",
    "test_r2_ols = r2_score(y_test, y_pred_ols)\n",
    "\n",
    "print(\"Test MSE (OLS):\", test_mse_ols)\n",
    "print(\"Test R-squared (OLS):\", test_r2_ols)"
   ]
  },
  {
   "cell_type": "code",
   "execution_count": 17,
   "id": "64cb8c5e-3d11-432f-a56e-be5a1ff495e6",
   "metadata": {},
   "outputs": [
    {
     "name": "stdout",
     "output_type": "stream",
     "text": [
      "Feature Coefficients (OLS):\n",
      "VORP : 0.06497139040849774\n",
      "PER : 0.005175556320153947\n",
      "WS : -0.00614614502097844\n",
      "FT : -0.00125882941190273\n",
      "BPM : -0.026424555406396825\n",
      "Rk_Conference : -0.0020087599371607563\n",
      "USG% : -0.00038376730225571793\n",
      "Trp Dbl : 1.2642363531935008\n",
      "AST : -0.006758617791088807\n",
      "2P% : -0.06319943024831641\n"
     ]
    }
   ],
   "source": [
    "# Get the coefficients and corresponding feature names\n",
    "coefficients = linear_model.coef_\n",
    "feature_names = df_selected.columns\n",
    "\n",
    "# Match coefficients with corresponding feature names\n",
    "coefficients_dict = dict(zip(feature_names, coefficients))\n",
    "\n",
    "# Print feature importance\n",
    "print(\"Feature Coefficients (OLS):\")\n",
    "for feature, coefficient in coefficients_dict.items():\n",
    "    print(feature, \":\", coefficient)"
   ]
  },
  {
   "cell_type": "markdown",
   "id": "aba8e2b9-98d3-48a7-915c-2a8c067990b0",
   "metadata": {},
   "source": [
    "---\n",
    "\n",
    "# Random Forest"
   ]
  },
  {
   "cell_type": "code",
   "execution_count": 18,
   "id": "653666ba-b6f5-4085-94fe-5c62b3f69e8f",
   "metadata": {},
   "outputs": [
    {
     "name": "stdout",
     "output_type": "stream",
     "text": [
      "Best Hyperparameters (Random Forest): {'n_estimators': 200, 'min_samples_split': 5, 'min_samples_leaf': 2, 'max_features': 'sqrt', 'max_depth': 10, 'bootstrap': False}\n",
      "Test MSE (Best Random Forest): 0.0022110990526614483\n",
      "Test R-squared (Best Random Forest): 0.6949702281012837\n"
     ]
    }
   ],
   "source": [
    "# Define the hyperparameter grid\n",
    "param_grid_rf = {\n",
    "    'n_estimators': [100, 200, 300],  # Number of trees in the forest\n",
    "    'max_features': ['auto', 'sqrt'],  # Number of features to consider at every split\n",
    "    'max_depth': [None, 10, 20],  # Maximum depth of the trees\n",
    "    'min_samples_split': [2, 5, 10],  # Minimum number of samples required to split an internal node\n",
    "    'min_samples_leaf': [1, 2, 4],  # Minimum number of samples required to be at a leaf node\n",
    "    'bootstrap': [True, False]  # Method of selecting samples for training each tree\n",
    "}\n",
    "\n",
    "# Initialize RandomForestRegressor\n",
    "rf_model = RandomForestRegressor(random_state=28)\n",
    "\n",
    "# Initialize RandomizedSearchCV\n",
    "random_search_rf = RandomizedSearchCV(estimator=rf_model, param_distributions=param_grid_rf,\n",
    "                                      n_iter=50, scoring='r2', cv=10, random_state=28)\n",
    "\n",
    "# Perform random search\n",
    "random_search_rf.fit(X_train, y_train)\n",
    "\n",
    "# Get the best hyperparameters\n",
    "best_params_rf = random_search_rf.best_params_\n",
    "print(\"Best Hyperparameters (Random Forest):\", best_params_rf)\n",
    "\n",
    "# Get the best model\n",
    "best_rf_model = random_search_rf.best_estimator_\n",
    "\n",
    "# Make predictions on the test data using the best model\n",
    "y_pred_rf = best_rf_model.predict(X_test)\n",
    "\n",
    "# Evaluate the best model using mean squared error and R-squared\n",
    "test_mse_rf = mean_squared_error(y_test, y_pred_rf)\n",
    "test_r2_rf = r2_score(y_test, y_pred_rf)\n",
    "\n",
    "print(\"Test MSE (Best Random Forest):\", test_mse_rf)\n",
    "print(\"Test R-squared (Best Random Forest):\", test_r2_rf)"
   ]
  },
  {
   "cell_type": "code",
   "execution_count": 19,
   "id": "69b907b8-86f0-44d4-b86d-1ef997065365",
   "metadata": {},
   "outputs": [
    {
     "name": "stdout",
     "output_type": "stream",
     "text": [
      "Feature Importance (Random Forest):\n",
      "WS : 0.24416368335941693\n",
      "PER : 0.20019191008735335\n",
      "VORP : 0.1567921055509965\n",
      "BPM : 0.12153468995880429\n",
      "Rk_Conference : 0.09963184911922522\n",
      "USG% : 0.0620281324433072\n",
      "AST : 0.03538159748252566\n",
      "FT : 0.034148522447333046\n",
      "Trp Dbl : 0.02322937216203309\n",
      "2P% : 0.02289813738900458\n"
     ]
    }
   ],
   "source": [
    "# Get feature importance\n",
    "feature_importance_rf = best_rf_model.feature_importances_\n",
    "\n",
    "# Match feature importance with corresponding feature names\n",
    "feature_importance_dict_rf = dict(zip(feature_names, feature_importance_rf))\n",
    "\n",
    "# Sort feature importance in descending order\n",
    "sorted_feature_importance_rf = sorted(feature_importance_dict_rf.items(), key=lambda x: x[1], reverse=True)\n",
    "\n",
    "# Print feature importance\n",
    "print(\"Feature Importance (Random Forest):\")\n",
    "for feature, importance in sorted_feature_importance_rf:\n",
    "    print(feature, \":\", importance)"
   ]
  },
  {
   "cell_type": "markdown",
   "id": "1b30bb30-f9da-4273-ac1a-557350d3b433",
   "metadata": {},
   "source": [
    "---\n",
    "\n",
    "# Gradient Boosting Regressor"
   ]
  },
  {
   "cell_type": "code",
   "execution_count": 20,
   "id": "7bdef30d-52fa-4192-9299-8bc2ef6f83de",
   "metadata": {},
   "outputs": [
    {
     "name": "stdout",
     "output_type": "stream",
     "text": [
      "Best Hyperparameters (Gradient Boosting): {'subsample': 1.0, 'n_estimators': 100, 'min_samples_split': 2, 'min_samples_leaf': 2, 'max_features': 'sqrt', 'max_depth': 5, 'learning_rate': 0.15}\n",
      "Test MSE: 0.0024566710985349117\n",
      "Test R-squared: 0.6610926028328364\n"
     ]
    }
   ],
   "source": [
    "# Define the hyperparameter grid\n",
    "param_grid_gb = {\n",
    "    'n_estimators': [100, 200, 300],  # Number of boosting stages\n",
    "    'learning_rate': [0.05, 0.1, 0.15],  # Learning rate\n",
    "    'max_depth': [3, 5, 7],  # Maximum depth of the individual trees\n",
    "    'min_samples_split': [2, 5, 10],  # Minimum number of samples required to split an internal node\n",
    "    'min_samples_leaf': [1, 2, 4],  # Minimum number of samples required to be at a leaf node\n",
    "    'subsample': [0.6, 0.8, 1.0],  # Fraction of samples used for fitting the individual base learners\n",
    "    'max_features': ['auto', 'sqrt']  # Number of features to consider when looking for the best split\n",
    "}\n",
    "\n",
    "# Initialize GradientBoostingRegressor\n",
    "gb_model = GradientBoostingRegressor(random_state=28)\n",
    "\n",
    "# Initialize RandomizedSearchCV\n",
    "random_search_gb = RandomizedSearchCV(estimator=gb_model, param_distributions=param_grid_gb,\n",
    "                                      n_iter=50, scoring='r2', cv=10, random_state=28)\n",
    "\n",
    "# Perform random search\n",
    "random_search_gb.fit(X_train, y_train)\n",
    "\n",
    "# Get the best hyperparameters\n",
    "best_params_gb = random_search_gb.best_params_\n",
    "print(\"Best Hyperparameters (Gradient Boosting):\", best_params_gb)\n",
    "\n",
    "# Get the best model\n",
    "best_gb_model = random_search_gb.best_estimator_\n",
    "\n",
    "# Make predictions on the test data using the best model\n",
    "y_pred_gb = best_gb_model.predict(X_test)\n",
    "\n",
    "# Evaluate the best model using mean squared error and R-squared\n",
    "test_mse_gb = mean_squared_error(y_test, y_pred_gb)\n",
    "test_r2_gb = r2_score(y_test, y_pred_gb)\n",
    "\n",
    "print(\"Test MSE:\", test_mse_gb)\n",
    "print(\"Test R-squared:\", test_r2_gb)"
   ]
  },
  {
   "cell_type": "code",
   "execution_count": 21,
   "id": "5e38eabc-fcdb-43ea-ba71-31861cb2f8da",
   "metadata": {},
   "outputs": [
    {
     "name": "stdout",
     "output_type": "stream",
     "text": [
      "Feature Importance (Gradient Boosting):\n",
      "PER : 0.31958455150861165\n",
      "WS : 0.21052442377940903\n",
      "BPM : 0.1352737511472747\n",
      "Rk_Conference : 0.10581671319607845\n",
      "VORP : 0.06380877377371832\n",
      "AST : 0.05270518402360628\n",
      "USG% : 0.0468093227239498\n",
      "Trp Dbl : 0.022965991753079236\n",
      "2P% : 0.022889578327088902\n",
      "FT : 0.0196217097671837\n"
     ]
    }
   ],
   "source": [
    "# Get feature importance\n",
    "feature_importance_gb = best_gb_model.feature_importances_\n",
    "\n",
    "# Match feature importance with corresponding feature names\n",
    "feature_importance_dict_gb = dict(zip(feature_names, feature_importance_gb))\n",
    "\n",
    "# Sort feature importance in descending order\n",
    "sorted_feature_importance_gb = sorted(feature_importance_dict_gb.items(), key=lambda x: x[1], reverse=True)\n",
    "\n",
    "# Print feature importance\n",
    "print(\"Feature Importance (Gradient Boosting):\")\n",
    "for feature, importance in sorted_feature_importance_gb:\n",
    "    print(feature, \":\", importance)"
   ]
  },
  {
   "cell_type": "markdown",
   "id": "a5f0b389-39dd-47c3-a488-46f539f8033f",
   "metadata": {},
   "source": [
    "---\n",
    "\n",
    "## XGBoost Regressor"
   ]
  },
  {
   "cell_type": "code",
   "execution_count": 22,
   "id": "b7e4aad2-1048-400c-8858-861d4e718366",
   "metadata": {},
   "outputs": [
    {
     "name": "stdout",
     "output_type": "stream",
     "text": [
      "Best Hyperparameters: {'subsample': 0.8, 'reg_lambda': 0.5, 'reg_alpha': 0, 'n_estimators': 100, 'min_child_weight': 3, 'max_depth': 5, 'learning_rate': 0.15, 'gamma': 0.1, 'colsample_bytree': 1.0}\n",
      "Test MSE (Best XGBoost): 0.0024751768305487304\n",
      "Test R-squared (Best XGBoost): 0.6585396646421211\n"
     ]
    }
   ],
   "source": [
    "# Define the hyperparameter grid\n",
    "param_grid = {\n",
    "    'n_estimators': [100, 200, 300],  # Number of trees in the forest\n",
    "    'learning_rate': [0.05, 0.1, 0.15],  # Learning rate\n",
    "    'max_depth': [3, 5, 7],  # Maximum depth of each tree\n",
    "    'min_child_weight': [1, 3, 5],  # Minimum sum of instance weight needed in a child\n",
    "    'subsample': [0.6, 0.8, 1.0],  # Subsample ratio of the training instance\n",
    "    'colsample_bytree': [0.6, 0.8, 1.0],  # Subsample ratio of columns when constructing each tree\n",
    "    'gamma': [0, 0.1, 0.2],  # Minimum loss reduction required to make a further partition on a leaf node of the tree\n",
    "    'reg_alpha': [0, 0.1, 0.5],  # L1 regularization term on weights\n",
    "    'reg_lambda': [0, 0.1, 0.5]  # L2 regularization term on weights\n",
    "}\n",
    "\n",
    "# Initialize XGBRegressor\n",
    "xgb_model = XGBRegressor(random_state=28)\n",
    "\n",
    "# Initialize RandomizedSearchCV\n",
    "random_search = RandomizedSearchCV(estimator=xgb_model, param_distributions=param_grid,\n",
    "                                   n_iter=50, scoring='r2', cv=5, random_state=28)\n",
    "\n",
    "# Perform random search\n",
    "random_search.fit(X_train, y_train)\n",
    "\n",
    "# Get the best hyperparameters\n",
    "best_params = random_search.best_params_\n",
    "print(\"Best Hyperparameters:\", best_params)\n",
    "\n",
    "# Get the best model\n",
    "best_xgb_model = random_search.best_estimator_\n",
    "\n",
    "# Make predictions on the test data using the best model\n",
    "y_pred_xgb = best_xgb_model.predict(X_test)\n",
    "\n",
    "# Evaluate the best model using mean squared error and R-squared\n",
    "test_mse_xgb = mean_squared_error(y_test, y_pred_xgb)\n",
    "test_r2_xgb = r2_score(y_test, y_pred_xgb)\n",
    "\n",
    "print(\"Test MSE (Best XGBoost):\", test_mse_xgb)\n",
    "print(\"Test R-squared (Best XGBoost):\", test_r2_xgb)"
   ]
  },
  {
   "cell_type": "code",
   "execution_count": 23,
   "id": "4d31dfc5-ef36-42ec-8916-d00d73b4ae8b",
   "metadata": {},
   "outputs": [
    {
     "name": "stdout",
     "output_type": "stream",
     "text": [
      "Feature Importance:\n",
      "PER : 0.31508783\n",
      "WS : 0.27140173\n",
      "Rk_Conference : 0.09708833\n",
      "BPM : 0.092239715\n",
      "AST : 0.048358127\n",
      "VORP : 0.045987107\n",
      "FT : 0.03787918\n",
      "2P% : 0.034811873\n",
      "USG% : 0.02876429\n",
      "Trp Dbl : 0.028381841\n"
     ]
    }
   ],
   "source": [
    "# Get feature importance\n",
    "feature_importance = best_xgb_model.feature_importances_\n",
    "\n",
    "# Match feature importance with corresponding feature names\n",
    "feature_importance_dict = dict(zip(feature_names, feature_importance))\n",
    "\n",
    "# Sort feature importance in descending order\n",
    "sorted_feature_importance = sorted(feature_importance_dict.items(), key=lambda x: x[1], reverse=True)\n",
    "\n",
    "# Print feature importance\n",
    "print(\"Feature Importance:\")\n",
    "for feature, importance in sorted_feature_importance:\n",
    "    print(feature, \":\", importance)"
   ]
  },
  {
   "cell_type": "markdown",
   "id": "0359c870-1bac-480a-87a7-b9971342d46d",
   "metadata": {},
   "source": [
    "---\n",
    "\n",
    "## Multilayer Perceptron"
   ]
  },
  {
   "cell_type": "code",
   "execution_count": 24,
   "id": "28b56232-2d0e-449a-b017-5b2f1b9de144",
   "metadata": {},
   "outputs": [
    {
     "name": "stdout",
     "output_type": "stream",
     "text": [
      "Best Hyperparameters (MLP): {'max_iter': 300, 'learning_rate_init': 0.01, 'hidden_layer_sizes': (50, 50), 'alpha': 0.0001, 'activation': 'relu'}\n",
      "Test MSE (Best MLP): 0.003015790903818793\n",
      "Test R-squared (Best MLP): 0.5839598364538214\n"
     ]
    }
   ],
   "source": [
    "# Define the hyperparameter grid\n",
    "param_grid_mlp = {\n",
    "    'hidden_layer_sizes': [(50,), (100,), (50, 50), (100, 50)],  # Number of neurons in each hidden layer\n",
    "    'activation': ['relu'],  # Activation function for the hidden layers\n",
    "    'alpha': [0.0001, 0.001, 0.01],  # Regularization parameter\n",
    "    'learning_rate_init': [0.001, 0.01, 0.1],  # Initial learning rate\n",
    "    'max_iter': [300, 400, 500],  # Maximum number of iterations\n",
    "}\n",
    "\n",
    "# Initialize MLPRegressor\n",
    "mlp_model = MLPRegressor(random_state=28)\n",
    "\n",
    "# Initialize RandomizedSearchCV\n",
    "random_search_mlp = RandomizedSearchCV(estimator=mlp_model, param_distributions=param_grid_mlp,\n",
    "                                       n_iter=50, scoring='r2', cv=10, random_state=28)\n",
    "\n",
    "# Perform random search\n",
    "random_search_mlp.fit(X_train, y_train)\n",
    "\n",
    "# Get the best hyperparameters\n",
    "best_params_mlp = random_search_mlp.best_params_\n",
    "print(\"Best Hyperparameters (MLP):\", best_params_mlp)\n",
    "\n",
    "# Get the best model\n",
    "best_mlp_model = random_search_mlp.best_estimator_\n",
    "\n",
    "# Make predictions on the test data using the best model\n",
    "y_pred_mlp = best_mlp_model.predict(X_test)\n",
    "\n",
    "# Evaluate the best model using mean squared error and R-squared\n",
    "test_mse_mlp = mean_squared_error(y_test, y_pred_mlp)\n",
    "test_r2_mlp = r2_score(y_test, y_pred_mlp)\n",
    "\n",
    "print(\"Test MSE (Best MLP):\", test_mse_mlp)\n",
    "print(\"Test R-squared (Best MLP):\", test_r2_mlp)"
   ]
  },
  {
   "cell_type": "markdown",
   "id": "2c53eced-6be5-429f-bb06-f1d7cdff4b03",
   "metadata": {},
   "source": [
    "---\n",
    "\n",
    "# Model Comparisons"
   ]
  },
  {
   "cell_type": "code",
   "execution_count": 25,
   "id": "7aeeb777-16b5-4ff7-8b34-07b225b3f97f",
   "metadata": {},
   "outputs": [
    {
     "data": {
      "image/png": "[encoded data removed]",
      "text/plain": [
       "<Figure size 1000x400 with 2 Axes>"
      ]
     },
     "metadata": {},
     "output_type": "display_data"
    }
   ],
   "source": [
    "# Data for R-squared values\n",
    "r_sqs = [test_r2_ols, test_r2_rf, test_r2_gb, test_r2_xgb, test_r2_mlp]\n",
    "\n",
    "# Data for MSE values\n",
    "MSE_s = [test_mse_ols, test_mse_rf, test_mse_gb, test_mse_xgb, test_mse_mlp]\n",
    "\n",
    "# List of model names\n",
    "model_names = ['OLS', 'RF', 'GB', 'XGBoost', 'NN']\n",
    "\n",
    "# Determine colors for R-squared bars\n",
    "r_sq_colors = ['#E57200' if r == max(r_sqs) else '#232D4B' for r in r_sqs]\n",
    "\n",
    "# Determine colors for MSE bars\n",
    "mse_colors = ['#E57200' if mse == min(MSE_s) else '#232D4B' for mse in MSE_s]\n",
    "\n",
    "# Create a figure with two subplots\n",
    "fig, axs = plt.subplots(1, 2, figsize=(10, 4))\n",
    "\n",
    "# Plot the R-squared values\n",
    "axs[0].bar(model_names, r_sqs, color=r_sq_colors)\n",
    "axs[0].set_xlabel('Model', fontdict={'fontsize': 10, 'fontweight': 'bold'})\n",
    "axs[0].set_ylabel('R-squared', fontdict={'fontsize': 10, 'fontweight': 'bold'})\n",
    "axs[0].set_title('Model R-squared Values', fontdict={'fontsize': 12, 'fontweight': 'bold'})\n",
    "axs[0].tick_params(axis='x', rotation=0)\n",
    "axs[0].set_ylim(0, 1)  # Set the y-axis limit to be between 0 and 1\n",
    "\n",
    "# Plot the MSE values\n",
    "axs[1].bar(model_names, MSE_s, color=mse_colors)\n",
    "axs[1].set_xlabel('Model', fontdict={'fontsize': 10, 'fontweight': 'bold'})\n",
    "axs[1].set_ylabel('MSE', fontdict={'fontsize': 10, 'fontweight': 'bold'})\n",
    "axs[1].set_title('Model MSE Values', fontdict={'fontsize': 12, 'fontweight': 'bold'})\n",
    "axs[1].tick_params(axis='x', rotation=0)\n",
    "axs[1].set_ylim(0, 0.005)  # Set the y-axis limit to be between 0 and 0.005\n",
    "\n",
    "# Adjust layout to prevent overlap\n",
    "plt.tight_layout()\n",
    "\n",
    "# Show the plot\n",
    "plt.show()"
   ]
  },
  {
   "cell_type": "code",
   "execution_count": null,
   "id": "f6ede10a-66ec-4e40-ad91-3a9fc4b94d58",
   "metadata": {},
   "outputs": [],
   "source": []
  }
 ],
 "metadata": {
  "kernelspec": {
   "display_name": "Python 3 (ipykernel)",
   "language": "python",
   "name": "python3"
  },
  "language_info": {
   "codemirror_mode": {
    "name": "ipython",
    "version": 3
   },
   "file_extension": ".py",
   "mimetype": "text/x-python",
   "name": "python",
   "nbconvert_exporter": "python",
   "pygments_lexer": "ipython3",
   "version": "3.11.0"
  }
 },
 "nbformat": 4,
 "nbformat_minor": 5
}
