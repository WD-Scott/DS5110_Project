{
 "cells": [
  {
   "cell_type": "markdown",
   "id": "7b4958d9-bdde-4907-8321-09e9310796cb",
   "metadata": {},
   "source": [
    "..."
   ]
  },
  {
   "cell_type": "code",
   "execution_count": 1,
   "id": "f047465d-9e7f-430d-905d-2e8f1fc91123",
   "metadata": {
    "tags": []
   },
   "outputs": [
    {
     "name": "stderr",
     "output_type": "stream",
     "text": [
      "2024-04-04 21:58:17.274610: I tensorflow/tsl/cuda/cudart_stub.cc:28] Could not find cuda drivers on your machine, GPU will not be used.\n",
      "2024-04-04 21:58:17.325286: I tensorflow/core/platform/cpu_feature_guard.cc:182] This TensorFlow binary is optimized to use available CPU instructions in performance-critical operations.\n",
      "To enable the following instructions: AVX2 FMA, in other operations, rebuild TensorFlow with the appropriate compiler flags.\n",
      "2024-04-04 21:58:19.032147: W tensorflow/compiler/tf2tensorrt/utils/py_utils.cc:38] TF-TRT Warning: Could not find TensorRT\n"
     ]
    }
   ],
   "source": [
    "import pandas as pd\n",
    "import numpy as np\n",
    "import time\n",
    "import os\n",
    "os.chdir('/sfs/qumulo/qhome/bdr6qz/Documents/MSDS/DS6050')\n",
    "\n",
    "import seaborn as sns\n",
    "import matplotlib.pyplot as plt\n",
    "import shap\n",
    "import pickle\n",
    "\n",
    "import warnings\n",
    "warnings.filterwarnings('ignore')\n",
    "\n",
    "from skopt import BayesSearchCV\n",
    "from skopt.space import Categorical, Real, Integer\n",
    "from sklearn.svm import SVR, SVC\n",
    "from sklearn.metrics import mean_absolute_error, r2_score, mean_squared_error\n",
    "from sklearn.feature_selection import SelectKBest, f_regression\n",
    "from sklearn.model_selection import train_test_split, GridSearchCV, RandomizedSearchCV\n",
    "from sklearn import metrics, linear_model\n",
    "from sklearn.linear_model import LinearRegression\n",
    "from sklearn.compose import ColumnTransformer\n",
    "from sklearn.ensemble import RandomForestRegressor, GradientBoostingRegressor\n",
    "from sklearn.impute import SimpleImputer\n",
    "from sklearn.pipeline import Pipeline\n",
    "from sklearn.preprocessing import OneHotEncoder, StandardScaler\n",
    "from xgboost import XGBRegressor\n",
    "from sklearn.neural_network import MLPRegressor\n",
    "from scipy.stats import randint\n",
    "\n",
    "import tensorflow as tf\n",
    "from tensorflow import keras\n",
    "from tensorflow.keras import layers"
   ]
  },
  {
   "cell_type": "code",
   "execution_count": 2,
   "id": "28ba89cb-09bc-4afa-acc3-fa4d344d28e2",
   "metadata": {
    "tags": []
   },
   "outputs": [],
   "source": [
    "# Load the data\n",
    "df = pd.read_csv('df_clean.csv')\n",
    "df_last = pd.read_csv('df_last.csv')\n",
    "label_col_name = \"mvp_share\"\n",
    "labels = df.pop(label_col_name)\n",
    "stratify = df.pop(\"Rank\")\n",
    "df_selected = pd.read_csv('df_selected.csv')"
   ]
  },
  {
   "cell_type": "code",
   "execution_count": 3,
   "id": "c37c13d2-3134-4121-b692-42868bfe80db",
   "metadata": {
    "tags": []
   },
   "outputs": [],
   "source": [
    "# Split the data into training and testing sets\n",
    "X_train_selected, X_test_selected, y_train, y_test = train_test_split(df_selected, \n",
    "                                                                      labels, \n",
    "                                                                      test_size=0.2, \n",
    "                                                                      stratify=stratify, \n",
    "                                                                      random_state=28)\n",
    "\n",
    "# Convert to arrays\n",
    "y_train = y_train.values\n",
    "y_test = y_test.values\n",
    "X_train = X_train_selected.values\n",
    "X_test = X_test_selected.values"
   ]
  },
  {
   "cell_type": "markdown",
   "id": "aba8e2b9-98d3-48a7-915c-2a8c067990b0",
   "metadata": {},
   "source": [
    "---\n",
    "\n",
    "# Random Forest"
   ]
  },
  {
   "cell_type": "code",
   "execution_count": 4,
   "id": "653666ba-b6f5-4085-94fe-5c62b3f69e8f",
   "metadata": {
    "tags": []
   },
   "outputs": [
    {
     "name": "stdout",
     "output_type": "stream",
     "text": [
      "Best Hyperparameters (Random Forest): OrderedDict([('bootstrap', False), ('max_depth', None), ('max_features', 'sqrt'), ('min_samples_leaf', 2), ('min_samples_split', 5), ('n_estimators', 300)])\n",
      "Test MSE (Best Random Forest): 0.002444948240631158\n",
      "Test R-squared (Best Random Forest): 0.6627098169816458\n",
      "Model execution time: 2.75 minutes\n"
     ]
    }
   ],
   "source": [
    "start_time = time.time()\n",
    "\n",
    "# Define the hyperparameter grid\n",
    "param_grid_rf = {\n",
    "    'n_estimators': [100, 200, 300],    # No. of trees in the forest\n",
    "    'max_features': ['log2', 'sqrt'],   # No. of features to consider at every split\n",
    "    'max_depth': [None, 10, 20],        # Max depth of the trees\n",
    "    'min_samples_split': [2, 5, 10],    # Min no. of samples required to split an internal node\n",
    "    'min_samples_leaf': [1, 2, 4],      # Min no. of samples required to be at a leaf node\n",
    "    'bootstrap': [True, False]          # Method to select samples for training each tree\n",
    "}\n",
    "\n",
    "# Initialize XGBRegressor\n",
    "rf = RandomForestRegressor(random_state=28)\n",
    "\n",
    "# Initialize BayesSearchCV\n",
    "bayes_rf = BayesSearchCV(estimator=rf, \n",
    "                         search_spaces=param_grid_rf,\n",
    "                         n_iter=50, \n",
    "                         scoring='r2', \n",
    "                         cv=5, \n",
    "                         random_state=28, \n",
    "                         n_jobs=-1)\n",
    "\n",
    "# Perform Bayesian Optimization\n",
    "bayes_rf.fit(X_train, y_train)\n",
    "\n",
    "# Get the best hyperparameters\n",
    "best_params_rf = bayes_rf.best_params_\n",
    "print(\"Best Hyperparameters (Random Forest):\", best_params_rf)\n",
    "\n",
    "# Get the best model\n",
    "best_rf = bayes_rf.best_estimator_\n",
    "\n",
    "# Make predictions on the test data using the best model\n",
    "y_pred_rf = best_rf.predict(X_test)\n",
    "\n",
    "# Evaluate the best model using mean squared error and R-squared\n",
    "test_mse_rf = mean_squared_error(y_test, y_pred_rf)\n",
    "test_r2_rf = r2_score(y_test, y_pred_rf)\n",
    "\n",
    "print(\"Test MSE (Best Random Forest):\", test_mse_rf)\n",
    "print(\"Test R-squared (Best Random Forest):\", test_r2_rf)\n",
    "\n",
    "end_time = time.time()\n",
    "execution_time = end_time - start_time\n",
    "print(f\"Model execution time: {round(execution_time/60, 2)} minutes\")"
   ]
  },
  {
   "cell_type": "code",
   "execution_count": 6,
   "id": "69b907b8-86f0-44d4-b86d-1ef997065365",
   "metadata": {
    "tags": []
   },
   "outputs": [
    {
     "name": "stdout",
     "output_type": "stream",
     "text": [
      "Feature Importance (Random Forest):\n",
      "WS : 0.226281023449062\n",
      "PER : 0.19025807749707038\n",
      "VORP : 0.13450324157480412\n",
      "BPM : 0.10765420080522513\n",
      "Overall : 0.10531195525344834\n",
      "WS/48 : 0.08192419691325152\n",
      "OBPM : 0.0560526258773487\n",
      "OWS : 0.04243670861257562\n",
      "FTA : 0.033849680268388305\n",
      "Trp Dbl : 0.021728289748825864\n"
     ]
    }
   ],
   "source": [
    "feature_names = df_selected.columns\n",
    "\n",
    "# Get feature importance\n",
    "feature_importance_rf = best_rf.feature_importances_\n",
    "\n",
    "# Match feature importance with corresponding feature names\n",
    "feature_importance_dict_rf = dict(zip(feature_names, feature_importance_rf))\n",
    "\n",
    "# Sort feature importance in descending order\n",
    "sorted_feature_importance_rf = sorted(feature_importance_dict_rf.items(), key=lambda x: x[1], reverse=True)\n",
    "\n",
    "# Print feature importance\n",
    "print(\"Feature Importance (Random Forest):\")\n",
    "for feature, importance in sorted_feature_importance_rf:\n",
    "    print(feature, \":\", importance)"
   ]
  },
  {
   "cell_type": "markdown",
   "id": "1b30bb30-f9da-4273-ac1a-557350d3b433",
   "metadata": {},
   "source": [
    "---\n",
    "\n",
    "# Gradient Boosting Regressor"
   ]
  },
  {
   "cell_type": "code",
   "execution_count": 7,
   "id": "7bdef30d-52fa-4192-9299-8bc2ef6f83de",
   "metadata": {
    "tags": []
   },
   "outputs": [
    {
     "name": "stdout",
     "output_type": "stream",
     "text": [
      "Best Hyperparameters (Gradient Boosting): OrderedDict([('learning_rate', 0.1), ('max_depth', 5), ('max_features', 'sqrt'), ('min_samples_leaf', 2), ('min_samples_split', 3), ('n_estimators', 100), ('subsample', 0.8)])\n",
      "Test MSE: 0.00201597194790447\n",
      "Test R-squared: 0.7218887762249582\n",
      "Model execution time: 2.95 minutes\n"
     ]
    }
   ],
   "source": [
    "start_time = time.time()\n",
    "\n",
    "# Define the hyperparameter grid\n",
    "param_grid_gb = {\n",
    "    'n_estimators': [100, 300],       # No. of boosting stages\n",
    "    'learning_rate': [0.05, 0.1],     # Learning rate\n",
    "    'max_depth': [3, 5],              # Max depth of the individual trees\n",
    "    'min_samples_split': [2, 5],      # Min no. of samples required to split an internal node\n",
    "    'min_samples_leaf': [1, 2],       # Min no. of samples required to be at a leaf node\n",
    "    'subsample': [0.6, 0.8],          # Fraction of samples used to fit individual base learners\n",
    "    'max_features': ['log2', 'sqrt']  # No. of features to consider when looking for best split\n",
    "}\n",
    "\n",
    "# Initialize GradientBoostingRegressor\n",
    "gb_model = GradientBoostingRegressor(random_state=28)\n",
    "\n",
    "# Initialize BayesSearchCV\n",
    "bayes_search_gb = BayesSearchCV(estimator=gb_model, \n",
    "                                search_spaces=param_grid_gb,\n",
    "                                n_iter=50, \n",
    "                                scoring='r2', \n",
    "                                cv=5, \n",
    "                                random_state=28)\n",
    "\n",
    "# Perform random search\n",
    "bayes_search_gb.fit(X_train, y_train)\n",
    "\n",
    "# Get the best hyperparameters\n",
    "best_params_gb = bayes_search_gb.best_params_\n",
    "print(\"Best Hyperparameters (Gradient Boosting):\", best_params_gb)\n",
    "\n",
    "# Get the best model\n",
    "best_gb_model = bayes_search_gb.best_estimator_\n",
    "\n",
    "# Make predictions on the test data using the best model\n",
    "y_pred_gb = best_gb_model.predict(X_test)\n",
    "\n",
    "# Evaluate the best model using mean squared error and R-squared\n",
    "test_mse_gb = mean_squared_error(y_test, y_pred_gb)\n",
    "test_r2_gb = r2_score(y_test, y_pred_gb)\n",
    "\n",
    "print(\"Test MSE:\", test_mse_gb)\n",
    "print(\"Test R-squared:\", test_r2_gb)\n",
    "\n",
    "end_time = time.time()\n",
    "execution_time = end_time - start_time\n",
    "print(f\"Model execution time: {round(execution_time/60, 2)} minutes\")"
   ]
  },
  {
   "cell_type": "code",
   "execution_count": 9,
   "id": "5e38eabc-fcdb-43ea-ba71-31861cb2f8da",
   "metadata": {
    "tags": []
   },
   "outputs": [
    {
     "name": "stdout",
     "output_type": "stream",
     "text": [
      "Feature Importance (Gradient Boosting):\n",
      "PER : 0.20283556045728554\n",
      "WS : 0.2021439619599215\n",
      "VORP : 0.16730405106332624\n",
      "Overall : 0.1336905582701568\n",
      "OBPM : 0.10745108074991937\n",
      "WS/48 : 0.048398717168221715\n",
      "OWS : 0.0433850946098698\n",
      "FTA : 0.04121132470698124\n",
      "BPM : 0.02682512030261072\n",
      "Trp Dbl : 0.026754530711707126\n"
     ]
    }
   ],
   "source": [
    "# Get feature importance\n",
    "feature_importance_gb = best_gb_model.feature_importances_\n",
    "\n",
    "# Match feature importance with corresponding feature names\n",
    "feature_importance_dict_gb = dict(zip(feature_names, feature_importance_gb))\n",
    "\n",
    "# Sort feature importance in descending order\n",
    "sorted_feature_importance_gb = sorted(feature_importance_dict_gb.items(), key=lambda x: x[1], reverse=True)\n",
    "\n",
    "# Print feature importance\n",
    "print(\"Feature Importance (Gradient Boosting):\")\n",
    "for feature, importance in sorted_feature_importance_gb:\n",
    "    print(feature, \":\", importance)"
   ]
  },
  {
   "cell_type": "markdown",
   "id": "a5f0b389-39dd-47c3-a488-46f539f8033f",
   "metadata": {},
   "source": [
    "---\n",
    "\n",
    "## XGBoost Regressor"
   ]
  },
  {
   "cell_type": "code",
   "execution_count": 10,
   "id": "b7e4aad2-1048-400c-8858-861d4e718366",
   "metadata": {
    "tags": []
   },
   "outputs": [
    {
     "name": "stdout",
     "output_type": "stream",
     "text": [
      "Best Hyperparameters: OrderedDict([('colsample_bytree', 1.0), ('gamma', 0.03034458355751161), ('learning_rate', 0.15882876989003716), ('max_depth', 9), ('min_child_weight', 10), ('n_estimators', 500), ('reg_alpha', 0.47603965651139946), ('reg_lambda', 0.21044957096165887), ('subsample', 0.705428321221764)])\n",
      "Test MSE (Best XGBoost): 0.0022584189376174263\n",
      "Test R-squared (Best XGBoost): 0.6884422646900465\n",
      "Model execution time: 1.18 minutes\n"
     ]
    }
   ],
   "source": [
    "start_time = time.time()\n",
    "\n",
    "# Define the hyperparameter search space\n",
    "param_space = {\n",
    "    'n_estimators': (100, 500),      # No. of trees in the forest\n",
    "    'learning_rate': (0.01, 0.3),    # Learning rate\n",
    "    'max_depth': (3, 10),            # Max depth of each tree\n",
    "    'min_child_weight': (1, 10),     # Min sum of instance weight needed in a child\n",
    "    'subsample': (0.6, 1.0),         # Subsample ratio of the training instance\n",
    "    'colsample_bytree': (0.6, 1.0),  # Subsample ratio of columns when constructing each tree\n",
    "    'gamma': (0, 0.5),               # Min loss reduction to further partition on a leaf node\n",
    "    'reg_alpha': (0, 1.0),           # L1 reg term on weights\n",
    "    'reg_lambda': (0, 1.0)           # L2 reg term on weights\n",
    "}\n",
    "\n",
    "# Initialize XGBRegressor\n",
    "xgb_model = XGBRegressor(random_state=28)\n",
    "\n",
    "# Initialize BayesSearchCV\n",
    "bayes_search = BayesSearchCV(estimator=xgb_model, \n",
    "                             search_spaces=param_space,\n",
    "                             n_iter=50, \n",
    "                             scoring='r2', \n",
    "                             cv=5, \n",
    "                             random_state=28, \n",
    "                             n_jobs=-1)\n",
    "\n",
    "# Perform Bayesian Optimization\n",
    "bayes_search.fit(X_train, y_train)\n",
    "\n",
    "# Get the best hyperparameters\n",
    "best_params = bayes_search.best_params_\n",
    "print(\"Best Hyperparameters:\", best_params)\n",
    "\n",
    "# Get the best model\n",
    "best_xgb_model = bayes_search.best_estimator_\n",
    "\n",
    "# Make predictions on the test data using the best model\n",
    "y_pred_xgb = best_xgb_model.predict(X_test)\n",
    "\n",
    "# Evaluate the best model using mean squared error and R-squared\n",
    "test_mse_xgb = mean_squared_error(y_test, y_pred_xgb)\n",
    "test_r2_xgb = r2_score(y_test, y_pred_xgb)\n",
    "\n",
    "print(\"Test MSE (Best XGBoost):\", test_mse_xgb)\n",
    "print(\"Test R-squared (Best XGBoost):\", test_r2_xgb)\n",
    "\n",
    "end_time = time.time()\n",
    "execution_time = end_time - start_time\n",
    "\n",
    "print(f\"Model execution time: {round(execution_time/60, 2)} minutes\")"
   ]
  },
  {
   "cell_type": "code",
   "execution_count": 11,
   "id": "4d31dfc5-ef36-42ec-8916-d00d73b4ae8b",
   "metadata": {
    "tags": []
   },
   "outputs": [
    {
     "name": "stdout",
     "output_type": "stream",
     "text": [
      "Feature Importance:\n",
      "PER : 0.37427956\n",
      "WS : 0.29187375\n",
      "OBPM : 0.08723193\n",
      "Overall : 0.08121477\n",
      "VORP : 0.044685517\n",
      "Trp Dbl : 0.03182217\n",
      "BPM : 0.030535042\n",
      "FTA : 0.024004066\n",
      "OWS : 0.01767192\n",
      "WS/48 : 0.01668127\n"
     ]
    }
   ],
   "source": [
    "# Get feature importance\n",
    "feature_importance = best_xgb_model.feature_importances_\n",
    "\n",
    "# Match feature importance with corresponding feature names\n",
    "feature_importance_dict = dict(zip(feature_names, feature_importance))\n",
    "\n",
    "# Sort feature importance in descending order\n",
    "sorted_feature_importance = sorted(feature_importance_dict.items(), key=lambda x: x[1], reverse=True)\n",
    "\n",
    "# Print feature importance\n",
    "print(\"Feature Importance:\")\n",
    "for feature, importance in sorted_feature_importance:\n",
    "    print(feature, \":\", importance)"
   ]
  },
  {
   "cell_type": "markdown",
   "id": "0359c870-1bac-480a-87a7-b9971342d46d",
   "metadata": {},
   "source": [
    "---\n",
    "\n",
    "## Multilayer Perceptron"
   ]
  },
  {
   "cell_type": "code",
   "execution_count": 12,
   "id": "28b56232-2d0e-449a-b017-5b2f1b9de144",
   "metadata": {
    "tags": []
   },
   "outputs": [
    {
     "name": "stdout",
     "output_type": "stream",
     "text": [
      "Best Hyperparameters (MLP): {'max_iter': 400, 'learning_rate_init': 0.001, 'hidden_layer_sizes': (100, 50), 'alpha': 0.0001, 'activation': 'relu'}\n",
      "Test MSE (Best MLP): 0.004068857289202184\n",
      "Test R-squared (Best MLP): 0.4386852052964969\n",
      "Model execution time: 3.06 minutes\n"
     ]
    }
   ],
   "source": [
    "start_time = time.time()\n",
    "\n",
    "# Define the hyperparameter grid\n",
    "param_grid_mlp = {\n",
    "    'hidden_layer_sizes': [(50,), (100,), (50, 50), (100, 50)],  # No. of neurons in each hidden layer\n",
    "    'activation': ['relu'],                                      # Activation function\n",
    "    'alpha': [0.0001, 0.001, 0.01],                              # Regularization parameter\n",
    "    'learning_rate_init': [0.001, 0.01, 0.1],                    # Initial learning rate\n",
    "    'max_iter': [300, 400],                                      # Max no. of iterations\n",
    "}\n",
    "\n",
    "# Initialize MLPRegressor\n",
    "mlp_model = MLPRegressor(random_state=28)\n",
    "\n",
    "# Initialize RandomizedSearchCV\n",
    "random_search_mlp = RandomizedSearchCV(estimator=mlp_model, \n",
    "                                       param_distributions=param_grid_mlp,\n",
    "                                       n_iter=50, \n",
    "                                       scoring='r2', \n",
    "                                       cv=5, \n",
    "                                       random_state=28)\n",
    "\n",
    "# Perform random search\n",
    "random_search_mlp.fit(X_train, y_train)\n",
    "\n",
    "# Get the best hyperparameters\n",
    "best_params_mlp = random_search_mlp.best_params_\n",
    "print(\"Best Hyperparameters (MLP):\", best_params_mlp)\n",
    "\n",
    "# Get the best model\n",
    "best_mlp_model = random_search_mlp.best_estimator_\n",
    "\n",
    "# Make predictions on the test data using the best model\n",
    "y_pred_mlp = best_mlp_model.predict(X_test)\n",
    "\n",
    "# Evaluate the best model using mean squared error and R-squared\n",
    "test_mse_mlp = mean_squared_error(y_test, y_pred_mlp)\n",
    "test_r2_mlp = r2_score(y_test, y_pred_mlp)\n",
    "\n",
    "print(\"Test MSE (Best MLP):\", test_mse_mlp)\n",
    "print(\"Test R-squared (Best MLP):\", test_r2_mlp)\n",
    "\n",
    "end_time = time.time()\n",
    "execution_time = end_time - start_time\n",
    "print(f\"Model execution time: {round(execution_time/60, 2)} minutes\")"
   ]
  },
  {
   "cell_type": "markdown",
   "id": "2c53eced-6be5-429f-bb06-f1d7cdff4b03",
   "metadata": {
    "tags": []
   },
   "source": [
    "---\n",
    "\n",
    "# Model Comparisons"
   ]
  },
  {
   "cell_type": "code",
   "execution_count": 13,
   "id": "7aeeb777-16b5-4ff7-8b34-07b225b3f97f",
   "metadata": {
    "tags": []
   },
   "outputs": [
    {
     "data": {
      "image/png": "[encoded data removed]",
      "text/plain": [
       "<Figure size 1000x400 with 2 Axes>"
      ]
     },
     "metadata": {},
     "output_type": "display_data"
    }
   ],
   "source": [
    "# Data for R-squared values\n",
    "r_sqs = [test_r2_rf, test_r2_gb, test_r2_xgb, test_r2_mlp]\n",
    "\n",
    "# Data for MSE values\n",
    "MSE_s = [test_mse_rf, test_mse_gb, test_mse_xgb, test_mse_mlp]\n",
    "\n",
    "# List of model names\n",
    "model_names = ['RF', 'GB', 'XGBoost', 'MLP']\n",
    "\n",
    "# Determine colors for R-squared bars\n",
    "r_sq_colors = ['#E57200' if r == max(r_sqs) else '#232D4B' for r in r_sqs]\n",
    "\n",
    "# Determine colors for MSE bars\n",
    "mse_colors = ['#E57200' if mse == min(MSE_s) else '#232D4B' for mse in MSE_s]\n",
    "\n",
    "# Create a figure with two subplots\n",
    "fig, axs = plt.subplots(1, 2, figsize=(10, 4))\n",
    "\n",
    "# Plot the R-squared values\n",
    "axs[0].bar(model_names, r_sqs, color=r_sq_colors)\n",
    "axs[0].set_xlabel('Model', fontdict={'fontsize': 10, 'fontweight': 'bold'})\n",
    "axs[0].set_ylabel('R-squared', fontdict={'fontsize': 10, 'fontweight': 'bold'})\n",
    "axs[0].set_title('Model R-squared Values', fontdict={'fontsize': 12, 'fontweight': 'bold'})\n",
    "axs[0].tick_params(axis='x', rotation=0)\n",
    "axs[0].set_ylim(0, 1)\n",
    "\n",
    "# Plot the MSE values\n",
    "axs[1].bar(model_names, MSE_s, color=mse_colors)\n",
    "axs[1].set_xlabel('Model', fontdict={'fontsize': 10, 'fontweight': 'bold'})\n",
    "axs[1].set_ylabel('MSE', fontdict={'fontsize': 10, 'fontweight': 'bold'})\n",
    "axs[1].set_title('Model MSE Values', fontdict={'fontsize': 12, 'fontweight': 'bold'})\n",
    "axs[1].tick_params(axis='x', rotation=0)\n",
    "axs[1].set_ylim(0, 0.005)\n",
    "\n",
    "# Adjust layout to prevent overlap\n",
    "plt.tight_layout()\n",
    "\n",
    "# Show the plot\n",
    "plt.show()"
   ]
  },
  {
   "cell_type": "code",
   "execution_count": 14,
   "id": "bbb7eab7-3b5b-4819-9012-63c66557b52d",
   "metadata": {
    "tags": []
   },
   "outputs": [
    {
     "data": {
      "text/plain": [
       "['best_xgb_model.pkl']"
      ]
     },
     "execution_count": 14,
     "metadata": {},
     "output_type": "execute_result"
    }
   ],
   "source": [
    "import joblib\n",
    "\n",
    "# Save the best model\n",
    "joblib.dump(best_xgb_model, 'best_xgb_model.pkl')"
   ]
  }
 ],
 "metadata": {
  "kernelspec": {
   "display_name": "Python 3 (ipykernel)",
   "language": "python",
   "name": "python3"
  },
  "language_info": {
   "codemirror_mode": {
    "name": "ipython",
    "version": 3
   },
   "file_extension": ".py",
   "mimetype": "text/x-python",
   "name": "python",
   "nbconvert_exporter": "python",
   "pygments_lexer": "ipython3",
   "version": "3.11.4"
  }
 },
 "nbformat": 4,
 "nbformat_minor": 5
}
